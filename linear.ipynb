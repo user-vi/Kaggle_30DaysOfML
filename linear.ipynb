{
 "cells": [
  {
   "cell_type": "code",
   "execution_count": 7,
   "metadata": {},
   "outputs": [],
   "source": [
    "# import sklearn.neighbors._base\n",
    "# import sys\n",
    "# sys.modules['sklearn.neighbors.base'] = sklearn.neighbors._base\n",
    "\n",
    "import datetime\n",
    "from sklearn import metrics, model_selection, ensemble\n",
    "import pandas as pd\n",
    "import numpy as np\n",
    "from sklearn.pipeline import Pipeline\n",
    "from sklearn.model_selection import train_test_split\n",
    "from sklearn.compose import ColumnTransformer\n",
    "from sklearn.impute import SimpleImputer\n",
    "from sklearn.preprocessing import StandardScaler, OneHotEncoder\n",
    "from sklearn.preprocessing import PowerTransformer\n",
    "from sklearn.ensemble import RandomForestClassifier\n",
    "from sklearn.metrics import precision_recall_curve\n",
    "from sklearn.metrics import plot_precision_recall_curve\n",
    "from sklearn.metrics import precision_score\n",
    "from sklearn.metrics import recall_score\n",
    "from sklearn.metrics import make_scorer\n",
    "from sklearn.model_selection import TimeSeriesSplit\n",
    "from sklearn.model_selection import cross_val_score\n",
    "\n",
    "from sklearn.preprocessing import KBinsDiscretizer\n",
    "import xgboost as xgb\n",
    "from sklearn import linear_model\n",
    "from sklearn.neighbors import KNeighborsRegressor\n",
    "from sklearn.metrics import mean_squared_error"
   ]
  },
  {
   "cell_type": "code",
   "execution_count": 8,
   "metadata": {},
   "outputs": [],
   "source": [
    "try:\n",
    "    from catboost import Pool, CatBoostRegressor, cv\n",
    "except:\n",
    "    !pip install catboost \n",
    "    from catboost import Pool, CatBoostRegressor, cv"
   ]
  },
  {
   "cell_type": "code",
   "execution_count": 9,
   "metadata": {},
   "outputs": [],
   "source": [
    "try:\n",
    "    from CustomPipeline import *\n",
    "except:\n",
    "    import sys\n",
    "    sys.path.insert(0,'/content/sample_data')\n",
    "    from CustomPipeline import *\n",
    "    print(\"ok\")"
   ]
  },
  {
   "cell_type": "code",
   "execution_count": 10,
   "metadata": {},
   "outputs": [],
   "source": [
    "try: \n",
    "    import optuna\n",
    "except:\n",
    "    !pip install optuna\n",
    "    import optuna"
   ]
  },
  {
   "cell_type": "code",
   "execution_count": 11,
   "metadata": {},
   "outputs": [],
   "source": [
    "try:\n",
    "    train = pd.read_csv(\"./train_for_crossval.csv\", delimiter=\",\", sep='.')\n",
    "except:\n",
    "    train = pd.read_csv(\"./sample_data/train_for_crossval.csv\", delimiter=\",\", sep='.')"
   ]
  },
  {
   "cell_type": "code",
   "execution_count": 12,
   "metadata": {},
   "outputs": [],
   "source": [
    "X = train.query(\"target > 6\").drop([\"target\"], axis=1)\n",
    "y = train.query(\"target > 6\")[\"target\"] * 100"
   ]
  },
  {
   "cell_type": "code",
   "execution_count": 13,
   "metadata": {},
   "outputs": [],
   "source": [
    "num_train = train.select_dtypes([int, float])\n",
    "cat_train = train.select_dtypes(object)\n",
    "\n",
    "num = list(num_train.drop(['target'],axis=1))\n",
    "cat = list(cat_train)"
   ]
  },
  {
   "cell_type": "code",
   "execution_count": 20,
   "metadata": {},
   "outputs": [],
   "source": [
    "rmse = make_scorer(mean_squared_error, squared=False)\n",
    "\n",
    "pipeline_num = Pipeline(steps=[\n",
    "    ('imputer', SimpleImputer(strategy='median')),\n",
    "    ('scaling', StandardScaler()),  \n",
    "    ('normal', PowerTransformer()), \n",
    "#     ('bins', KBinsDiscretizer(n_bins = self.n_bins))\n",
    "])\n",
    "\n",
    "pipeline_cat = Pipeline(steps=[\n",
    "    ('imputer', SimpleImputer(strategy='most_frequent')),\n",
    "    ('encoding', OneHotEncoder(handle_unknown='ignore')),\n",
    "])\n",
    "\n",
    "preprocessor = ColumnTransformer(\n",
    "    transformers=[\n",
    "        ('num', pipeline_num, num),\n",
    "        ('cat', pipeline_cat, cat),\n",
    "        ], remainder=\"drop\")\n",
    "\n",
    "def objective(trial):\n",
    "    \n",
    "    param_model = {\n",
    "        'alpha': trial.suggest_loguniform('alpha', 1e-3, 100.0),\n",
    "    }\n",
    "    \n",
    "#     param_preprocessor = {\n",
    "#         'n_bins': trial.suggest_int('n_bins', 50, 90),\n",
    "#     }\n",
    "    \n",
    "#     preprocessor = CustomPipeline(num_columns=num, cat_columns=cat, **param_preprocessor).get_preprocessor()\n",
    "    \n",
    "#     pipeline_ridge = PipelineModelModel(preprocessor, linear_model.Ridge(**param_model))\n",
    "    \n",
    "    pipeline_ridge = Pipeline(steps=[('preprocessor', preprocessor),  \n",
    "                                     ('model', linear_model.Ridge(**param_model)),\n",
    "                                     ])\n",
    "\n",
    "    rmse_mean_cv = cross_val_score(pipeline_ridge, X, y, cv=5, scoring=rmse)\n",
    "    print(rmse_mean_cv)\n",
    "\n",
    "    return rmse_mean_cv.mean()"
   ]
  },
  {
   "cell_type": "code",
   "execution_count": 21,
   "metadata": {},
   "outputs": [
    {
     "name": "stderr",
     "output_type": "stream",
     "text": [
      "\u001b[32m[I 2021-08-27 14:22:50,888]\u001b[0m A new study created in memory with name: no-name-b445a9d7-2e1d-4222-bc37-852a3cdc3548\u001b[0m\n",
      "\u001b[32m[I 2021-08-27 14:23:12,610]\u001b[0m Trial 0 finished with value: 72.93788029344756 and parameters: {'alpha': 0.007009659502738396}. Best is trial 0 with value: 72.93788029344756.\u001b[0m\n"
     ]
    },
    {
     "name": "stdout",
     "output_type": "stream",
     "text": [
      "[72.48309911 73.0764727  73.38181441 73.02144378 72.72657146]\n"
     ]
    },
    {
     "name": "stderr",
     "output_type": "stream",
     "text": [
      "\u001b[32m[I 2021-08-27 14:23:28,616]\u001b[0m Trial 1 finished with value: 72.92947686962509 and parameters: {'alpha': 0.05444988082574249}. Best is trial 1 with value: 72.92947686962509.\u001b[0m\n"
     ]
    },
    {
     "name": "stdout",
     "output_type": "stream",
     "text": [
      "[72.47568833 73.06331972 73.37181345 73.01985521 72.71670763]\n"
     ]
    },
    {
     "name": "stderr",
     "output_type": "stream",
     "text": [
      "\u001b[32m[I 2021-08-27 14:23:44,809]\u001b[0m Trial 2 finished with value: 72.92914489881133 and parameters: {'alpha': 0.04628995455938748}. Best is trial 2 with value: 72.92914489881133.\u001b[0m\n"
     ]
    },
    {
     "name": "stdout",
     "output_type": "stream",
     "text": [
      "[72.47416234 73.06408005 73.37188138 73.01885493 72.71674579]\n"
     ]
    },
    {
     "name": "stderr",
     "output_type": "stream",
     "text": [
      "\u001b[32m[I 2021-08-27 14:24:07,497]\u001b[0m Trial 3 finished with value: 72.93910935926233 and parameters: {'alpha': 0.005398764004963791}. Best is trial 2 with value: 72.92914489881133.\u001b[0m\n"
     ]
    },
    {
     "name": "stdout",
     "output_type": "stream",
     "text": [
      "[72.48580695 73.07744541 73.38371294 73.02122862 72.72735288]\n"
     ]
    },
    {
     "name": "stderr",
     "output_type": "stream",
     "text": [
      "\u001b[32m[I 2021-08-27 14:24:22,464]\u001b[0m Trial 4 finished with value: 73.75428583094131 and parameters: {'alpha': 6.86889851354573}. Best is trial 2 with value: 72.92914489881133.\u001b[0m\n"
     ]
    },
    {
     "name": "stdout",
     "output_type": "stream",
     "text": [
      "[73.27839186 73.88746484 74.24965357 73.81545753 73.54046136]\n"
     ]
    },
    {
     "name": "stderr",
     "output_type": "stream",
     "text": [
      "\u001b[32m[I 2021-08-27 14:24:38,280]\u001b[0m Trial 5 finished with value: 72.99318318846402 and parameters: {'alpha': 0.5193151900487678}. Best is trial 2 with value: 72.92914489881133.\u001b[0m\n"
     ]
    },
    {
     "name": "stdout",
     "output_type": "stream",
     "text": [
      "[72.54671249 73.10237894 73.45462335 73.07460568 72.78759548]\n"
     ]
    },
    {
     "name": "stderr",
     "output_type": "stream",
     "text": [
      "\u001b[32m[I 2021-08-27 14:24:54,270]\u001b[0m Trial 6 finished with value: 72.92966803718078 and parameters: {'alpha': 0.05808422360014425}. Best is trial 2 with value: 72.92914489881133.\u001b[0m\n"
     ]
    },
    {
     "name": "stdout",
     "output_type": "stream",
     "text": [
      "[72.47639411 73.06301577 73.37187348 73.02031783 72.716739  ]\n"
     ]
    },
    {
     "name": "stderr",
     "output_type": "stream",
     "text": [
      "\u001b[32m[I 2021-08-27 14:25:10,746]\u001b[0m Trial 7 finished with value: 72.93074474413311 and parameters: {'alpha': 0.024318619209938355}. Best is trial 2 with value: 72.92914489881133.\u001b[0m\n"
     ]
    },
    {
     "name": "stdout",
     "output_type": "stream",
     "text": [
      "[72.47202806 73.06777322 73.37431533 73.01889134 72.72071577]\n"
     ]
    },
    {
     "name": "stderr",
     "output_type": "stream",
     "text": [
      "\u001b[32m[I 2021-08-27 14:25:26,157]\u001b[0m Trial 8 finished with value: 73.17591326823636 and parameters: {'alpha': 1.1360667003295353}. Best is trial 2 with value: 72.92914489881133.\u001b[0m\n"
     ]
    },
    {
     "name": "stdout",
     "output_type": "stream",
     "text": [
      "[72.71600274 73.27268349 73.65013822 73.23123656 73.00950534]\n"
     ]
    },
    {
     "name": "stderr",
     "output_type": "stream",
     "text": [
      "\u001b[32m[I 2021-08-27 14:25:41,630]\u001b[0m Trial 9 finished with value: 72.9525816386327 and parameters: {'alpha': 0.26745615764303565}. Best is trial 2 with value: 72.92914489881133.\u001b[0m\n"
     ]
    },
    {
     "name": "stdout",
     "output_type": "stream",
     "text": [
      "[72.5101524  73.06758945 73.40817154 73.04278914 72.73420567]\n"
     ]
    }
   ],
   "source": [
    "study = optuna.create_study(direction=\"minimize\", pruner=optuna.pruners.MedianPruner())\n",
    "study.optimize(objective, n_trials=5)"
   ]
  },
  {
   "cell_type": "code",
   "execution_count": null,
   "metadata": {},
   "outputs": [],
   "source": [
    "# 73.63670041849919 с бинами\n",
    "# 73.9315395633810 без бинов\n",
    "# 74.38762034243373 pca + бины\n",
    "# 73.61114198701696 бины+кластер\n",
    "# 73.10832265456563 настраеваемые бины\n",
    "# 71.47909093792476 kaggle\n",
    "# 0.7110066356517013 без умножения на 100\n",
    "# 71.0780270945487. c умножением на 100\n",
    "# lasso с бинами"
   ]
  },
  {
   "cell_type": "code",
   "execution_count": null,
   "metadata": {},
   "outputs": [],
   "source": [
    "best_params = study.best_trial.params\n",
    "best_params"
   ]
  }
 ],
 "metadata": {
  "kernelspec": {
   "display_name": "Python 3",
   "language": "python",
   "name": "python3"
  },
  "language_info": {
   "codemirror_mode": {
    "name": "ipython",
    "version": 3
   },
   "file_extension": ".py",
   "mimetype": "text/x-python",
   "name": "python",
   "nbconvert_exporter": "python",
   "pygments_lexer": "ipython3",
   "version": "3.7.4"
  }
 },
 "nbformat": 4,
 "nbformat_minor": 2
}

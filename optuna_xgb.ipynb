{
 "cells": [
  {
   "cell_type": "code",
   "execution_count": 2,
   "metadata": {},
   "outputs": [
    {
     "name": "stderr",
     "output_type": "stream",
     "text": [
      "C:\\ProgramData\\Anaconda3\\lib\\site-packages\\dask\\dataframe\\utils.py:14: FutureWarning: pandas.util.testing is deprecated. Use the functions in the public API at pandas.testing instead.\n",
      "  import pandas.util.testing as tm\n"
     ]
    }
   ],
   "source": [
    "from sklearn import metrics, model_selection, ensemble\n",
    "import pandas as pd\n",
    "import numpy as np\n",
    "from sklearn.pipeline import Pipeline\n",
    "from sklearn.model_selection import train_test_split\n",
    "from sklearn.compose import ColumnTransformer\n",
    "from sklearn.impute import SimpleImputer\n",
    "from sklearn.preprocessing import StandardScaler, OneHotEncoder\n",
    "from sklearn.preprocessing import PowerTransformer\n",
    "from sklearn.ensemble import RandomForestClassifier\n",
    "from sklearn.metrics import precision_recall_curve\n",
    "from sklearn.metrics import plot_precision_recall_curve\n",
    "from sklearn.metrics import precision_score\n",
    "from sklearn.metrics import recall_score\n",
    "from sklearn.metrics import make_scorer\n",
    "from sklearn.model_selection import TimeSeriesSplit\n",
    "from sklearn.model_selection import cross_val_score\n",
    "\n",
    "from sklearn.preprocessing import KBinsDiscretizer\n",
    "import xgboost as xgb\n",
    "from sklearn import linear_model\n",
    "from sklearn.neighbors import KNeighborsRegressor\n",
    "from sklearn.metrics import mean_squared_error\n",
    "import xgboost"
   ]
  },
  {
   "cell_type": "code",
   "execution_count": 3,
   "metadata": {},
   "outputs": [],
   "source": [
    "try: \n",
    "    import optuna\n",
    "except:\n",
    "    !pip install optuna\n",
    "    import optuna"
   ]
  },
  {
   "cell_type": "code",
   "execution_count": 4,
   "metadata": {},
   "outputs": [],
   "source": [
    "try:\n",
    "    train = pd.read_csv(\"./train_for_crossval.csv\", delimiter=\",\", sep='.')\n",
    "except:\n",
    "    train = pd.read_csv(\"./sample_data/train_for_crossval.csv\", delimiter=\",\", sep='.')"
   ]
  },
  {
   "cell_type": "code",
   "execution_count": 5,
   "metadata": {},
   "outputs": [
    {
     "data": {
      "text/html": [
       "<div>\n",
       "<style scoped>\n",
       "    .dataframe tbody tr th:only-of-type {\n",
       "        vertical-align: middle;\n",
       "    }\n",
       "\n",
       "    .dataframe tbody tr th {\n",
       "        vertical-align: top;\n",
       "    }\n",
       "\n",
       "    .dataframe thead th {\n",
       "        text-align: right;\n",
       "    }\n",
       "</style>\n",
       "<table border=\"1\" class=\"dataframe\">\n",
       "  <thead>\n",
       "    <tr style=\"text-align: right;\">\n",
       "      <th></th>\n",
       "      <th>cat0</th>\n",
       "      <th>cat1</th>\n",
       "      <th>cat2</th>\n",
       "      <th>cat3</th>\n",
       "      <th>cat4</th>\n",
       "      <th>cat5</th>\n",
       "      <th>cat6</th>\n",
       "      <th>cat7</th>\n",
       "      <th>cat8</th>\n",
       "      <th>cat9</th>\n",
       "      <th>...</th>\n",
       "      <th>cont6</th>\n",
       "      <th>cont7</th>\n",
       "      <th>cont8</th>\n",
       "      <th>cont9</th>\n",
       "      <th>cont10</th>\n",
       "      <th>cont11</th>\n",
       "      <th>cont12</th>\n",
       "      <th>cont13</th>\n",
       "      <th>target</th>\n",
       "      <th>anomaly_col</th>\n",
       "    </tr>\n",
       "  </thead>\n",
       "  <tbody>\n",
       "    <tr>\n",
       "      <th>0</th>\n",
       "      <td>B</td>\n",
       "      <td>A</td>\n",
       "      <td>A</td>\n",
       "      <td>C</td>\n",
       "      <td>B</td>\n",
       "      <td>B</td>\n",
       "      <td>A</td>\n",
       "      <td>E</td>\n",
       "      <td>E</td>\n",
       "      <td>I</td>\n",
       "      <td>...</td>\n",
       "      <td>0.449762</td>\n",
       "      <td>0.281378</td>\n",
       "      <td>0.566167</td>\n",
       "      <td>0.564149</td>\n",
       "      <td>0.094746</td>\n",
       "      <td>0.347672</td>\n",
       "      <td>0.948445</td>\n",
       "      <td>0.410370</td>\n",
       "      <td>7.200575</td>\n",
       "      <td>Norm</td>\n",
       "    </tr>\n",
       "    <tr>\n",
       "      <th>1</th>\n",
       "      <td>A</td>\n",
       "      <td>A</td>\n",
       "      <td>A</td>\n",
       "      <td>C</td>\n",
       "      <td>B</td>\n",
       "      <td>D</td>\n",
       "      <td>A</td>\n",
       "      <td>E</td>\n",
       "      <td>A</td>\n",
       "      <td>I</td>\n",
       "      <td>...</td>\n",
       "      <td>0.562349</td>\n",
       "      <td>0.349834</td>\n",
       "      <td>0.953103</td>\n",
       "      <td>0.808620</td>\n",
       "      <td>0.663709</td>\n",
       "      <td>0.503259</td>\n",
       "      <td>0.692824</td>\n",
       "      <td>0.760255</td>\n",
       "      <td>9.857370</td>\n",
       "      <td>Norm</td>\n",
       "    </tr>\n",
       "    <tr>\n",
       "      <th>2</th>\n",
       "      <td>A</td>\n",
       "      <td>B</td>\n",
       "      <td>A</td>\n",
       "      <td>C</td>\n",
       "      <td>B</td>\n",
       "      <td>B</td>\n",
       "      <td>A</td>\n",
       "      <td>E</td>\n",
       "      <td>E</td>\n",
       "      <td>G</td>\n",
       "      <td>...</td>\n",
       "      <td>0.339495</td>\n",
       "      <td>0.365626</td>\n",
       "      <td>0.471769</td>\n",
       "      <td>0.318679</td>\n",
       "      <td>0.249393</td>\n",
       "      <td>0.352284</td>\n",
       "      <td>0.334168</td>\n",
       "      <td>0.265968</td>\n",
       "      <td>8.476475</td>\n",
       "      <td>Norm</td>\n",
       "    </tr>\n",
       "    <tr>\n",
       "      <th>3</th>\n",
       "      <td>A</td>\n",
       "      <td>B</td>\n",
       "      <td>A</td>\n",
       "      <td>C</td>\n",
       "      <td>B</td>\n",
       "      <td>B</td>\n",
       "      <td>A</td>\n",
       "      <td>E</td>\n",
       "      <td>C</td>\n",
       "      <td>I</td>\n",
       "      <td>...</td>\n",
       "      <td>0.607722</td>\n",
       "      <td>0.653107</td>\n",
       "      <td>0.555535</td>\n",
       "      <td>0.671799</td>\n",
       "      <td>0.573051</td>\n",
       "      <td>0.391958</td>\n",
       "      <td>-0.072907</td>\n",
       "      <td>0.524188</td>\n",
       "      <td>8.015375</td>\n",
       "      <td>Norm</td>\n",
       "    </tr>\n",
       "    <tr>\n",
       "      <th>4</th>\n",
       "      <td>B</td>\n",
       "      <td>A</td>\n",
       "      <td>A</td>\n",
       "      <td>C</td>\n",
       "      <td>B</td>\n",
       "      <td>D</td>\n",
       "      <td>A</td>\n",
       "      <td>E</td>\n",
       "      <td>C</td>\n",
       "      <td>H</td>\n",
       "      <td>...</td>\n",
       "      <td>0.902596</td>\n",
       "      <td>0.892918</td>\n",
       "      <td>0.721439</td>\n",
       "      <td>0.346334</td>\n",
       "      <td>0.119194</td>\n",
       "      <td>0.413215</td>\n",
       "      <td>0.423083</td>\n",
       "      <td>0.264100</td>\n",
       "      <td>10.375199</td>\n",
       "      <td>Norm</td>\n",
       "    </tr>\n",
       "    <tr>\n",
       "      <th>...</th>\n",
       "      <td>...</td>\n",
       "      <td>...</td>\n",
       "      <td>...</td>\n",
       "      <td>...</td>\n",
       "      <td>...</td>\n",
       "      <td>...</td>\n",
       "      <td>...</td>\n",
       "      <td>...</td>\n",
       "      <td>...</td>\n",
       "      <td>...</td>\n",
       "      <td>...</td>\n",
       "      <td>...</td>\n",
       "      <td>...</td>\n",
       "      <td>...</td>\n",
       "      <td>...</td>\n",
       "      <td>...</td>\n",
       "      <td>...</td>\n",
       "      <td>...</td>\n",
       "      <td>...</td>\n",
       "      <td>...</td>\n",
       "      <td>...</td>\n",
       "    </tr>\n",
       "    <tr>\n",
       "      <th>89995</th>\n",
       "      <td>A</td>\n",
       "      <td>A</td>\n",
       "      <td>A</td>\n",
       "      <td>C</td>\n",
       "      <td>B</td>\n",
       "      <td>D</td>\n",
       "      <td>A</td>\n",
       "      <td>D</td>\n",
       "      <td>A</td>\n",
       "      <td>F</td>\n",
       "      <td>...</td>\n",
       "      <td>0.594021</td>\n",
       "      <td>1.032560</td>\n",
       "      <td>0.905694</td>\n",
       "      <td>0.852805</td>\n",
       "      <td>0.809571</td>\n",
       "      <td>0.358780</td>\n",
       "      <td>0.823077</td>\n",
       "      <td>0.865032</td>\n",
       "      <td>8.521849</td>\n",
       "      <td>Anomaly</td>\n",
       "    </tr>\n",
       "    <tr>\n",
       "      <th>89996</th>\n",
       "      <td>B</td>\n",
       "      <td>A</td>\n",
       "      <td>A</td>\n",
       "      <td>D</td>\n",
       "      <td>B</td>\n",
       "      <td>B</td>\n",
       "      <td>A</td>\n",
       "      <td>E</td>\n",
       "      <td>E</td>\n",
       "      <td>B</td>\n",
       "      <td>...</td>\n",
       "      <td>0.361353</td>\n",
       "      <td>0.900748</td>\n",
       "      <td>0.468781</td>\n",
       "      <td>0.267659</td>\n",
       "      <td>0.695161</td>\n",
       "      <td>0.421088</td>\n",
       "      <td>0.841941</td>\n",
       "      <td>0.615257</td>\n",
       "      <td>8.988227</td>\n",
       "      <td>Anomaly</td>\n",
       "    </tr>\n",
       "    <tr>\n",
       "      <th>89997</th>\n",
       "      <td>B</td>\n",
       "      <td>A</td>\n",
       "      <td>B</td>\n",
       "      <td>C</td>\n",
       "      <td>B</td>\n",
       "      <td>D</td>\n",
       "      <td>A</td>\n",
       "      <td>E</td>\n",
       "      <td>A</td>\n",
       "      <td>F</td>\n",
       "      <td>...</td>\n",
       "      <td>0.705946</td>\n",
       "      <td>0.896323</td>\n",
       "      <td>0.639372</td>\n",
       "      <td>0.598032</td>\n",
       "      <td>0.490381</td>\n",
       "      <td>0.134411</td>\n",
       "      <td>0.764455</td>\n",
       "      <td>0.240164</td>\n",
       "      <td>9.021154</td>\n",
       "      <td>Norm</td>\n",
       "    </tr>\n",
       "    <tr>\n",
       "      <th>89998</th>\n",
       "      <td>B</td>\n",
       "      <td>A</td>\n",
       "      <td>A</td>\n",
       "      <td>C</td>\n",
       "      <td>B</td>\n",
       "      <td>D</td>\n",
       "      <td>A</td>\n",
       "      <td>E</td>\n",
       "      <td>G</td>\n",
       "      <td>J</td>\n",
       "      <td>...</td>\n",
       "      <td>0.331300</td>\n",
       "      <td>0.369129</td>\n",
       "      <td>0.601829</td>\n",
       "      <td>0.506245</td>\n",
       "      <td>0.583071</td>\n",
       "      <td>0.429652</td>\n",
       "      <td>0.776692</td>\n",
       "      <td>0.662461</td>\n",
       "      <td>7.701070</td>\n",
       "      <td>Norm</td>\n",
       "    </tr>\n",
       "    <tr>\n",
       "      <th>89999</th>\n",
       "      <td>A</td>\n",
       "      <td>A</td>\n",
       "      <td>A</td>\n",
       "      <td>C</td>\n",
       "      <td>B</td>\n",
       "      <td>B</td>\n",
       "      <td>A</td>\n",
       "      <td>E</td>\n",
       "      <td>G</td>\n",
       "      <td>O</td>\n",
       "      <td>...</td>\n",
       "      <td>0.406940</td>\n",
       "      <td>0.582168</td>\n",
       "      <td>0.390355</td>\n",
       "      <td>0.314702</td>\n",
       "      <td>0.089503</td>\n",
       "      <td>0.422187</td>\n",
       "      <td>0.390418</td>\n",
       "      <td>0.811794</td>\n",
       "      <td>9.367216</td>\n",
       "      <td>Norm</td>\n",
       "    </tr>\n",
       "  </tbody>\n",
       "</table>\n",
       "<p>90000 rows × 26 columns</p>\n",
       "</div>"
      ],
      "text/plain": [
       "      cat0 cat1 cat2 cat3 cat4 cat5 cat6 cat7 cat8 cat9  ...     cont6  \\\n",
       "0        B    A    A    C    B    B    A    E    E    I  ...  0.449762   \n",
       "1        A    A    A    C    B    D    A    E    A    I  ...  0.562349   \n",
       "2        A    B    A    C    B    B    A    E    E    G  ...  0.339495   \n",
       "3        A    B    A    C    B    B    A    E    C    I  ...  0.607722   \n",
       "4        B    A    A    C    B    D    A    E    C    H  ...  0.902596   \n",
       "...    ...  ...  ...  ...  ...  ...  ...  ...  ...  ...  ...       ...   \n",
       "89995    A    A    A    C    B    D    A    D    A    F  ...  0.594021   \n",
       "89996    B    A    A    D    B    B    A    E    E    B  ...  0.361353   \n",
       "89997    B    A    B    C    B    D    A    E    A    F  ...  0.705946   \n",
       "89998    B    A    A    C    B    D    A    E    G    J  ...  0.331300   \n",
       "89999    A    A    A    C    B    B    A    E    G    O  ...  0.406940   \n",
       "\n",
       "          cont7     cont8     cont9    cont10    cont11    cont12    cont13  \\\n",
       "0      0.281378  0.566167  0.564149  0.094746  0.347672  0.948445  0.410370   \n",
       "1      0.349834  0.953103  0.808620  0.663709  0.503259  0.692824  0.760255   \n",
       "2      0.365626  0.471769  0.318679  0.249393  0.352284  0.334168  0.265968   \n",
       "3      0.653107  0.555535  0.671799  0.573051  0.391958 -0.072907  0.524188   \n",
       "4      0.892918  0.721439  0.346334  0.119194  0.413215  0.423083  0.264100   \n",
       "...         ...       ...       ...       ...       ...       ...       ...   \n",
       "89995  1.032560  0.905694  0.852805  0.809571  0.358780  0.823077  0.865032   \n",
       "89996  0.900748  0.468781  0.267659  0.695161  0.421088  0.841941  0.615257   \n",
       "89997  0.896323  0.639372  0.598032  0.490381  0.134411  0.764455  0.240164   \n",
       "89998  0.369129  0.601829  0.506245  0.583071  0.429652  0.776692  0.662461   \n",
       "89999  0.582168  0.390355  0.314702  0.089503  0.422187  0.390418  0.811794   \n",
       "\n",
       "          target  anomaly_col  \n",
       "0       7.200575         Norm  \n",
       "1       9.857370         Norm  \n",
       "2       8.476475         Norm  \n",
       "3       8.015375         Norm  \n",
       "4      10.375199         Norm  \n",
       "...          ...          ...  \n",
       "89995   8.521849      Anomaly  \n",
       "89996   8.988227      Anomaly  \n",
       "89997   9.021154         Norm  \n",
       "89998   7.701070         Norm  \n",
       "89999   9.367216         Norm  \n",
       "\n",
       "[90000 rows x 26 columns]"
      ]
     },
     "execution_count": 5,
     "metadata": {},
     "output_type": "execute_result"
    }
   ],
   "source": [
    "train"
   ]
  },
  {
   "cell_type": "code",
   "execution_count": 6,
   "metadata": {},
   "outputs": [],
   "source": [
    "train, t = train_test_split(train, test_size=0.9)"
   ]
  },
  {
   "cell_type": "code",
   "execution_count": 7,
   "metadata": {},
   "outputs": [],
   "source": [
    "X = train.drop([\"target\"], axis=1)\n",
    "y = train[\"target\"] * 100"
   ]
  },
  {
   "cell_type": "code",
   "execution_count": 8,
   "metadata": {},
   "outputs": [],
   "source": [
    "num_train = train.select_dtypes([int, float])\n",
    "cat_train = train.select_dtypes(object)\n",
    "\n",
    "num = list(num_train.drop(['target'],axis=1))\n",
    "cat = list(cat_train)"
   ]
  },
  {
   "cell_type": "code",
   "execution_count": 9,
   "metadata": {},
   "outputs": [],
   "source": [
    "from sklearn.decomposition import TruncatedSVD\n",
    "from sklearn.preprocessing import OrdinalEncoder\n",
    "\n",
    "rmse = make_scorer(mean_squared_error, squared=False)\n",
    "\n",
    "pipeline_num = Pipeline(steps=[\n",
    "    ('imputer', SimpleImputer(strategy='median')),\n",
    "    ('scaling', StandardScaler()),  \n",
    "    ('normal', PowerTransformer()), \n",
    "])\n",
    "pipeline_cat = Pipeline(steps=[\n",
    "    # ('imputer', SimpleImputer(strategy='most_frequent')),\n",
    "#     ('encoding', OrdinalEncoder()),\n",
    "    ('encoding', OneHotEncoder(handle_unknown='ignore')),\n",
    "])\n",
    "preprocessor = ColumnTransformer(n_jobs=-1,\n",
    "    transformers=[\n",
    "        ('num', pipeline_num, num),\n",
    "        ('cat', pipeline_cat, cat),\n",
    "        ], remainder=\"passthrough\")\n",
    "\n",
    "transformed = preprocessor.fit_transform(X)\n",
    "\n",
    "# svd = TruncatedSVD(n_components=20, n_iter=7, random_state=42)\n",
    "# transformed = svd.fit_transform(transformed)\n",
    "\n",
    "def objective(trial):\n",
    "    \n",
    "    param_model = {\n",
    "        # 'tree_method':'gpu_hist',\n",
    "        'eval_metric':trial.suggest_categorical(\"eval_metric\", ['rmsle', 'rmse']), #rmse\n",
    "        'n_estimators': 500,\n",
    "        'random_state': trial.suggest_categorical(\"random_state\", [0, 42]), \n",
    "        'colsample_bytree': trial.suggest_float('colsample_bytree', 0.3, 0.9),\n",
    "        'learning_rate': trial.suggest_float('learning_rate', 1e-2, 1),\n",
    "        'max_depth': trial.suggest_int('max_depth', 4, 6),\n",
    "        'objective': trial.suggest_categorical(\"objective\", ['reg:squarederror']),\n",
    "        'reg_alpha': trial.suggest_float('reg_alpha', 1e-2, 100),\n",
    "        'reg_lambda': trial.suggest_int('reg_lambda', 1, 100), \n",
    "        'subsample': trial.suggest_float('subsample', 0.5, 0.9)\n",
    "    }\n",
    "    \n",
    "    pipeline_ridge = Pipeline(steps=[\n",
    "                                    #  ('preprocessor', preprocessor), \n",
    "#                                      ('svd', TruncatedSVD(random_state=42, **param_svd)), \n",
    "                                     ('model', xgboost.XGBRegressor(**param_model)),\n",
    "                                     ])\n",
    "\n",
    "    rmse_mean_cv = cross_val_score(pipeline_ridge, transformed, y, cv=5, scoring=rmse, n_jobs=-1)\n",
    "    print(rmse_mean_cv)\n",
    "\n",
    "    return rmse_mean_cv.mean()"
   ]
  },
  {
   "cell_type": "code",
   "execution_count": 10,
   "metadata": {},
   "outputs": [
    {
     "name": "stderr",
     "output_type": "stream",
     "text": [
      "\u001b[32m[I 2021-08-30 11:10:32,591]\u001b[0m A new study created in memory with name: no-name-a7b8a104-8787-4c8b-a5d3-a095f72a78f7\u001b[0m\n",
      "\u001b[32m[I 2021-08-30 11:11:25,409]\u001b[0m Trial 0 finished with value: 78.80729709123753 and parameters: {'eval_metric': 'rmsle', 'random_state': 0, 'colsample_bytree': 0.8710667739512141, 'learning_rate': 0.2372664547361594, 'max_depth': 4, 'objective': 'reg:squarederror', 'reg_alpha': 5.2386603748866225, 'reg_lambda': 98, 'subsample': 0.785390046752009}. Best is trial 0 with value: 78.80729709123753.\u001b[0m\n"
     ]
    },
    {
     "name": "stdout",
     "output_type": "stream",
     "text": [
      "[78.35033273 80.26859479 77.33537765 78.04913777 80.03304251]\n"
     ]
    },
    {
     "name": "stderr",
     "output_type": "stream",
     "text": [
      "\u001b[32m[I 2021-08-30 11:12:08,159]\u001b[0m Trial 1 finished with value: 75.42417597675299 and parameters: {'eval_metric': 'rmse', 'random_state': 0, 'colsample_bytree': 0.6706685351406318, 'learning_rate': 0.06636975003160032, 'max_depth': 4, 'objective': 'reg:squarederror', 'reg_alpha': 23.703516737785538, 'reg_lambda': 83, 'subsample': 0.5745730910998585}. Best is trial 1 with value: 75.42417597675299.\u001b[0m\n"
     ]
    },
    {
     "name": "stdout",
     "output_type": "stream",
     "text": [
      "[74.80098795 76.50665198 73.59164797 75.48889512 76.73269686]\n"
     ]
    },
    {
     "name": "stderr",
     "output_type": "stream",
     "text": [
      "\u001b[32m[I 2021-08-30 11:13:03,610]\u001b[0m Trial 2 finished with value: 88.9428745734966 and parameters: {'eval_metric': 'rmsle', 'random_state': 42, 'colsample_bytree': 0.8145956844711555, 'learning_rate': 0.7453995941295726, 'max_depth': 5, 'objective': 'reg:squarederror', 'reg_alpha': 45.220360727965925, 'reg_lambda': 57, 'subsample': 0.7834974295834356}. Best is trial 1 with value: 75.42417597675299.\u001b[0m\n"
     ]
    },
    {
     "name": "stdout",
     "output_type": "stream",
     "text": [
      "[87.74247317 91.76837991 86.06361079 89.25933814 89.88057086]\n"
     ]
    },
    {
     "name": "stderr",
     "output_type": "stream",
     "text": [
      "\u001b[32m[I 2021-08-30 11:13:48,498]\u001b[0m Trial 3 finished with value: 82.87004892840726 and parameters: {'eval_metric': 'rmse', 'random_state': 0, 'colsample_bytree': 0.7663420310213778, 'learning_rate': 0.42072344095021, 'max_depth': 4, 'objective': 'reg:squarederror', 'reg_alpha': 77.1727346560366, 'reg_lambda': 62, 'subsample': 0.7598369456001431}. Best is trial 1 with value: 75.42417597675299.\u001b[0m\n"
     ]
    },
    {
     "name": "stdout",
     "output_type": "stream",
     "text": [
      "[83.1409686  83.01111796 81.24568945 83.28308245 83.66938618]\n"
     ]
    },
    {
     "name": "stderr",
     "output_type": "stream",
     "text": [
      "\u001b[32m[I 2021-08-30 11:14:24,141]\u001b[0m Trial 4 finished with value: 112.77570541104544 and parameters: {'eval_metric': 'rmsle', 'random_state': 42, 'colsample_bytree': 0.376507727501994, 'learning_rate': 0.8743304947665591, 'max_depth': 6, 'objective': 'reg:squarederror', 'reg_alpha': 1.7215843358164706, 'reg_lambda': 14, 'subsample': 0.5065980515208377}. Best is trial 1 with value: 75.42417597675299.\u001b[0m\n"
     ]
    },
    {
     "name": "stdout",
     "output_type": "stream",
     "text": [
      "[109.37211851 112.57546119 113.62265352 114.5098795  113.79841434]\n"
     ]
    },
    {
     "name": "stderr",
     "output_type": "stream",
     "text": [
      "\u001b[32m[I 2021-08-30 11:15:18,225]\u001b[0m Trial 5 finished with value: 80.86522372987471 and parameters: {'eval_metric': 'rmsle', 'random_state': 0, 'colsample_bytree': 0.7423719902598357, 'learning_rate': 0.29216543258798566, 'max_depth': 5, 'objective': 'reg:squarederror', 'reg_alpha': 19.20924004909734, 'reg_lambda': 87, 'subsample': 0.794696231455293}. Best is trial 1 with value: 75.42417597675299.\u001b[0m\n"
     ]
    },
    {
     "name": "stdout",
     "output_type": "stream",
     "text": [
      "[80.46437207 81.80108918 79.93133089 80.19648465 81.93284187]\n"
     ]
    },
    {
     "name": "stderr",
     "output_type": "stream",
     "text": [
      "\u001b[32m[I 2021-08-30 11:16:03,318]\u001b[0m Trial 6 finished with value: 92.59163047220692 and parameters: {'eval_metric': 'rmse', 'random_state': 0, 'colsample_bytree': 0.7976665689677035, 'learning_rate': 0.7955013299728206, 'max_depth': 4, 'objective': 'reg:squarederror', 'reg_alpha': 73.2392238026144, 'reg_lambda': 34, 'subsample': 0.6942428022828206}. Best is trial 1 with value: 75.42417597675299.\u001b[0m\n"
     ]
    },
    {
     "name": "stdout",
     "output_type": "stream",
     "text": [
      "[91.79551082 91.02136137 93.86081684 91.97024935 94.31021399]\n"
     ]
    },
    {
     "name": "stderr",
     "output_type": "stream",
     "text": [
      "\u001b[32m[I 2021-08-30 11:16:52,246]\u001b[0m Trial 7 finished with value: 94.51714578114984 and parameters: {'eval_metric': 'rmsle', 'random_state': 42, 'colsample_bytree': 0.43170766437443014, 'learning_rate': 0.796124193743902, 'max_depth': 6, 'objective': 'reg:squarederror', 'reg_alpha': 67.61429242065387, 'reg_lambda': 60, 'subsample': 0.5377192882637807}. Best is trial 1 with value: 75.42417597675299.\u001b[0m\n"
     ]
    },
    {
     "name": "stdout",
     "output_type": "stream",
     "text": [
      "[94.13604536 95.07017419 92.23244185 93.48134813 97.66571937]\n"
     ]
    },
    {
     "name": "stderr",
     "output_type": "stream",
     "text": [
      "\u001b[32m[I 2021-08-30 11:17:39,466]\u001b[0m Trial 8 finished with value: 79.09230239125259 and parameters: {'eval_metric': 'rmsle', 'random_state': 42, 'colsample_bytree': 0.6591737313139487, 'learning_rate': 0.2500238296307967, 'max_depth': 4, 'objective': 'reg:squarederror', 'reg_alpha': 99.6990057463686, 'reg_lambda': 90, 'subsample': 0.6109129285813852}. Best is trial 1 with value: 75.42417597675299.\u001b[0m\n"
     ]
    },
    {
     "name": "stdout",
     "output_type": "stream",
     "text": [
      "[78.9244834  79.89640834 77.60366986 79.01229565 80.0246547 ]\n"
     ]
    },
    {
     "name": "stderr",
     "output_type": "stream",
     "text": [
      "\u001b[32m[I 2021-08-30 11:18:24,697]\u001b[0m Trial 9 finished with value: 78.93236261338599 and parameters: {'eval_metric': 'rmsle', 'random_state': 42, 'colsample_bytree': 0.4800505601585979, 'learning_rate': 0.15666160003620883, 'max_depth': 5, 'objective': 'reg:squarederror', 'reg_alpha': 95.92063279303679, 'reg_lambda': 22, 'subsample': 0.5470726693802097}. Best is trial 1 with value: 75.42417597675299.\u001b[0m\n"
     ]
    },
    {
     "name": "stdout",
     "output_type": "stream",
     "text": [
      "[78.10697021 79.33551831 77.50870008 78.30021151 81.41041296]\n"
     ]
    }
   ],
   "source": [
    "study = optuna.create_study(direction=\"minimize\", pruner=optuna.pruners.MedianPruner())\n",
    "study.optimize(objective, n_trials=10)"
   ]
  },
  {
   "cell_type": "code",
   "execution_count": 26,
   "metadata": {},
   "outputs": [
    {
     "data": {
      "text/plain": [
       "{'eval_metric': 'rmse',\n",
       " 'random_state': 0,\n",
       " 'colsample_bytree': 0.6706685351406318,\n",
       " 'learning_rate': 0.06636975003160032,\n",
       " 'max_depth': 4,\n",
       " 'objective': 'reg:squarederror',\n",
       " 'reg_alpha': 23.703516737785538,\n",
       " 'reg_lambda': 83,\n",
       " 'subsample': 0.5745730910998585}"
      ]
     },
     "execution_count": 26,
     "metadata": {},
     "output_type": "execute_result"
    }
   ],
   "source": [
    "best_params = study.best_trial.params\n",
    "best_params"
   ]
  },
  {
   "cell_type": "markdown",
   "metadata": {},
   "source": [
    "# save configs"
   ]
  },
  {
   "cell_type": "code",
   "execution_count": null,
   "metadata": {},
   "outputs": [],
   "source": [
    "import yaml\n",
    "import os\n",
    "\n",
    "\n",
    "directory = './Configs'\n",
    "if not os.path.exists(directory):\n",
    "    os.makedirs(directory)\n",
    "    \n",
    "    \n",
    "with open('./Configs/params_model_xgb.yml', 'w') as outfile:\n",
    "    yaml.dump(best_params, outfile, default_flow_style=False)"
   ]
  }
 ],
 "metadata": {
  "kernelspec": {
   "display_name": "Python 3",
   "language": "python",
   "name": "python3"
  },
  "language_info": {
   "codemirror_mode": {
    "name": "ipython",
    "version": 3
   },
   "file_extension": ".py",
   "mimetype": "text/x-python",
   "name": "python",
   "nbconvert_exporter": "python",
   "pygments_lexer": "ipython3",
   "version": "3.7.4"
  }
 },
 "nbformat": 4,
 "nbformat_minor": 2
}

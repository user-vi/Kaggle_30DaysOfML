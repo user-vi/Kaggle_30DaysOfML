{
 "cells": [
  {
   "cell_type": "code",
   "execution_count": 1,
   "metadata": {},
   "outputs": [
    {
     "name": "stderr",
     "output_type": "stream",
     "text": [
      "C:\\ProgramData\\Anaconda3\\lib\\site-packages\\dask\\dataframe\\utils.py:14: FutureWarning: pandas.util.testing is deprecated. Use the functions in the public API at pandas.testing instead.\n",
      "  import pandas.util.testing as tm\n"
     ]
    }
   ],
   "source": [
    "from sklearn import metrics, model_selection, ensemble\n",
    "import pandas as pd\n",
    "import numpy as np\n",
    "from sklearn.pipeline import Pipeline\n",
    "from sklearn.model_selection import train_test_split\n",
    "from sklearn.compose import ColumnTransformer\n",
    "from sklearn.impute import SimpleImputer\n",
    "from sklearn.preprocessing import StandardScaler, OneHotEncoder\n",
    "from sklearn.preprocessing import PowerTransformer\n",
    "from sklearn.ensemble import RandomForestClassifier\n",
    "from sklearn.metrics import precision_recall_curve\n",
    "from sklearn.metrics import plot_precision_recall_curve\n",
    "from sklearn.metrics import precision_score\n",
    "from sklearn.metrics import recall_score\n",
    "from sklearn.metrics import make_scorer\n",
    "from sklearn.model_selection import TimeSeriesSplit\n",
    "from sklearn.model_selection import cross_val_score\n",
    "\n",
    "from sklearn.preprocessing import KBinsDiscretizer\n",
    "import xgboost as xgb\n",
    "from sklearn import linear_model\n",
    "from sklearn.neighbors import KNeighborsRegressor\n",
    "from sklearn.metrics import mean_squared_error\n",
    "from sklearn.ensemble import StackingRegressor\n",
    "import xgboost\n",
    "\n",
    "\n",
    "pd.set_option('display.max_columns', None)"
   ]
  },
  {
   "cell_type": "code",
   "execution_count": 2,
   "metadata": {},
   "outputs": [],
   "source": [
    "try: \n",
    "    import optuna\n",
    "except:\n",
    "    !pip install optuna\n",
    "    import optuna"
   ]
  },
  {
   "cell_type": "code",
   "execution_count": 3,
   "metadata": {},
   "outputs": [],
   "source": [
    "try:\n",
    "    from catboost import Pool, CatBoostRegressor, cv\n",
    "except:\n",
    "    !pip install catboost \n",
    "    from catboost import Pool, CatBoostRegressor, cv"
   ]
  },
  {
   "cell_type": "code",
   "execution_count": 4,
   "metadata": {},
   "outputs": [],
   "source": [
    "try:\n",
    "    from CustomPipeline import *\n",
    "except:\n",
    "    import sys\n",
    "    sys.path.insert(0,'/content/sample_data')\n",
    "    from CustomPipeline import *\n",
    "    print(\"ok\")"
   ]
  },
  {
   "cell_type": "code",
   "execution_count": 5,
   "metadata": {},
   "outputs": [],
   "source": [
    "try:\n",
    "    train = pd.read_csv(\"./train_anomaly.csv\", delimiter=\",\", sep='.')\n",
    "except:\n",
    "    train = pd.read_csv(\"./sample_data/train_anomaly.csv\", delimiter=\",\", sep='.')"
   ]
  },
  {
   "cell_type": "code",
   "execution_count": 6,
   "metadata": {},
   "outputs": [],
   "source": [
    "try:\n",
    "    from catboost import Pool, CatBoostRegressor, cv\n",
    "except:\n",
    "    !pip install catboost \n",
    "    from catboost import Pool, CatBoostRegressor, cv"
   ]
  },
  {
   "cell_type": "code",
   "execution_count": 7,
   "metadata": {},
   "outputs": [],
   "source": [
    "RANDOM_STATE = 42"
   ]
  },
  {
   "cell_type": "code",
   "execution_count": 8,
   "metadata": {},
   "outputs": [],
   "source": [
    "train.drop(\"id\", axis=1, inplace=True)\n",
    "train[\"target\"] = 100 * train[\"target\"]"
   ]
  },
  {
   "cell_type": "code",
   "execution_count": 68,
   "metadata": {},
   "outputs": [],
   "source": [
    "# test run\n",
    "# train, test = train_test_split(train, test_size=0.2, random_state=RANDOM_STATE)"
   ]
  },
  {
   "cell_type": "code",
   "execution_count": 69,
   "metadata": {},
   "outputs": [],
   "source": [
    "train, test_ensemble = train_test_split(train, test_size=0.1, random_state=RANDOM_STATE)\n",
    "train_estimators, train_ensemble = train_test_split(train, test_size=0.2, random_state=RANDOM_STATE)"
   ]
  },
  {
   "cell_type": "code",
   "execution_count": 70,
   "metadata": {},
   "outputs": [],
   "source": [
    "X = train_estimators.drop([\"target\"], axis=1)\n",
    "y = train_estimators[\"target\"]"
   ]
  },
  {
   "cell_type": "code",
   "execution_count": 71,
   "metadata": {},
   "outputs": [],
   "source": [
    "num = TypesOfColumns(X).get_num()\n",
    "cat = TypesOfColumns(X).get_cat()\n",
    "cat_idx = TypesOfColumns(X).get_cat_idx()"
   ]
  },
  {
   "cell_type": "markdown",
   "metadata": {},
   "source": [
    "# linear ridge"
   ]
  },
  {
   "cell_type": "code",
   "execution_count": 72,
   "metadata": {},
   "outputs": [],
   "source": [
    "params_linear = {'alpha': 0.09}\n",
    "n_bins=63\n",
    "\n",
    "X_lr = train_estimators.query(\"target > 600\").drop([\"target\"], axis=1)\n",
    "y_lr = train_estimators.query(\"target > 600\")[\"target\"]\n",
    "\n",
    "model = linear_model.Ridge(**params_linear)\n",
    "lr = LinearWrapper(model, bins_linear=n_bins, cat=cat, num=num)"
   ]
  },
  {
   "cell_type": "markdown",
   "metadata": {},
   "source": [
    "# xgb"
   ]
  },
  {
   "cell_type": "code",
   "execution_count": 77,
   "metadata": {},
   "outputs": [],
   "source": [
    "params_xgb = {\n",
    "    'tree_method':'gpu_hist',\n",
    "    'random_state': 1, \n",
    "    'n_jobs': 4,\n",
    "    'booster': 'gbtree',\n",
    "    'n_estimators': 10000,\n",
    "    'learning_rate': 0.035,\n",
    "    'reg_lambda': 1.22,\n",
    "    'reg_alpha': 36.04,\n",
    "    'subsample': 0.9,\n",
    "    'colsample_bytree': 0.11,\n",
    "    'max_depth': 3,\n",
    "    'min_child_weight': 6\n",
    "}\n",
    "model = xgboost.XGBRegressor(**params_xgb)\n",
    "xgb = XGBWrapper(model, cat=cat, num=num)"
   ]
  },
  {
   "cell_type": "markdown",
   "metadata": {},
   "source": [
    "# catboost"
   ]
  },
  {
   "cell_type": "code",
   "execution_count": 80,
   "metadata": {},
   "outputs": [],
   "source": [
    "params_cat = {'iterations': 326, \n",
    "    'depth': 4, \n",
    "    'loss_function':\"RMSE\",\n",
    "    'random_strength': 34, \n",
    "    'bagging_temperature': 0.2, \n",
    "    'learning_rate': 0.466, \n",
    "    'l2_leaf_reg': 24.26\n",
    "}\n",
    "\n",
    "\n",
    "model = CatBoostRegressor(**params_cat)\n",
    "catboost = CatBoostWrapper(model, cat_features=cat_idx)"
   ]
  },
  {
   "cell_type": "markdown",
   "metadata": {},
   "source": [
    "# random forest"
   ]
  },
  {
   "cell_type": "code",
   "execution_count": null,
   "metadata": {},
   "outputs": [],
   "source": [
    "from sklearn.ensemble import RandomForestRegressor\n",
    "\n",
    "params_rf = {\n",
    "    'random_state':42, \n",
    "    'n_jobs':-1\n",
    "}\n",
    "\n",
    "model = RandomForestRegressor(**params_rf)\n",
    "rf = XGBWrapper(model, cat=cat, num=num)"
   ]
  },
  {
   "cell_type": "markdown",
   "metadata": {},
   "source": [
    "# knn"
   ]
  },
  {
   "cell_type": "code",
   "execution_count": null,
   "metadata": {},
   "outputs": [],
   "source": [
    "from sklearn.neighbors import KNeighborsRegressor\n",
    "\n",
    "params_knn = {\n",
    "    'n_jobs':-1\n",
    "}\n",
    "\n",
    "model = KNeighborsRegressor(**params_knn)\n",
    "knn = XGBWrapper(model, cat=cat, num=num)"
   ]
  },
  {
   "cell_type": "markdown",
   "metadata": {},
   "source": [
    "# StackingRegressor"
   ]
  },
  {
   "cell_type": "code",
   "execution_count": null,
   "metadata": {},
   "outputs": [],
   "source": [
    "# test = pd.read_csv(\"./sample_data/test_anomaly.csv\", delimiter=\",\", sep='.')"
   ]
  },
  {
   "cell_type": "code",
   "execution_count": null,
   "metadata": {},
   "outputs": [],
   "source": [
    "models = [lr, xgb]\n",
    "# models = [catboost]\n",
    "\n",
    "df_ensemble = pd.DataFrame()\n",
    "df_test = pd.DataFrame()\n",
    "df_submit = pd.DataFrame()\n",
    "\n",
    "for i, model in enumerate(models):\n",
    "    if model == lr:\n",
    "        model.train(X_lr, y_lr)\n",
    "    else:\n",
    "        model.train(X, y)\n",
    "\n",
    "    pred = model.predict(train_ensemble.drop(['target'], axis=1))\n",
    "#     print(pred)\n",
    "    train_ensemble[str(i)] = pred\n",
    "    pred = model.predict(test_ensemble.drop(['target'], axis=1))\n",
    "#     print(pred)\n",
    "    test_ensemble[str(i)] = pred\n",
    "    pred = model.predict(test)\n",
    "#     print(pred)\n",
    "    test[str(i)] = pred"
   ]
  },
  {
   "cell_type": "code",
   "execution_count": null,
   "metadata": {},
   "outputs": [],
   "source": [
    "# train_ensemble.to_csv('./train_ensemble.csv', index=False)\n",
    "# test_ensemble.to_csv('./test_ensemble.csv', index=False)\n",
    "# test.to_csv('./test.csv', index=False)"
   ]
  },
  {
   "cell_type": "code",
   "execution_count": 9,
   "metadata": {},
   "outputs": [],
   "source": [
    "test_ensemble = pd.read_csv(\"./en_test_ensemble.csv\", delimiter=\",\", sep='.')\n",
    "test = pd.read_csv(\"./en_test_witout_target.csv\", delimiter=\",\", sep='.')\n",
    "train_ensemble = pd.read_csv(\"./en_train_ensemble.csv\", delimiter=\",\", sep='.')"
   ]
  },
  {
   "cell_type": "code",
   "execution_count": 10,
   "metadata": {},
   "outputs": [
    {
     "data": {
      "text/html": [
       "<div>\n",
       "<style scoped>\n",
       "    .dataframe tbody tr th:only-of-type {\n",
       "        vertical-align: middle;\n",
       "    }\n",
       "\n",
       "    .dataframe tbody tr th {\n",
       "        vertical-align: top;\n",
       "    }\n",
       "\n",
       "    .dataframe thead th {\n",
       "        text-align: right;\n",
       "    }\n",
       "</style>\n",
       "<table border=\"1\" class=\"dataframe\">\n",
       "  <thead>\n",
       "    <tr style=\"text-align: right;\">\n",
       "      <th></th>\n",
       "      <th>cat0</th>\n",
       "      <th>cat1</th>\n",
       "      <th>cat2</th>\n",
       "      <th>cat3</th>\n",
       "      <th>cat4</th>\n",
       "      <th>cat5</th>\n",
       "      <th>cat6</th>\n",
       "      <th>cat7</th>\n",
       "      <th>cat8</th>\n",
       "      <th>cat9</th>\n",
       "      <th>cont0</th>\n",
       "      <th>cont1</th>\n",
       "      <th>cont2</th>\n",
       "      <th>cont3</th>\n",
       "      <th>cont4</th>\n",
       "      <th>cont5</th>\n",
       "      <th>cont6</th>\n",
       "      <th>cont7</th>\n",
       "      <th>cont8</th>\n",
       "      <th>cont9</th>\n",
       "      <th>cont10</th>\n",
       "      <th>cont11</th>\n",
       "      <th>cont12</th>\n",
       "      <th>cont13</th>\n",
       "      <th>target</th>\n",
       "      <th>anomaly_col</th>\n",
       "      <th>0</th>\n",
       "      <th>1</th>\n",
       "    </tr>\n",
       "  </thead>\n",
       "  <tbody>\n",
       "    <tr>\n",
       "      <th>0</th>\n",
       "      <td>A</td>\n",
       "      <td>A</td>\n",
       "      <td>A</td>\n",
       "      <td>C</td>\n",
       "      <td>B</td>\n",
       "      <td>B</td>\n",
       "      <td>A</td>\n",
       "      <td>E</td>\n",
       "      <td>E</td>\n",
       "      <td>H</td>\n",
       "      <td>0.263894</td>\n",
       "      <td>0.422811</td>\n",
       "      <td>0.455877</td>\n",
       "      <td>0.549582</td>\n",
       "      <td>0.285487</td>\n",
       "      <td>0.565569</td>\n",
       "      <td>-0.141368</td>\n",
       "      <td>0.688337</td>\n",
       "      <td>0.691903</td>\n",
       "      <td>0.439211</td>\n",
       "      <td>0.418874</td>\n",
       "      <td>0.053918</td>\n",
       "      <td>0.198492</td>\n",
       "      <td>0.864552</td>\n",
       "      <td>719.973554</td>\n",
       "      <td>Norm</td>\n",
       "      <td>822.393348</td>\n",
       "      <td>840.87530</td>\n",
       "    </tr>\n",
       "    <tr>\n",
       "      <th>1</th>\n",
       "      <td>B</td>\n",
       "      <td>B</td>\n",
       "      <td>A</td>\n",
       "      <td>A</td>\n",
       "      <td>C</td>\n",
       "      <td>C</td>\n",
       "      <td>A</td>\n",
       "      <td>E</td>\n",
       "      <td>A</td>\n",
       "      <td>F</td>\n",
       "      <td>0.440252</td>\n",
       "      <td>0.415761</td>\n",
       "      <td>0.546531</td>\n",
       "      <td>0.704333</td>\n",
       "      <td>0.687984</td>\n",
       "      <td>0.158406</td>\n",
       "      <td>0.544799</td>\n",
       "      <td>0.632793</td>\n",
       "      <td>0.316917</td>\n",
       "      <td>0.245392</td>\n",
       "      <td>0.292086</td>\n",
       "      <td>0.583627</td>\n",
       "      <td>0.263786</td>\n",
       "      <td>0.248510</td>\n",
       "      <td>813.072326</td>\n",
       "      <td>Anomaly</td>\n",
       "      <td>821.181948</td>\n",
       "      <td>802.09760</td>\n",
       "    </tr>\n",
       "    <tr>\n",
       "      <th>2</th>\n",
       "      <td>B</td>\n",
       "      <td>A</td>\n",
       "      <td>A</td>\n",
       "      <td>C</td>\n",
       "      <td>B</td>\n",
       "      <td>B</td>\n",
       "      <td>C</td>\n",
       "      <td>E</td>\n",
       "      <td>C</td>\n",
       "      <td>G</td>\n",
       "      <td>0.556213</td>\n",
       "      <td>0.087407</td>\n",
       "      <td>0.509698</td>\n",
       "      <td>0.549791</td>\n",
       "      <td>0.286923</td>\n",
       "      <td>0.358378</td>\n",
       "      <td>0.465119</td>\n",
       "      <td>0.389759</td>\n",
       "      <td>0.282789</td>\n",
       "      <td>0.392988</td>\n",
       "      <td>0.262058</td>\n",
       "      <td>0.428709</td>\n",
       "      <td>0.353908</td>\n",
       "      <td>0.766063</td>\n",
       "      <td>953.767401</td>\n",
       "      <td>Anomaly</td>\n",
       "      <td>862.212604</td>\n",
       "      <td>858.83620</td>\n",
       "    </tr>\n",
       "    <tr>\n",
       "      <th>3</th>\n",
       "      <td>A</td>\n",
       "      <td>A</td>\n",
       "      <td>A</td>\n",
       "      <td>C</td>\n",
       "      <td>B</td>\n",
       "      <td>B</td>\n",
       "      <td>A</td>\n",
       "      <td>E</td>\n",
       "      <td>C</td>\n",
       "      <td>A</td>\n",
       "      <td>0.091434</td>\n",
       "      <td>0.317570</td>\n",
       "      <td>1.028451</td>\n",
       "      <td>0.281829</td>\n",
       "      <td>0.699003</td>\n",
       "      <td>0.495328</td>\n",
       "      <td>0.407554</td>\n",
       "      <td>0.203858</td>\n",
       "      <td>0.375169</td>\n",
       "      <td>0.153842</td>\n",
       "      <td>0.315238</td>\n",
       "      <td>0.200414</td>\n",
       "      <td>0.302480</td>\n",
       "      <td>0.299906</td>\n",
       "      <td>766.967046</td>\n",
       "      <td>Norm</td>\n",
       "      <td>830.719295</td>\n",
       "      <td>813.61000</td>\n",
       "    </tr>\n",
       "    <tr>\n",
       "      <th>4</th>\n",
       "      <td>A</td>\n",
       "      <td>B</td>\n",
       "      <td>A</td>\n",
       "      <td>C</td>\n",
       "      <td>B</td>\n",
       "      <td>D</td>\n",
       "      <td>A</td>\n",
       "      <td>E</td>\n",
       "      <td>A</td>\n",
       "      <td>I</td>\n",
       "      <td>0.621734</td>\n",
       "      <td>0.816455</td>\n",
       "      <td>0.297241</td>\n",
       "      <td>0.536833</td>\n",
       "      <td>0.524217</td>\n",
       "      <td>0.803557</td>\n",
       "      <td>0.150297</td>\n",
       "      <td>0.607898</td>\n",
       "      <td>0.259313</td>\n",
       "      <td>0.275478</td>\n",
       "      <td>0.507401</td>\n",
       "      <td>0.845441</td>\n",
       "      <td>0.783878</td>\n",
       "      <td>0.169852</td>\n",
       "      <td>816.300457</td>\n",
       "      <td>Norm</td>\n",
       "      <td>813.834500</td>\n",
       "      <td>805.53284</td>\n",
       "    </tr>\n",
       "    <tr>\n",
       "      <th>...</th>\n",
       "      <td>...</td>\n",
       "      <td>...</td>\n",
       "      <td>...</td>\n",
       "      <td>...</td>\n",
       "      <td>...</td>\n",
       "      <td>...</td>\n",
       "      <td>...</td>\n",
       "      <td>...</td>\n",
       "      <td>...</td>\n",
       "      <td>...</td>\n",
       "      <td>...</td>\n",
       "      <td>...</td>\n",
       "      <td>...</td>\n",
       "      <td>...</td>\n",
       "      <td>...</td>\n",
       "      <td>...</td>\n",
       "      <td>...</td>\n",
       "      <td>...</td>\n",
       "      <td>...</td>\n",
       "      <td>...</td>\n",
       "      <td>...</td>\n",
       "      <td>...</td>\n",
       "      <td>...</td>\n",
       "      <td>...</td>\n",
       "      <td>...</td>\n",
       "      <td>...</td>\n",
       "      <td>...</td>\n",
       "      <td>...</td>\n",
       "    </tr>\n",
       "    <tr>\n",
       "      <th>53995</th>\n",
       "      <td>A</td>\n",
       "      <td>B</td>\n",
       "      <td>A</td>\n",
       "      <td>C</td>\n",
       "      <td>B</td>\n",
       "      <td>B</td>\n",
       "      <td>A</td>\n",
       "      <td>E</td>\n",
       "      <td>C</td>\n",
       "      <td>F</td>\n",
       "      <td>0.713022</td>\n",
       "      <td>0.251317</td>\n",
       "      <td>0.612808</td>\n",
       "      <td>0.721725</td>\n",
       "      <td>0.342860</td>\n",
       "      <td>0.819535</td>\n",
       "      <td>0.881754</td>\n",
       "      <td>0.472204</td>\n",
       "      <td>0.412661</td>\n",
       "      <td>0.558916</td>\n",
       "      <td>0.454587</td>\n",
       "      <td>0.340566</td>\n",
       "      <td>0.397448</td>\n",
       "      <td>0.287042</td>\n",
       "      <td>874.369410</td>\n",
       "      <td>Norm</td>\n",
       "      <td>838.510350</td>\n",
       "      <td>844.04315</td>\n",
       "    </tr>\n",
       "    <tr>\n",
       "      <th>53996</th>\n",
       "      <td>B</td>\n",
       "      <td>B</td>\n",
       "      <td>A</td>\n",
       "      <td>C</td>\n",
       "      <td>B</td>\n",
       "      <td>B</td>\n",
       "      <td>A</td>\n",
       "      <td>B</td>\n",
       "      <td>A</td>\n",
       "      <td>G</td>\n",
       "      <td>0.437447</td>\n",
       "      <td>0.234785</td>\n",
       "      <td>0.505016</td>\n",
       "      <td>0.539729</td>\n",
       "      <td>0.286069</td>\n",
       "      <td>0.300176</td>\n",
       "      <td>0.553383</td>\n",
       "      <td>0.559673</td>\n",
       "      <td>0.839478</td>\n",
       "      <td>0.827247</td>\n",
       "      <td>0.276473</td>\n",
       "      <td>0.754376</td>\n",
       "      <td>0.284526</td>\n",
       "      <td>0.523540</td>\n",
       "      <td>826.677350</td>\n",
       "      <td>Anomaly</td>\n",
       "      <td>809.192132</td>\n",
       "      <td>807.62120</td>\n",
       "    </tr>\n",
       "    <tr>\n",
       "      <th>53997</th>\n",
       "      <td>A</td>\n",
       "      <td>B</td>\n",
       "      <td>A</td>\n",
       "      <td>C</td>\n",
       "      <td>B</td>\n",
       "      <td>B</td>\n",
       "      <td>A</td>\n",
       "      <td>E</td>\n",
       "      <td>C</td>\n",
       "      <td>I</td>\n",
       "      <td>0.217517</td>\n",
       "      <td>0.764528</td>\n",
       "      <td>0.323548</td>\n",
       "      <td>0.465224</td>\n",
       "      <td>0.531727</td>\n",
       "      <td>0.462099</td>\n",
       "      <td>0.383066</td>\n",
       "      <td>0.350403</td>\n",
       "      <td>0.375989</td>\n",
       "      <td>0.315024</td>\n",
       "      <td>0.080939</td>\n",
       "      <td>0.371964</td>\n",
       "      <td>0.591805</td>\n",
       "      <td>0.683887</td>\n",
       "      <td>705.166978</td>\n",
       "      <td>Norm</td>\n",
       "      <td>795.673766</td>\n",
       "      <td>803.96590</td>\n",
       "    </tr>\n",
       "    <tr>\n",
       "      <th>53998</th>\n",
       "      <td>B</td>\n",
       "      <td>B</td>\n",
       "      <td>A</td>\n",
       "      <td>C</td>\n",
       "      <td>B</td>\n",
       "      <td>B</td>\n",
       "      <td>A</td>\n",
       "      <td>E</td>\n",
       "      <td>E</td>\n",
       "      <td>I</td>\n",
       "      <td>0.382687</td>\n",
       "      <td>0.772405</td>\n",
       "      <td>0.676804</td>\n",
       "      <td>0.367690</td>\n",
       "      <td>0.569831</td>\n",
       "      <td>0.422857</td>\n",
       "      <td>0.426998</td>\n",
       "      <td>0.499143</td>\n",
       "      <td>0.325629</td>\n",
       "      <td>0.365058</td>\n",
       "      <td>0.050370</td>\n",
       "      <td>0.052908</td>\n",
       "      <td>0.173300</td>\n",
       "      <td>0.587090</td>\n",
       "      <td>818.386556</td>\n",
       "      <td>Norm</td>\n",
       "      <td>783.106832</td>\n",
       "      <td>750.08276</td>\n",
       "    </tr>\n",
       "    <tr>\n",
       "      <th>53999</th>\n",
       "      <td>A</td>\n",
       "      <td>A</td>\n",
       "      <td>B</td>\n",
       "      <td>C</td>\n",
       "      <td>B</td>\n",
       "      <td>D</td>\n",
       "      <td>A</td>\n",
       "      <td>E</td>\n",
       "      <td>C</td>\n",
       "      <td>F</td>\n",
       "      <td>0.500173</td>\n",
       "      <td>0.415154</td>\n",
       "      <td>0.330133</td>\n",
       "      <td>0.891106</td>\n",
       "      <td>0.886996</td>\n",
       "      <td>0.408424</td>\n",
       "      <td>0.228626</td>\n",
       "      <td>0.900528</td>\n",
       "      <td>0.331503</td>\n",
       "      <td>0.539738</td>\n",
       "      <td>0.785598</td>\n",
       "      <td>0.348133</td>\n",
       "      <td>0.739216</td>\n",
       "      <td>0.322612</td>\n",
       "      <td>803.963057</td>\n",
       "      <td>Norm</td>\n",
       "      <td>818.749198</td>\n",
       "      <td>826.98720</td>\n",
       "    </tr>\n",
       "  </tbody>\n",
       "</table>\n",
       "<p>54000 rows × 28 columns</p>\n",
       "</div>"
      ],
      "text/plain": [
       "      cat0 cat1 cat2 cat3 cat4 cat5 cat6 cat7 cat8 cat9     cont0     cont1  \\\n",
       "0        A    A    A    C    B    B    A    E    E    H  0.263894  0.422811   \n",
       "1        B    B    A    A    C    C    A    E    A    F  0.440252  0.415761   \n",
       "2        B    A    A    C    B    B    C    E    C    G  0.556213  0.087407   \n",
       "3        A    A    A    C    B    B    A    E    C    A  0.091434  0.317570   \n",
       "4        A    B    A    C    B    D    A    E    A    I  0.621734  0.816455   \n",
       "...    ...  ...  ...  ...  ...  ...  ...  ...  ...  ...       ...       ...   \n",
       "53995    A    B    A    C    B    B    A    E    C    F  0.713022  0.251317   \n",
       "53996    B    B    A    C    B    B    A    B    A    G  0.437447  0.234785   \n",
       "53997    A    B    A    C    B    B    A    E    C    I  0.217517  0.764528   \n",
       "53998    B    B    A    C    B    B    A    E    E    I  0.382687  0.772405   \n",
       "53999    A    A    B    C    B    D    A    E    C    F  0.500173  0.415154   \n",
       "\n",
       "          cont2     cont3     cont4     cont5     cont6     cont7     cont8  \\\n",
       "0      0.455877  0.549582  0.285487  0.565569 -0.141368  0.688337  0.691903   \n",
       "1      0.546531  0.704333  0.687984  0.158406  0.544799  0.632793  0.316917   \n",
       "2      0.509698  0.549791  0.286923  0.358378  0.465119  0.389759  0.282789   \n",
       "3      1.028451  0.281829  0.699003  0.495328  0.407554  0.203858  0.375169   \n",
       "4      0.297241  0.536833  0.524217  0.803557  0.150297  0.607898  0.259313   \n",
       "...         ...       ...       ...       ...       ...       ...       ...   \n",
       "53995  0.612808  0.721725  0.342860  0.819535  0.881754  0.472204  0.412661   \n",
       "53996  0.505016  0.539729  0.286069  0.300176  0.553383  0.559673  0.839478   \n",
       "53997  0.323548  0.465224  0.531727  0.462099  0.383066  0.350403  0.375989   \n",
       "53998  0.676804  0.367690  0.569831  0.422857  0.426998  0.499143  0.325629   \n",
       "53999  0.330133  0.891106  0.886996  0.408424  0.228626  0.900528  0.331503   \n",
       "\n",
       "          cont9    cont10    cont11    cont12    cont13      target  \\\n",
       "0      0.439211  0.418874  0.053918  0.198492  0.864552  719.973554   \n",
       "1      0.245392  0.292086  0.583627  0.263786  0.248510  813.072326   \n",
       "2      0.392988  0.262058  0.428709  0.353908  0.766063  953.767401   \n",
       "3      0.153842  0.315238  0.200414  0.302480  0.299906  766.967046   \n",
       "4      0.275478  0.507401  0.845441  0.783878  0.169852  816.300457   \n",
       "...         ...       ...       ...       ...       ...         ...   \n",
       "53995  0.558916  0.454587  0.340566  0.397448  0.287042  874.369410   \n",
       "53996  0.827247  0.276473  0.754376  0.284526  0.523540  826.677350   \n",
       "53997  0.315024  0.080939  0.371964  0.591805  0.683887  705.166978   \n",
       "53998  0.365058  0.050370  0.052908  0.173300  0.587090  818.386556   \n",
       "53999  0.539738  0.785598  0.348133  0.739216  0.322612  803.963057   \n",
       "\n",
       "      anomaly_col           0          1  \n",
       "0            Norm  822.393348  840.87530  \n",
       "1         Anomaly  821.181948  802.09760  \n",
       "2         Anomaly  862.212604  858.83620  \n",
       "3            Norm  830.719295  813.61000  \n",
       "4            Norm  813.834500  805.53284  \n",
       "...           ...         ...        ...  \n",
       "53995        Norm  838.510350  844.04315  \n",
       "53996     Anomaly  809.192132  807.62120  \n",
       "53997        Norm  795.673766  803.96590  \n",
       "53998        Norm  783.106832  750.08276  \n",
       "53999        Norm  818.749198  826.98720  \n",
       "\n",
       "[54000 rows x 28 columns]"
      ]
     },
     "execution_count": 10,
     "metadata": {},
     "output_type": "execute_result"
    }
   ],
   "source": [
    "train_ensemble"
   ]
  },
  {
   "cell_type": "code",
   "execution_count": 11,
   "metadata": {},
   "outputs": [],
   "source": [
    "X = train_ensemble.drop(['target'], axis=1)\n",
    "y = train_ensemble['target']\n",
    "\n",
    "num_train = X.select_dtypes([int, float])\n",
    "cat_train = X.select_dtypes(object)\n",
    "\n",
    "num = list(num_train)\n",
    "cat = list(cat_train)\n",
    "\n",
    "rmse = make_scorer(mean_squared_error, squared=False)\n",
    "\n",
    "pipeline_num = Pipeline(steps=[\n",
    "    ('imputer', SimpleImputer(strategy='median')),\n",
    "    ('scaling', StandardScaler()),  \n",
    "    ('normal', PowerTransformer())\n",
    "])\n",
    "pipeline_cat = Pipeline(steps=[\n",
    "    # ('imputer', SimpleImputer(strategy='most_frequent')),\n",
    "    # ('encoding', OrdinalEncoder()),\n",
    "    ('encoding', OneHotEncoder(handle_unknown='ignore')),\n",
    "])\n",
    "preprocessor = ColumnTransformer(n_jobs=-1,\n",
    "    transformers=[\n",
    "        ('num', pipeline_num, num),\n",
    "        ('cat', pipeline_cat, cat),\n",
    "        ], remainder=\"passthrough\")\n",
    "\n",
    "transform = preprocessor.fit_transform(X)\n",
    "\n",
    "def objective(trial):\n",
    "    \n",
    "    param_model = {\n",
    "        'alpha': trial.suggest_loguniform('alpha', 1e-2, 1.0),\n",
    "        'random_state':trial.suggest_categorical(\"random_state\", [0, 42]),\n",
    "    }\n",
    "    \n",
    "    pipeline_ridge = Pipeline(steps=[ \n",
    "                                     ('model', linear_model.Lasso(**param_model)),\n",
    "                                     ])\n",
    "\n",
    "    rmse_mean_cv = cross_val_score(pipeline_ridge, transform, y, cv=5, scoring=rmse)\n",
    "    print(rmse_mean_cv)\n",
    "\n",
    "    return rmse_mean_cv.mean()\n",
    "\n",
    "\n",
    "# def objective(trial):\n",
    "    \n",
    "#     param_model = {\n",
    "#         'tree_method':'approx',\n",
    "#         'n_estimators': 5000,\n",
    "#         'eval_metric':'rmse',\n",
    "#         'colsample_bytree': trial.suggest_float('colsample_bytree', 0.3, 0.9),\n",
    "#         'learning_rate': trial.suggest_float('learning_rate', 1e-2, 1),\n",
    "#         'max_depth': trial.suggest_int('max_depth', 4, 6),\n",
    "#         'objective': trial.suggest_categorical(\"objective\", ['reg:squarederror']),\n",
    "#         'reg_alpha': trial.suggest_float('reg_alpha', 1e-2, 1000),\n",
    "#         'reg_lambda': trial.suggest_int('reg_lambda', 1, 100), \n",
    "#         'subsample': trial.suggest_float('subsample', 0.5, 0.9)\n",
    "#     }\n",
    "#     pipeline_ridge = Pipeline(steps=[ \n",
    "#                                      ('model', xgboost.XGBRegressor(**param_model)),\n",
    "#                                      ])\n",
    "\n",
    "#     rmse_mean_cv = cross_val_score(pipeline_ridge, X, y, cv=5, scoring=rmse, n_jobs=-1)\n",
    "#     print(rmse_mean_cv)\n",
    "\n",
    "#     return rmse_mean_cv.mean()"
   ]
  },
  {
   "cell_type": "code",
   "execution_count": 12,
   "metadata": {},
   "outputs": [
    {
     "name": "stderr",
     "output_type": "stream",
     "text": [
      "\u001b[32m[I 2021-08-27 15:57:30,662]\u001b[0m A new study created in memory with name: no-name-e9abb1ad-129f-4447-a9dc-a03deb96962a\u001b[0m\n",
      "\u001b[32m[I 2021-08-27 15:57:32,110]\u001b[0m Trial 0 finished with value: 72.05947747262431 and parameters: {'alpha': 0.21835757368184883, 'random_state': 42}. Best is trial 0 with value: 72.05947747262431.\u001b[0m\n"
     ]
    },
    {
     "name": "stdout",
     "output_type": "stream",
     "text": [
      "[72.30284566 72.22828324 71.66470721 71.89434073 72.20721052]\n"
     ]
    },
    {
     "name": "stderr",
     "output_type": "stream",
     "text": [
      "\u001b[32m[I 2021-08-27 15:57:35,240]\u001b[0m Trial 1 finished with value: 72.07575655156508 and parameters: {'alpha': 0.024118425475249422, 'random_state': 42}. Best is trial 0 with value: 72.05947747262431.\u001b[0m\n"
     ]
    },
    {
     "name": "stdout",
     "output_type": "stream",
     "text": [
      "[72.30991625 72.28181161 71.66621849 71.89704599 72.22379041]\n"
     ]
    },
    {
     "name": "stderr",
     "output_type": "stream",
     "text": [
      "\u001b[32m[I 2021-08-27 15:57:36,569]\u001b[0m Trial 2 finished with value: 72.05928410657759 and parameters: {'alpha': 0.6106770790022757, 'random_state': 42}. Best is trial 2 with value: 72.05928410657759.\u001b[0m\n"
     ]
    },
    {
     "name": "stdout",
     "output_type": "stream",
     "text": [
      "[72.31650428 72.22814257 71.66136058 71.88262151 72.20779159]\n"
     ]
    },
    {
     "name": "stderr",
     "output_type": "stream",
     "text": [
      "\u001b[32m[I 2021-08-27 15:57:38,637]\u001b[0m Trial 3 finished with value: 72.07148182703123 and parameters: {'alpha': 0.05571983134626278, 'random_state': 0}. Best is trial 2 with value: 72.05928410657759.\u001b[0m\n"
     ]
    },
    {
     "name": "stdout",
     "output_type": "stream",
     "text": [
      "[72.31228571 72.26430603 71.66478748 71.90074496 72.21528495]\n"
     ]
    },
    {
     "name": "stderr",
     "output_type": "stream",
     "text": [
      "\u001b[32m[I 2021-08-27 15:57:42,461]\u001b[0m Trial 4 finished with value: 72.07713097938151 and parameters: {'alpha': 0.017030720831404004, 'random_state': 0}. Best is trial 2 with value: 72.05928410657759.\u001b[0m\n"
     ]
    },
    {
     "name": "stdout",
     "output_type": "stream",
     "text": [
      "[72.30802483 72.28725077 71.66841662 71.89360318 72.22835951]\n"
     ]
    },
    {
     "name": "stderr",
     "output_type": "stream",
     "text": [
      "\u001b[32m[I 2021-08-27 15:57:43,813]\u001b[0m Trial 5 finished with value: 72.06055122936269 and parameters: {'alpha': 0.37628168966642295, 'random_state': 0}. Best is trial 2 with value: 72.05928410657759.\u001b[0m\n"
     ]
    },
    {
     "name": "stdout",
     "output_type": "stream",
     "text": [
      "[72.30980014 72.23004701 71.66432985 71.88989875 72.2086804 ]\n"
     ]
    },
    {
     "name": "stderr",
     "output_type": "stream",
     "text": [
      "\u001b[32m[I 2021-08-27 15:57:45,022]\u001b[0m Trial 6 finished with value: 72.0604518297869 and parameters: {'alpha': 0.8599853430455336, 'random_state': 42}. Best is trial 2 with value: 72.05928410657759.\u001b[0m\n"
     ]
    },
    {
     "name": "stdout",
     "output_type": "stream",
     "text": [
      "[72.32335395 72.22993748 71.66007732 71.87995238 72.20893802]\n"
     ]
    },
    {
     "name": "stderr",
     "output_type": "stream",
     "text": [
      "\u001b[32m[I 2021-08-27 15:57:46,567]\u001b[0m Trial 7 finished with value: 72.06620306969901 and parameters: {'alpha': 0.09023447691021283, 'random_state': 42}. Best is trial 2 with value: 72.05928410657759.\u001b[0m\n"
     ]
    },
    {
     "name": "stdout",
     "output_type": "stream",
     "text": [
      "[72.30808423 72.24770771 71.66387959 71.90086358 72.21048024]\n"
     ]
    },
    {
     "name": "stderr",
     "output_type": "stream",
     "text": [
      "\u001b[32m[I 2021-08-27 15:57:48,172]\u001b[0m Trial 8 finished with value: 72.0626460889379 and parameters: {'alpha': 0.115632714796668, 'random_state': 42}. Best is trial 2 with value: 72.05928410657759.\u001b[0m\n"
     ]
    },
    {
     "name": "stdout",
     "output_type": "stream",
     "text": [
      "[72.30414653 72.23992338 71.66215651 71.89832585 72.20867818]\n"
     ]
    },
    {
     "name": "stderr",
     "output_type": "stream",
     "text": [
      "\u001b[32m[I 2021-08-27 15:57:51,294]\u001b[0m Trial 9 finished with value: 72.07582095625051 and parameters: {'alpha': 0.023619795613825902, 'random_state': 42}. Best is trial 2 with value: 72.05928410657759.\u001b[0m\n"
     ]
    },
    {
     "name": "stdout",
     "output_type": "stream",
     "text": [
      "[72.30970892 72.2821461  71.66634131 71.89683119 72.22407726]\n"
     ]
    }
   ],
   "source": [
    "study = optuna.create_study(direction=\"minimize\", pruner=optuna.pruners.MedianPruner())\n",
    "study.optimize(objective, n_trials=10)"
   ]
  },
  {
   "cell_type": "code",
   "execution_count": 13,
   "metadata": {},
   "outputs": [
    {
     "data": {
      "text/plain": [
       "{'alpha': 0.6106770790022757, 'random_state': 42}"
      ]
     },
     "execution_count": 13,
     "metadata": {},
     "output_type": "execute_result"
    }
   ],
   "source": [
    "best_params = study.best_trial.params\n",
    "best_params"
   ]
  },
  {
   "cell_type": "code",
   "execution_count": 14,
   "metadata": {},
   "outputs": [],
   "source": [
    "rmse = make_scorer(mean_squared_error, squared=False)\n",
    "X_test = preprocessor.fit_transform(test_ensemble.drop([\"target\"], axis=1))"
   ]
  },
  {
   "cell_type": "code",
   "execution_count": 15,
   "metadata": {},
   "outputs": [
    {
     "data": {
      "text/plain": [
       "(54000, 74)"
      ]
     },
     "execution_count": 15,
     "metadata": {},
     "output_type": "execute_result"
    }
   ],
   "source": [
    "transform.shape"
   ]
  },
  {
   "cell_type": "code",
   "execution_count": 16,
   "metadata": {},
   "outputs": [
    {
     "data": {
      "text/plain": [
       "(200000, 74)"
      ]
     },
     "execution_count": 16,
     "metadata": {},
     "output_type": "execute_result"
    }
   ],
   "source": [
    "X_test = preprocessor.fit_transform(test.drop('id', axis=1))\n",
    "X_test.shape"
   ]
  },
  {
   "cell_type": "code",
   "execution_count": 23,
   "metadata": {},
   "outputs": [
    {
     "data": {
      "text/plain": [
       "{'num': Pipeline(steps=[('imputer', SimpleImputer(strategy='median')),\n",
       "                 ('scaling', StandardScaler()), ('normal', PowerTransformer())]),\n",
       " 'cat': Pipeline(steps=[('encoding', OneHotEncoder(handle_unknown='ignore'))])}"
      ]
     },
     "execution_count": 23,
     "metadata": {},
     "output_type": "execute_result"
    }
   ],
   "source": [
    "preprocessor.named_transformers_  "
   ]
  },
  {
   "cell_type": "code",
   "execution_count": 17,
   "metadata": {},
   "outputs": [],
   "source": [
    "from sklearn.linear_model import Lasso\n",
    "model = Lasso(**best_params)\n",
    "model.fit(transform, y)\n",
    "pred = model.predict(X_test)\n",
    "# print(mean_squared_error(test_ensemble[\"target\"], pred, squared=False))\n",
    "\n",
    "# best_params['tree_method'] = 'gpu_hist',\n",
    "# best_params['n_estimators']= 10000,\n",
    "# best_params['eval_metric']='rmse',\n",
    "\n",
    "# model = xgboost.XGBRegressor(**best_params)\n",
    "# model.fit(df_ensemble, train_ensemble[['target']])\n",
    "# pred = model.predict(df_test)\n",
    "# print(mean_squared_error(test_ensemble[\"target\"], pred, squared=False))"
   ]
  },
  {
   "cell_type": "code",
   "execution_count": 26,
   "metadata": {},
   "outputs": [
    {
     "data": {
      "text/plain": [
       "array([ 0.        , -0.04301254,  0.        ,  0.        ,  0.        ,\n",
       "       -0.        , -0.        ,  0.        , -0.        , -0.        ,\n",
       "        0.        , -0.        ,  0.        , -0.        ,  5.83758709,\n",
       "       14.83521743,  0.        , -0.        , -0.        ,  0.        ,\n",
       "        0.        , -0.        , -0.        , -0.        ,  0.        ,\n",
       "        0.        ,  0.        ,  0.        , -0.        , -0.        ,\n",
       "        0.        , -0.        , -0.        ,  0.        ,  0.        ,\n",
       "       -0.        ,  0.        , -0.        ,  0.        , -0.        ,\n",
       "        0.        ,  0.        , -0.        ,  0.        ,  0.        ,\n",
       "        0.        , -0.        ,  0.        , -0.        , -0.        ,\n",
       "        0.        ,  0.        ,  0.        ,  0.        , -0.        ,\n",
       "       -0.        , -0.        , -0.        , -0.        , -0.        ,\n",
       "        0.        ,  0.        ,  0.        , -0.        ,  0.        ,\n",
       "        0.        ,  0.        , -0.        ,  0.        ,  0.        ,\n",
       "       -0.        , -0.        ,  0.        , -0.        ])"
      ]
     },
     "execution_count": 26,
     "metadata": {},
     "output_type": "execute_result"
    }
   ],
   "source": [
    "model.coef_"
   ]
  },
  {
   "cell_type": "code",
   "execution_count": 92,
   "metadata": {},
   "outputs": [
    {
     "data": {
      "text/plain": [
       "array([804.84934709, 839.50664185, 840.10554623, ..., 848.1891627 ,\n",
       "       817.13214307, 802.32941003])"
      ]
     },
     "execution_count": 92,
     "metadata": {},
     "output_type": "execute_result"
    }
   ],
   "source": [
    "pred"
   ]
  },
  {
   "cell_type": "markdown",
   "metadata": {},
   "source": [
    "# save predict"
   ]
  },
  {
   "cell_type": "code",
   "execution_count": null,
   "metadata": {},
   "outputs": [],
   "source": [
    "# test = pd.read_csv(\"./sample_data/test_anomaly.csv\", delimiter=\",\", sep='.')"
   ]
  },
  {
   "cell_type": "code",
   "execution_count": null,
   "metadata": {},
   "outputs": [],
   "source": [
    "# df_ensemble = pd.DataFrame()\n",
    "# df_ensemble['lr'] = lr_pred\n",
    "# df_ensemble['xgb_pred'] = xgb_pred\n",
    "# df_ensemble['cat_pred'] = cat_pred\n",
    "\n",
    "# df_test = pd.DataFrame()\n",
    "# df_test['lr'] = lr_test\n",
    "# df_test['xgb_pred'] = xgb_test\n",
    "# df_test['cat_pred'] = cat_test"
   ]
  },
  {
   "cell_type": "code",
   "execution_count": null,
   "metadata": {},
   "outputs": [],
   "source": [
    "# # del\n",
    "# lr_pred1 = lr.predict(test)\n",
    "# xgb_pred1 = xgb.predict(test)\n",
    "# cat_pred1 = catboost.predict(test)\n",
    "\n",
    "# df_submit = pd.DataFrame()\n",
    "# df_submit['lr'] = lr_pred1\n",
    "# df_submit['xgb_pred'] = xgb_pred1\n",
    "# df_submit['cat_pred'] = cat_pred1"
   ]
  },
  {
   "cell_type": "code",
   "execution_count": null,
   "metadata": {},
   "outputs": [],
   "source": []
  },
  {
   "cell_type": "code",
   "execution_count": null,
   "metadata": {},
   "outputs": [],
   "source": []
  },
  {
   "cell_type": "code",
   "execution_count": 24,
   "metadata": {},
   "outputs": [
    {
     "name": "stderr",
     "output_type": "stream",
     "text": [
      "C:\\Users\\User\\AppData\\Roaming\\Python\\Python37\\site-packages\\sklearn\\compose\\_column_transformer.py:430: FutureWarning: Given feature/column names or counts do not match the ones for the data given during fit. This will fail from v0.24.\n",
      "  FutureWarning)\n"
     ]
    }
   ],
   "source": [
    "# pred = pipeline_ridge.predict(test)"
   ]
  },
  {
   "cell_type": "code",
   "execution_count": 93,
   "metadata": {},
   "outputs": [],
   "source": [
    "test['target'] = pred / 100"
   ]
  },
  {
   "cell_type": "code",
   "execution_count": 94,
   "metadata": {},
   "outputs": [
    {
     "data": {
      "text/html": [
       "<div>\n",
       "<style scoped>\n",
       "    .dataframe tbody tr th:only-of-type {\n",
       "        vertical-align: middle;\n",
       "    }\n",
       "\n",
       "    .dataframe tbody tr th {\n",
       "        vertical-align: top;\n",
       "    }\n",
       "\n",
       "    .dataframe thead th {\n",
       "        text-align: right;\n",
       "    }\n",
       "</style>\n",
       "<table border=\"1\" class=\"dataframe\">\n",
       "  <thead>\n",
       "    <tr style=\"text-align: right;\">\n",
       "      <th></th>\n",
       "      <th>id</th>\n",
       "      <th>cat0</th>\n",
       "      <th>cat1</th>\n",
       "      <th>cat2</th>\n",
       "      <th>cat3</th>\n",
       "      <th>cat4</th>\n",
       "      <th>cat5</th>\n",
       "      <th>cat6</th>\n",
       "      <th>cat7</th>\n",
       "      <th>cat8</th>\n",
       "      <th>cat9</th>\n",
       "      <th>cont0</th>\n",
       "      <th>cont1</th>\n",
       "      <th>cont2</th>\n",
       "      <th>cont3</th>\n",
       "      <th>cont4</th>\n",
       "      <th>cont5</th>\n",
       "      <th>cont6</th>\n",
       "      <th>cont7</th>\n",
       "      <th>cont8</th>\n",
       "      <th>cont9</th>\n",
       "      <th>cont10</th>\n",
       "      <th>cont11</th>\n",
       "      <th>cont12</th>\n",
       "      <th>cont13</th>\n",
       "      <th>anomaly_col</th>\n",
       "      <th>0</th>\n",
       "      <th>1</th>\n",
       "      <th>target</th>\n",
       "    </tr>\n",
       "  </thead>\n",
       "  <tbody>\n",
       "    <tr>\n",
       "      <th>0</th>\n",
       "      <td>0</td>\n",
       "      <td>B</td>\n",
       "      <td>B</td>\n",
       "      <td>B</td>\n",
       "      <td>C</td>\n",
       "      <td>B</td>\n",
       "      <td>B</td>\n",
       "      <td>A</td>\n",
       "      <td>E</td>\n",
       "      <td>E</td>\n",
       "      <td>I</td>\n",
       "      <td>0.296227</td>\n",
       "      <td>0.686757</td>\n",
       "      <td>0.587731</td>\n",
       "      <td>0.392753</td>\n",
       "      <td>0.476739</td>\n",
       "      <td>0.376350</td>\n",
       "      <td>0.337884</td>\n",
       "      <td>0.321832</td>\n",
       "      <td>0.445212</td>\n",
       "      <td>0.290258</td>\n",
       "      <td>0.244476</td>\n",
       "      <td>0.087914</td>\n",
       "      <td>0.301831</td>\n",
       "      <td>0.845702</td>\n",
       "      <td>Norm</td>\n",
       "      <td>811.794579</td>\n",
       "      <td>802.49600</td>\n",
       "      <td>8.048493</td>\n",
       "    </tr>\n",
       "    <tr>\n",
       "      <th>1</th>\n",
       "      <td>5</td>\n",
       "      <td>A</td>\n",
       "      <td>B</td>\n",
       "      <td>A</td>\n",
       "      <td>C</td>\n",
       "      <td>B</td>\n",
       "      <td>C</td>\n",
       "      <td>A</td>\n",
       "      <td>E</td>\n",
       "      <td>C</td>\n",
       "      <td>H</td>\n",
       "      <td>0.543707</td>\n",
       "      <td>0.364761</td>\n",
       "      <td>0.452967</td>\n",
       "      <td>0.929645</td>\n",
       "      <td>0.285509</td>\n",
       "      <td>0.860046</td>\n",
       "      <td>0.798712</td>\n",
       "      <td>0.835961</td>\n",
       "      <td>0.391657</td>\n",
       "      <td>0.288276</td>\n",
       "      <td>0.549568</td>\n",
       "      <td>0.905097</td>\n",
       "      <td>0.850684</td>\n",
       "      <td>0.693940</td>\n",
       "      <td>Norm</td>\n",
       "      <td>841.286617</td>\n",
       "      <td>838.92790</td>\n",
       "      <td>8.395066</td>\n",
       "    </tr>\n",
       "    <tr>\n",
       "      <th>2</th>\n",
       "      <td>15</td>\n",
       "      <td>B</td>\n",
       "      <td>A</td>\n",
       "      <td>A</td>\n",
       "      <td>A</td>\n",
       "      <td>B</td>\n",
       "      <td>B</td>\n",
       "      <td>A</td>\n",
       "      <td>E</td>\n",
       "      <td>D</td>\n",
       "      <td>K</td>\n",
       "      <td>0.408961</td>\n",
       "      <td>0.296129</td>\n",
       "      <td>0.690999</td>\n",
       "      <td>0.740027</td>\n",
       "      <td>0.697272</td>\n",
       "      <td>0.683600</td>\n",
       "      <td>0.404089</td>\n",
       "      <td>0.879379</td>\n",
       "      <td>0.275549</td>\n",
       "      <td>0.427871</td>\n",
       "      <td>0.491667</td>\n",
       "      <td>0.384315</td>\n",
       "      <td>0.376689</td>\n",
       "      <td>0.508099</td>\n",
       "      <td>Norm</td>\n",
       "      <td>837.758268</td>\n",
       "      <td>841.12854</td>\n",
       "      <td>8.401055</td>\n",
       "    </tr>\n",
       "    <tr>\n",
       "      <th>3</th>\n",
       "      <td>16</td>\n",
       "      <td>B</td>\n",
       "      <td>B</td>\n",
       "      <td>A</td>\n",
       "      <td>C</td>\n",
       "      <td>B</td>\n",
       "      <td>D</td>\n",
       "      <td>A</td>\n",
       "      <td>E</td>\n",
       "      <td>A</td>\n",
       "      <td>N</td>\n",
       "      <td>1.031239</td>\n",
       "      <td>0.356062</td>\n",
       "      <td>0.303651</td>\n",
       "      <td>0.895591</td>\n",
       "      <td>0.719306</td>\n",
       "      <td>0.777890</td>\n",
       "      <td>0.730954</td>\n",
       "      <td>0.644315</td>\n",
       "      <td>1.024017</td>\n",
       "      <td>0.391090</td>\n",
       "      <td>0.988340</td>\n",
       "      <td>0.411828</td>\n",
       "      <td>0.393585</td>\n",
       "      <td>0.461372</td>\n",
       "      <td>Norm</td>\n",
       "      <td>853.769654</td>\n",
       "      <td>847.46990</td>\n",
       "      <td>8.495480</td>\n",
       "    </tr>\n",
       "    <tr>\n",
       "      <th>4</th>\n",
       "      <td>17</td>\n",
       "      <td>B</td>\n",
       "      <td>B</td>\n",
       "      <td>A</td>\n",
       "      <td>C</td>\n",
       "      <td>B</td>\n",
       "      <td>C</td>\n",
       "      <td>A</td>\n",
       "      <td>E</td>\n",
       "      <td>C</td>\n",
       "      <td>F</td>\n",
       "      <td>0.530447</td>\n",
       "      <td>0.729004</td>\n",
       "      <td>0.281723</td>\n",
       "      <td>0.444698</td>\n",
       "      <td>0.313032</td>\n",
       "      <td>0.431007</td>\n",
       "      <td>0.390992</td>\n",
       "      <td>0.408874</td>\n",
       "      <td>0.447887</td>\n",
       "      <td>0.390253</td>\n",
       "      <td>0.648932</td>\n",
       "      <td>0.385935</td>\n",
       "      <td>0.370401</td>\n",
       "      <td>0.900412</td>\n",
       "      <td>Norm</td>\n",
       "      <td>819.820749</td>\n",
       "      <td>811.22650</td>\n",
       "      <td>8.132553</td>\n",
       "    </tr>\n",
       "  </tbody>\n",
       "</table>\n",
       "</div>"
      ],
      "text/plain": [
       "   id cat0 cat1 cat2 cat3 cat4 cat5 cat6 cat7 cat8 cat9     cont0     cont1  \\\n",
       "0   0    B    B    B    C    B    B    A    E    E    I  0.296227  0.686757   \n",
       "1   5    A    B    A    C    B    C    A    E    C    H  0.543707  0.364761   \n",
       "2  15    B    A    A    A    B    B    A    E    D    K  0.408961  0.296129   \n",
       "3  16    B    B    A    C    B    D    A    E    A    N  1.031239  0.356062   \n",
       "4  17    B    B    A    C    B    C    A    E    C    F  0.530447  0.729004   \n",
       "\n",
       "      cont2     cont3     cont4     cont5     cont6     cont7     cont8  \\\n",
       "0  0.587731  0.392753  0.476739  0.376350  0.337884  0.321832  0.445212   \n",
       "1  0.452967  0.929645  0.285509  0.860046  0.798712  0.835961  0.391657   \n",
       "2  0.690999  0.740027  0.697272  0.683600  0.404089  0.879379  0.275549   \n",
       "3  0.303651  0.895591  0.719306  0.777890  0.730954  0.644315  1.024017   \n",
       "4  0.281723  0.444698  0.313032  0.431007  0.390992  0.408874  0.447887   \n",
       "\n",
       "      cont9    cont10    cont11    cont12    cont13 anomaly_col           0  \\\n",
       "0  0.290258  0.244476  0.087914  0.301831  0.845702        Norm  811.794579   \n",
       "1  0.288276  0.549568  0.905097  0.850684  0.693940        Norm  841.286617   \n",
       "2  0.427871  0.491667  0.384315  0.376689  0.508099        Norm  837.758268   \n",
       "3  0.391090  0.988340  0.411828  0.393585  0.461372        Norm  853.769654   \n",
       "4  0.390253  0.648932  0.385935  0.370401  0.900412        Norm  819.820749   \n",
       "\n",
       "           1    target  \n",
       "0  802.49600  8.048493  \n",
       "1  838.92790  8.395066  \n",
       "2  841.12854  8.401055  \n",
       "3  847.46990  8.495480  \n",
       "4  811.22650  8.132553  "
      ]
     },
     "execution_count": 94,
     "metadata": {},
     "output_type": "execute_result"
    }
   ],
   "source": [
    "test.head()"
   ]
  },
  {
   "cell_type": "code",
   "execution_count": 96,
   "metadata": {},
   "outputs": [],
   "source": [
    "test[['id', 'target']].to_csv('./ensemble.csv', index=False)"
   ]
  },
  {
   "cell_type": "code",
   "execution_count": null,
   "metadata": {},
   "outputs": [],
   "source": []
  }
 ],
 "metadata": {
  "kernelspec": {
   "display_name": "Python 3",
   "language": "python",
   "name": "python3"
  },
  "language_info": {
   "codemirror_mode": {
    "name": "ipython",
    "version": 3
   },
   "file_extension": ".py",
   "mimetype": "text/x-python",
   "name": "python",
   "nbconvert_exporter": "python",
   "pygments_lexer": "ipython3",
   "version": "3.7.4"
  }
 },
 "nbformat": 4,
 "nbformat_minor": 2
}

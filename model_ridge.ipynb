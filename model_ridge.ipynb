{
 "cells": [
  {
   "cell_type": "code",
   "execution_count": 1,
   "metadata": {},
   "outputs": [
    {
     "name": "stderr",
     "output_type": "stream",
     "text": [
      "C:\\ProgramData\\Anaconda3\\lib\\importlib\\_bootstrap.py:219: RuntimeWarning: numpy.ufunc size changed, may indicate binary incompatibility. Expected 192 from C header, got 216 from PyObject\n",
      "  return f(*args, **kwds)\n"
     ]
    }
   ],
   "source": [
    "import yaml\n",
    "import pandas as pd\n",
    "import numpy as np\n",
    "from sklearn.pipeline import Pipeline\n",
    "from sklearn.model_selection import train_test_split\n",
    "from sklearn.compose import ColumnTransformer\n",
    "from sklearn.impute import SimpleImputer\n",
    "from sklearn.preprocessing import StandardScaler, OneHotEncoder\n",
    "from sklearn.preprocessing import PowerTransformer\n",
    "from sklearn.metrics import make_scorer\n",
    "from sklearn.model_selection import cross_val_score\n",
    "from sklearn.preprocessing import KBinsDiscretizer\n",
    "from sklearn import linear_model\n",
    "from sklearn.metrics import mean_squared_error\n",
    "from sklearn import metrics, model_selection, ensemble\n",
    "\n",
    "\n",
    "pd.set_option('display.max_columns', None)"
   ]
  },
  {
   "cell_type": "code",
   "execution_count": 2,
   "metadata": {},
   "outputs": [],
   "source": [
    "try:\n",
    "    from CustomPipeline import *\n",
    "except:\n",
    "    import sys\n",
    "    sys.path.insert(0,'/content/sample_data')\n",
    "    from CustomPipeline import *\n",
    "    print(\"ok\")"
   ]
  },
  {
   "cell_type": "code",
   "execution_count": 3,
   "metadata": {},
   "outputs": [],
   "source": [
    "try:\n",
    "    train = pd.read_csv(\"./Datasets/train_anomaly.csv\", delimiter=\",\", sep='.', index_col='id')\n",
    "    test = pd.read_csv(\"./Datasets/test_anomaly.csv\", delimiter=\",\", sep='.', index_col='id')\n",
    "except:\n",
    "    train = pd.read_csv(\"./sample_data/train_anomaly.csv\", delimiter=\",\", sep='.')"
   ]
  },
  {
   "cell_type": "code",
   "execution_count": 4,
   "metadata": {},
   "outputs": [
    {
     "name": "stdout",
     "output_type": "stream",
     "text": [
      "{'alpha': 45.97949266795876}\n"
     ]
    }
   ],
   "source": [
    "with open(\"./Configs/params_model_linear.yml\", 'r') as stream:\n",
    "    try:\n",
    "        params_linear = yaml.safe_load(stream)\n",
    "        print(params_linear)\n",
    "    except yaml.YAMLError as exc:\n",
    "        print(exc)"
   ]
  },
  {
   "cell_type": "code",
   "execution_count": 5,
   "metadata": {},
   "outputs": [],
   "source": [
    "RANDOM_STATE = 42"
   ]
  },
  {
   "cell_type": "code",
   "execution_count": 6,
   "metadata": {},
   "outputs": [],
   "source": [
    "train[\"target\"] = 100 * train[\"target\"]"
   ]
  },
  {
   "cell_type": "code",
   "execution_count": 7,
   "metadata": {},
   "outputs": [],
   "source": [
    "train, test_ensemble = train_test_split(train, test_size=0.1, random_state=RANDOM_STATE)\n",
    "train_estimators, train_ensemble = train_test_split(train, test_size=0.2, random_state=RANDOM_STATE)"
   ]
  },
  {
   "cell_type": "code",
   "execution_count": 8,
   "metadata": {},
   "outputs": [],
   "source": [
    "X = train_estimators.drop([\"target\"], axis=1)\n",
    "y = train_estimators[\"target\"]"
   ]
  },
  {
   "cell_type": "code",
   "execution_count": 3,
   "metadata": {},
   "outputs": [
    {
     "name": "stdout",
     "output_type": "stream",
     "text": [
      "Collecting dvc\n",
      "  Using cached https://files.pythonhosted.org/packages/3a/f0/702721222ef6133b58cf1ee37484ecc6b79ac8175c2dd1a83d156ce181d8/dvc-2.6.4-py3-none-any.whl\n",
      "Collecting ruamel.yaml>=0.17.11 (from dvc)\n",
      "  Using cached https://files.pythonhosted.org/packages/d3/cc/248dfb697bb98152c187ced584e505124ed952529d7f8e74b28f6f4d6f31/ruamel.yaml-0.17.16-py3-none-any.whl\n",
      "Collecting voluptuous>=0.11.7 (from dvc)\n",
      "  Using cached https://files.pythonhosted.org/packages/9c/b9/84f5bd190a7dc234cea2ca1da02c8900ace982e0ad4ae494660585844f04/voluptuous-0.12.1-py3-none-any.whl\n",
      "Collecting pathspec<0.9.0,>=0.6.0 (from dvc)\n",
      "  Using cached https://files.pythonhosted.org/packages/29/29/a465741a3d97ea3c17d21eaad4c64205428bde56742360876c4391f930d4/pathspec-0.8.1-py2.py3-none-any.whl\n",
      "Collecting rich>=10.0.0 (from dvc)\n",
      "  Using cached https://files.pythonhosted.org/packages/e9/c4/ea9a6e34dd5c4c3049b0a86c49feb7f38c9f5e901ffb6eeb832e89dfa540/rich-10.9.0-py3-none-any.whl\n",
      "Collecting fsspec>=2021.7.0 (from dvc)\n",
      "  Using cached https://files.pythonhosted.org/packages/aa/c8/1555defd0c6df2fde59f567dd812e5dcb2c843dac37dbbff2be66d6a6ca1/fsspec-2021.8.1-py3-none-any.whl\n",
      "Requirement already satisfied: tqdm<5,>=4.45.0 in c:\\users\\user\\appdata\\roaming\\python\\python37\\site-packages (from dvc) (4.54.1)\n",
      "Collecting psutil>=5.8.0 (from dvc)\n",
      "  Using cached https://files.pythonhosted.org/packages/71/ce/35107e81e7eae55c847313f872d4258a71d2640fa04f57c5520fc81473ce/psutil-5.8.0-cp37-cp37m-win_amd64.whl\n",
      "Requirement already satisfied: pygit2>=1.5.0 in c:\\programdata\\anaconda3\\lib\\site-packages (from dvc) (1.6.1)\n",
      "Requirement already satisfied: setuptools>=34.0.0 in c:\\programdata\\anaconda3\\lib\\site-packages (from dvc) (41.4.0)\n",
      "Requirement already satisfied: win-unicode-console>=0.5; sys_platform == \"win32\" in c:\\programdata\\anaconda3\\lib\\site-packages (from dvc) (0.5)\n",
      "Collecting flatten-dict<1,>=0.4.1 (from dvc)\n",
      "  Using cached https://files.pythonhosted.org/packages/43/f5/ee39c6e92acc742c052f137b47c210cd0a1b72dcd3f98495528bb4d27761/flatten_dict-0.4.2-py2.py3-none-any.whl\n",
      "Requirement already satisfied: appdirs>=1.4.3 in c:\\programdata\\anaconda3\\lib\\site-packages (from dvc) (1.4.3)\n",
      "Requirement already satisfied: diskcache>=5.2.1 in c:\\programdata\\anaconda3\\lib\\site-packages (from dvc) (5.2.1)\n",
      "Collecting shtab<2,>=1.3.4 (from dvc)\n",
      "  Using cached https://files.pythonhosted.org/packages/bd/e1/147fc8bbe4da0ffd6bb4083eb0b58270bf59cbd2acca17d956a707a7c293/shtab-1.4.1-py2.py3-none-any.whl\n",
      "Requirement already satisfied: pyasn1>=0.4.1 in c:\\programdata\\anaconda3\\lib\\site-packages (from dvc) (0.4.8)\n",
      "Collecting nanotime>=0.5.2 (from dvc)\n",
      "Collecting pywin32>=225; sys_platform == \"win32\" and python_version < \"3.10\" (from dvc)\n",
      "  Using cached https://files.pythonhosted.org/packages/84/e0/f7c34be2e080c248e378109c3a848cd07ab8e45e11d8dc9f1d818b3940c7/pywin32-301-cp37-cp37m-win_amd64.whl\n",
      "Collecting distro>=1.3.0 (from dvc)\n",
      "  Using cached https://files.pythonhosted.org/packages/b3/8d/a0a5c389d76f90c766e956515d34c3408a1e18f60fbaa08221d1f6b87490/distro-1.6.0-py2.py3-none-any.whl\n",
      "Requirement already satisfied: python-benedict>=0.21.1 in c:\\programdata\\anaconda3\\lib\\site-packages (from dvc) (0.24.2)\n",
      "Requirement already satisfied: tabulate>=0.8.7 in c:\\programdata\\anaconda3\\lib\\site-packages (from dvc) (0.8.9)\n",
      "Collecting zc.lockfile>=1.2.1 (from dvc)\n",
      "  Using cached https://files.pythonhosted.org/packages/6c/2a/268389776288f0f26c7272c70c36c96dcc0bdb88ab6216ea18e19df1fadd/zc.lockfile-2.0-py2.py3-none-any.whl\n",
      "Requirement already satisfied: toml>=0.10.1 in c:\\programdata\\anaconda3\\lib\\site-packages (from dvc) (0.10.2)\n",
      "Requirement already satisfied: configobj>=5.0.6 in c:\\programdata\\anaconda3\\lib\\site-packages (from dvc) (5.0.6)\n",
      "Collecting pydot>=1.2.4 (from dvc)\n",
      "  Using cached https://files.pythonhosted.org/packages/ea/76/75b1bb82e9bad3e3d656556eaa353d8cd17c4254393b08ec9786ac8ed273/pydot-1.4.2-py2.py3-none-any.whl\n",
      "Collecting pyparsing==2.4.7 (from dvc)\n",
      "  Using cached https://files.pythonhosted.org/packages/8a/bb/488841f56197b13700afd5658fc279a2025a39e22449b7cf29864669b15d/pyparsing-2.4.7-py2.py3-none-any.whl\n",
      "Collecting pygtrie>=2.3.2 (from dvc)\n",
      "Requirement already satisfied: ply>=3.9 in c:\\programdata\\anaconda3\\lib\\site-packages (from dvc) (3.11)\n",
      "Collecting dulwich>=0.20.23 (from dvc)\n",
      "  Using cached https://files.pythonhosted.org/packages/f7/7d/74319e6b76dc576f6a812b7a04fdc949d11c14285e5a76b79b8692f5ba63/dulwich-0.20.25-cp37-cp37m-win_amd64.whl\n",
      "Requirement already satisfied: importlib-metadata>=1.4; python_version < \"3.8\" in c:\\users\\user\\appdata\\roaming\\python\\python37\\site-packages (from dvc) (3.4.0)\n",
      "Requirement already satisfied: speedcopy>=2.0.1; python_version < \"3.8\" and sys_platform == \"win32\" in c:\\programdata\\anaconda3\\lib\\site-packages (from dvc) (2.1.0)\n",
      "Collecting gitpython>3 (from dvc)\n",
      "  Using cached https://files.pythonhosted.org/packages/bc/91/b38c4fabb6e5092ab23492ded4f318ab7299b19263272b703478038c0fbc/GitPython-3.1.18-py3-none-any.whl\n",
      "Requirement already satisfied: colorama>=0.3.9 in c:\\programdata\\anaconda3\\lib\\site-packages (from dvc) (0.4.1)\n",
      "Requirement already satisfied: networkx>=2.5 in c:\\users\\user\\appdata\\roaming\\python\\python37\\site-packages (from dvc) (2.5)\n",
      "Collecting dictdiffer>=0.8.1 (from dvc)\n",
      "  Using cached https://files.pythonhosted.org/packages/47/ef/4cb333825d10317a36a1154341ba37e6e9c087bac99c1990ef07ffdb376f/dictdiffer-0.9.0-py2.py3-none-any.whl\n",
      "Collecting dpath<3,>=2.0.1 (from dvc)\n",
      "  Using cached https://files.pythonhosted.org/packages/fb/f0/cb451dd9022e73698c76cb08780ec013b74f4dc9bacc775baf06b66253e2/dpath-2.0.2-py3-none-any.whl\n",
      "Requirement already satisfied: typing-extensions>=3.7.4 in c:\\programdata\\anaconda3\\lib\\site-packages (from dvc) (3.7.4.3)\n",
      "Collecting shortuuid>=0.5.0 (from dvc)\n",
      "  Using cached https://files.pythonhosted.org/packages/25/a6/2ecc1daa6a304e7f1b216f0896b26156b78e7c38e1211e9b798b4716c53d/shortuuid-1.0.1-py3-none-any.whl\n",
      "Requirement already satisfied: packaging>=19.0 in c:\\users\\user\\appdata\\roaming\\python\\python37\\site-packages (from dvc) (20.9)\n",
      "Requirement already satisfied: requests>=2.22.0 in c:\\users\\user\\appdata\\roaming\\python\\python37\\site-packages (from dvc) (2.25.0)\n",
      "Requirement already satisfied: flufl.lock<4,>=3.2 in c:\\programdata\\anaconda3\\lib\\site-packages (from dvc) (3.2)\n",
      "Collecting funcy>=1.14 (from dvc)\n",
      "  Using cached https://files.pythonhosted.org/packages/44/52/5cf7401456a461e4b481650dfb8279bc000f31a011d0918904f86e755947/funcy-1.16-py2.py3-none-any.whl\n",
      "Collecting grandalf==0.6 (from dvc)\n",
      "  Using cached https://files.pythonhosted.org/packages/54/f4/a0b6a4c6d616d0a838b2dd0bc7bf74d73e8e8cdc880bab7fdb5fdc3d0e06/grandalf-0.6-py3-none-any.whl\n",
      "Collecting ruamel.yaml.clib>=0.1.2; platform_python_implementation == \"CPython\" and python_version < \"3.10\" (from ruamel.yaml>=0.17.11->dvc)\n",
      "  Using cached https://files.pythonhosted.org/packages/49/8c/be4e675b5c38497f10e3eba89bf141ac7aa085db1a541294f0b60e4237a7/ruamel.yaml.clib-0.2.6-cp37-cp37m-win_amd64.whl\n",
      "Collecting commonmark<0.10.0,>=0.9.0 (from rich>=10.0.0->dvc)\n",
      "  Using cached https://files.pythonhosted.org/packages/b1/92/dfd892312d822f36c55366118b95d914e5f16de11044a27cf10a7d71bbbf/commonmark-0.9.1-py2.py3-none-any.whl\n",
      "Collecting pygments<3.0.0,>=2.6.0 (from rich>=10.0.0->dvc)\n",
      "  Using cached https://files.pythonhosted.org/packages/78/c8/8d9be2f72d8f465461f22b5f199c04f7ada933add4dae6e2468133c17471/Pygments-2.10.0-py3-none-any.whl\n",
      "Requirement already satisfied: cached-property in c:\\programdata\\anaconda3\\lib\\site-packages (from pygit2>=1.5.0->dvc) (1.5.2)\n",
      "Requirement already satisfied: cffi>=1.4.0 in c:\\programdata\\anaconda3\\lib\\site-packages (from pygit2>=1.5.0->dvc) (1.12.3)\n",
      "Requirement already satisfied: six<2.0,>=1.12 in c:\\users\\user\\appdata\\roaming\\python\\python37\\site-packages (from flatten-dict<1,>=0.4.1->dvc) (1.14.0)\n",
      "Requirement already satisfied: phonenumbers in c:\\programdata\\anaconda3\\lib\\site-packages (from python-benedict>=0.21.1->dvc) (8.12.31)\n",
      "Requirement already satisfied: mailchecker in c:\\programdata\\anaconda3\\lib\\site-packages (from python-benedict>=0.21.1->dvc) (4.0.11)\n",
      "Requirement already satisfied: python-fsutil in c:\\programdata\\anaconda3\\lib\\site-packages (from python-benedict>=0.21.1->dvc) (0.5.0)\n",
      "Requirement already satisfied: ftfy; python_version >= \"3.6\" in c:\\programdata\\anaconda3\\lib\\site-packages (from python-benedict>=0.21.1->dvc) (6.0.3)\n",
      "Requirement already satisfied: xmltodict in c:\\programdata\\anaconda3\\lib\\site-packages (from python-benedict>=0.21.1->dvc) (0.12.0)\n",
      "Requirement already satisfied: python-slugify in c:\\programdata\\anaconda3\\lib\\site-packages (from python-benedict>=0.21.1->dvc) (5.0.2)\n",
      "Requirement already satisfied: python-dateutil in c:\\programdata\\anaconda3\\lib\\site-packages (from python-benedict>=0.21.1->dvc) (2.8.0)\n",
      "Requirement already satisfied: pyyaml in c:\\programdata\\anaconda3\\lib\\site-packages (from python-benedict>=0.21.1->dvc) (5.1.2)\n",
      "Requirement already satisfied: certifi in c:\\programdata\\anaconda3\\lib\\site-packages (from dulwich>=0.20.23->dvc) (2019.9.11)\n",
      "Requirement already satisfied: urllib3>=1.24.1 in c:\\programdata\\anaconda3\\lib\\site-packages (from dulwich>=0.20.23->dvc) (1.24.2)\n",
      "Requirement already satisfied: zipp>=0.5 in c:\\programdata\\anaconda3\\lib\\site-packages (from importlib-metadata>=1.4; python_version < \"3.8\"->dvc) (0.6.0)\n",
      "Collecting gitdb<5,>=4.0.1 (from gitpython>3->dvc)\n",
      "  Using cached https://files.pythonhosted.org/packages/ea/e8/f414d1a4f0bbc668ed441f74f44c116d9816833a48bf81d22b697090dba8/gitdb-4.0.7-py3-none-any.whl\n",
      "Requirement already satisfied: decorator>=4.3.0 in c:\\programdata\\anaconda3\\lib\\site-packages (from networkx>=2.5->dvc) (4.4.0)\n",
      "Requirement already satisfied: idna<3,>=2.5 in c:\\programdata\\anaconda3\\lib\\site-packages (from requests>=2.22.0->dvc) (2.8)\n",
      "Requirement already satisfied: chardet<4,>=3.0.2 in c:\\programdata\\anaconda3\\lib\\site-packages (from requests>=2.22.0->dvc) (3.0.4)\n",
      "Requirement already satisfied: atpublic in c:\\programdata\\anaconda3\\lib\\site-packages (from flufl.lock<4,>=3.2->dvc) (2.3)\n",
      "Requirement already satisfied: future in c:\\programdata\\anaconda3\\lib\\site-packages (from grandalf==0.6->dvc) (0.17.1)\n",
      "Requirement already satisfied: pycparser in c:\\programdata\\anaconda3\\lib\\site-packages (from cffi>=1.4.0->pygit2>=1.5.0->dvc) (2.19)\n",
      "Requirement already satisfied: wcwidth in c:\\programdata\\anaconda3\\lib\\site-packages (from ftfy; python_version >= \"3.6\"->python-benedict>=0.21.1->dvc) (0.1.7)\n",
      "Requirement already satisfied: text-unidecode>=1.3 in c:\\programdata\\anaconda3\\lib\\site-packages (from python-slugify->python-benedict>=0.21.1->dvc) (1.3)\n",
      "Requirement already satisfied: more-itertools in c:\\programdata\\anaconda3\\lib\\site-packages (from zipp>=0.5->importlib-metadata>=1.4; python_version < \"3.8\"->dvc) (7.2.0)\n",
      "Collecting smmap<5,>=3.0.1 (from gitdb<5,>=4.0.1->gitpython>3->dvc)\n",
      "  Using cached https://files.pythonhosted.org/packages/68/ee/d540eb5e5996eb81c26ceffac6ee49041d473bc5125f2aa995cf51ec1cf1/smmap-4.0.0-py2.py3-none-any.whl\n",
      "Installing collected packages: ruamel.yaml.clib, ruamel.yaml, voluptuous, pathspec, commonmark, pygments, rich, fsspec, psutil, flatten-dict, shtab, nanotime, pywin32, distro, zc.lockfile, pyparsing, pydot, pygtrie, dulwich, smmap, gitdb, gitpython, dictdiffer, dpath, shortuuid, funcy, grandalf, dvc\n",
      "  Found existing installation: fsspec 0.8.5\n",
      "    Uninstalling fsspec-0.8.5:\n",
      "      Successfully uninstalled fsspec-0.8.5\n",
      "Successfully installed commonmark-0.9.1 dictdiffer-0.9.0 distro-1.6.0 dpath-2.0.2 dulwich-0.20.25 dvc-2.6.4 flatten-dict-0.4.2 fsspec-2021.8.1 funcy-1.16 gitdb-4.0.7 gitpython-3.1.18 grandalf-0.6 nanotime-0.5.2 pathspec-0.8.1 psutil-5.8.0 pydot-1.4.2 pygments-2.10.0 pygtrie-2.4.2 pyparsing-2.4.7 pywin32-301 rich-10.9.0 ruamel.yaml-0.17.16 ruamel.yaml.clib-0.2.6 shortuuid-1.0.1 shtab-1.4.1 smmap-4.0.0 voluptuous-0.12.1 zc.lockfile-2.0\n"
     ]
    },
    {
     "name": "stderr",
     "output_type": "stream",
     "text": [
      "ERROR: spyder 3.3.6 requires pyqt5<5.13; python_version >= \"3\", which is not installed.\n",
      "ERROR: spyder 3.3.6 requires pyqtwebengine<5.13; python_version >= \"3\", which is not installed.\n",
      "  WARNING: The script cmark.exe is installed in 'C:\\Users\\User\\AppData\\Roaming\\Python\\Python37\\Scripts' which is not on PATH.\n",
      "  Consider adding this directory to PATH or, if you prefer to suppress this warning, use --no-warn-script-location.\n",
      "  WARNING: The script pygmentize.exe is installed in 'C:\\Users\\User\\AppData\\Roaming\\Python\\Python37\\Scripts' which is not on PATH.\n",
      "  Consider adding this directory to PATH or, if you prefer to suppress this warning, use --no-warn-script-location.\n",
      "  WARNING: The script shtab.exe is installed in 'C:\\Users\\User\\AppData\\Roaming\\Python\\Python37\\Scripts' which is not on PATH.\n",
      "  Consider adding this directory to PATH or, if you prefer to suppress this warning, use --no-warn-script-location.\n",
      "  WARNING: The script distro.exe is installed in 'C:\\Users\\User\\AppData\\Roaming\\Python\\Python37\\Scripts' which is not on PATH.\n",
      "  Consider adding this directory to PATH or, if you prefer to suppress this warning, use --no-warn-script-location.\n",
      "  WARNING: The script dulwich.exe is installed in 'C:\\Users\\User\\AppData\\Roaming\\Python\\Python37\\Scripts' which is not on PATH.\n",
      "  Consider adding this directory to PATH or, if you prefer to suppress this warning, use --no-warn-script-location.\n",
      "  WARNING: The script dvc.exe is installed in 'C:\\Users\\User\\AppData\\Roaming\\Python\\Python37\\Scripts' which is not on PATH.\n",
      "  Consider adding this directory to PATH or, if you prefer to suppress this warning, use --no-warn-script-location.\n"
     ]
    }
   ],
   "source": [
    "!pip install dvc --user"
   ]
  },
  {
   "cell_type": "code",
   "execution_count": 4,
   "metadata": {},
   "outputs": [
    {
     "name": "stderr",
     "output_type": "stream",
     "text": [
      "\"dvc\" ­Ґ пў«пҐвбп ў­гваҐ­­Ґ© Ё«Ё ў­Ґи­Ґ©\n",
      "Є®¬ ­¤®©, ЁбЇ®«­пҐ¬®© Їа®Ја ¬¬®© Ё«Ё Ї ЄҐв­л¬ д ©«®¬.\n"
     ]
    }
   ],
   "source": [
    "!dvc --help"
   ]
  },
  {
   "cell_type": "markdown",
   "metadata": {},
   "source": [
    "# linear ridge"
   ]
  },
  {
   "cell_type": "code",
   "execution_count": 11,
   "metadata": {},
   "outputs": [],
   "source": [
    "n_bins=63\n",
    "\n",
    "X_lr = train_estimators.query(\"target > 600\").drop([\"target\"], axis=1)\n",
    "y_lr = train_estimators.query(\"target > 600\")[\"target\"]\n",
    "\n",
    "lr = linear_model.Ridge(**params_linear)\n",
    "model = LinearWrapper(lr, bins_linear=n_bins)\n",
    "model.fit(X_lr, y_lr)"
   ]
  },
  {
   "cell_type": "markdown",
   "metadata": {},
   "source": [
    "# save model"
   ]
  },
  {
   "cell_type": "code",
   "execution_count": 12,
   "metadata": {},
   "outputs": [],
   "source": [
    "import pickle\n",
    "import os\n",
    "\n",
    "directory = './Models'\n",
    "if not os.path.exists(directory):\n",
    "    os.makedirs(directory)\n",
    "\n",
    "# save\n",
    "with open('./Models/model_ridge.pkl','wb') as f:\n",
    "    pickle.dump(model,f)\n"
   ]
  }
 ],
 "metadata": {
  "kernelspec": {
   "display_name": "Python 3",
   "language": "python",
   "name": "python3"
  },
  "language_info": {
   "codemirror_mode": {
    "name": "ipython",
    "version": 3
   },
   "file_extension": ".py",
   "mimetype": "text/x-python",
   "name": "python",
   "nbconvert_exporter": "python",
   "pygments_lexer": "ipython3",
   "version": "3.7.4"
  }
 },
 "nbformat": 4,
 "nbformat_minor": 2
}

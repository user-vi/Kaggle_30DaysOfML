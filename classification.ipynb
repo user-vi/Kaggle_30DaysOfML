{
 "cells": [
  {
   "cell_type": "code",
   "execution_count": 1,
   "metadata": {},
   "outputs": [],
   "source": [
    "import warnings\n",
    "warnings.filterwarnings(\"ignore\")\n",
    "\n",
    "import datetime\n",
    "from sklearn import metrics, model_selection, ensemble\n",
    "import pandas as pd\n",
    "import numpy as np\n",
    "import optuna\n",
    "from sklearn.pipeline import Pipeline\n",
    "from sklearn.model_selection import train_test_split\n",
    "from sklearn.impute import SimpleImputer\n",
    "from sklearn import linear_model\n",
    "\n",
    "from imblearn.pipeline import make_pipeline\n",
    "from imblearn import under_sampling\n",
    "from sklearn.metrics import roc_auc_score\n",
    "\n",
    "from ipynb.fs.full.CustomPipeline import CustomPipeline"
   ]
  },
  {
   "cell_type": "code",
   "execution_count": 2,
   "metadata": {},
   "outputs": [],
   "source": [
    "# test = pd.read_csv(\"./test_anomaly.csv\", delimiter=\",\", sep='.')\n",
    "train = pd.read_csv(\"./train_anomaly.csv\", delimiter=\",\", sep='.')"
   ]
  },
  {
   "cell_type": "code",
   "execution_count": 3,
   "metadata": {},
   "outputs": [
    {
     "data": {
      "text/plain": [
       "normal        299628\n",
       "exponetial       372\n",
       "Name: target_distribution, dtype: int64"
      ]
     },
     "execution_count": 3,
     "metadata": {},
     "output_type": "execute_result"
    }
   ],
   "source": [
    "train['target_distribution'] = train.apply(lambda df: 'exponetial' if (df.target < 6) else 'normal', axis=1)\n",
    "train['target_distribution'].value_counts()"
   ]
  },
  {
   "cell_type": "code",
   "execution_count": 4,
   "metadata": {},
   "outputs": [],
   "source": [
    "train.drop(\"target\", axis=1, inplace=True)"
   ]
  },
  {
   "cell_type": "code",
   "execution_count": 5,
   "metadata": {},
   "outputs": [],
   "source": [
    "num_train = train.select_dtypes([int, float])\n",
    "cat_train = train.select_dtypes(object)\n",
    "\n",
    "num = list(num_train)\n",
    "cat = list(cat_train.drop(['target_distribution'],axis=1))"
   ]
  },
  {
   "cell_type": "code",
   "execution_count": 6,
   "metadata": {},
   "outputs": [],
   "source": [
    "preprocessor = CustomPipeline(10, num, cat).get_preprocessor()"
   ]
  },
  {
   "cell_type": "code",
   "execution_count": 13,
   "metadata": {},
   "outputs": [
    {
     "data": {
      "text/plain": [
       "ColumnTransformer(n_jobs=None, remainder='passthrough', sparse_threshold=0.3,\n",
       "                  transformer_weights=None,\n",
       "                  transformers=[('num',\n",
       "                                 Pipeline(memory=None,\n",
       "                                          steps=[('imputer',\n",
       "                                                  SimpleImputer(add_indicator=False,\n",
       "                                                                copy=True,\n",
       "                                                                fill_value=None,\n",
       "                                                                missing_values=nan,\n",
       "                                                                strategy='median',\n",
       "                                                                verbose=0)),\n",
       "                                                 ('scaling',\n",
       "                                                  StandardScaler(copy=True,\n",
       "                                                                 with_mean=True,\n",
       "                                                                 with_std=True)),\n",
       "                                                 ('normal',\n",
       "                                                  Powe...\n",
       "                                                  SimpleImputer(add_indicator=False,\n",
       "                                                                copy=True,\n",
       "                                                                fill_value=None,\n",
       "                                                                missing_values=nan,\n",
       "                                                                strategy='most_frequent',\n",
       "                                                                verbose=0)),\n",
       "                                                 ('encoding',\n",
       "                                                  OneHotEncoder(categories='auto',\n",
       "                                                                drop=None,\n",
       "                                                                dtype=<class 'numpy.float64'>,\n",
       "                                                                handle_unknown='ignore',\n",
       "                                                                sparse=True))],\n",
       "                                          verbose=False),\n",
       "                                 ['cat0', 'cat1', 'cat2', 'cat3', 'cat4',\n",
       "                                  'cat5', 'cat6', 'cat7', 'cat8', 'cat9',\n",
       "                                  'anomaly_col', 'cont1_clusters'])],\n",
       "                  verbose=False)"
      ]
     },
     "execution_count": 13,
     "metadata": {},
     "output_type": "execute_result"
    }
   ],
   "source": [
    "preprocessor"
   ]
  },
  {
   "cell_type": "code",
   "execution_count": 7,
   "metadata": {},
   "outputs": [],
   "source": [
    "X = train.drop(['target_distribution', 'id'], axis=1)\n",
    "y = train.target_distribution"
   ]
  },
  {
   "cell_type": "code",
   "execution_count": 8,
   "metadata": {},
   "outputs": [],
   "source": [
    "transformed = preprocessor.fit_transform(X)"
   ]
  },
  {
   "cell_type": "code",
   "execution_count": 9,
   "metadata": {},
   "outputs": [],
   "source": [
    "train_x, valid_x, train_y, valid_y = train_test_split(transformed, y, test_size=0.3, random_state=42)"
   ]
  },
  {
   "cell_type": "code",
   "execution_count": 10,
   "metadata": {},
   "outputs": [
    {
     "data": {
      "text/plain": [
       "(210000, 201)"
      ]
     },
     "execution_count": 10,
     "metadata": {},
     "output_type": "execute_result"
    }
   ],
   "source": [
    "train_x.shape"
   ]
  },
  {
   "cell_type": "code",
   "execution_count": 11,
   "metadata": {},
   "outputs": [],
   "source": [
    "from sklearn.ensemble import RandomForestClassifier\n",
    "from imblearn.over_sampling import SMOTE \n",
    "from imblearn.over_sampling import KMeansSMOTE\n",
    "from imblearn.over_sampling import RandomOverSampler\n",
    "from imblearn.under_sampling import RandomUnderSampler \n",
    "from sklearn.decomposition import TruncatedSVD\n",
    "from sklearn.neighbors import KNeighborsClassifier"
   ]
  },
  {
   "cell_type": "code",
   "execution_count": 15,
   "metadata": {},
   "outputs": [
    {
     "name": "stdout",
     "output_type": "stream",
     "text": [
      "0.5699211246566815\n",
      "0.5496785148251415\n",
      "0.5169636131179872\n"
     ]
    }
   ],
   "source": [
    "models = [linear_model.LogisticRegression(), RandomForestClassifier(), KNeighborsClassifier()]\n",
    "for model in models:\n",
    "    pipeline_rf = make_pipeline(\n",
    "                                RandomUnderSampler(random_state=42),\n",
    "                                TruncatedSVD(n_components=40),\n",
    "                                model\n",
    "                                )\n",
    "\n",
    "    pipeline_rf.fit(train_x, train_y)\n",
    "    print(metrics.roc_auc_score(valid_y, pipeline_rf.predict_proba(valid_x)[:, 1]))"
   ]
  },
  {
   "cell_type": "markdown",
   "metadata": {},
   "source": [
    "# optuna"
   ]
  },
  {
   "cell_type": "code",
   "execution_count": 20,
   "metadata": {},
   "outputs": [],
   "source": [
    "from sklearn.model_selection import cross_val_score"
   ]
  },
  {
   "cell_type": "code",
   "execution_count": 34,
   "metadata": {},
   "outputs": [],
   "source": [
    "def objective(trial):\n",
    "    \n",
    "    param_model = {\n",
    "        'penalty': trial.suggest_categorical('penalty', ['l1', 'l2']),\n",
    "        'C': trial.suggest_uniform('C', 0.01, 100),\n",
    "    }\n",
    "    \n",
    "    param_cvd = {\n",
    "        'n_components': trial.suggest_int('n_components', 10, 90),\n",
    "    }\n",
    "\n",
    "    \n",
    "    pipeline_rf = make_pipeline(\n",
    "                                RandomUnderSampler(random_state=42),\n",
    "                                TruncatedSVD(**param_cvd),\n",
    "                                linear_model.LogisticRegression(random_state=42, **param_model)\n",
    "                                )\n",
    "\n",
    "    return cross_val_score(pipeline_rf, train_x, train_y, cv=5, scoring='roc_auc').mean()\n"
   ]
  },
  {
   "cell_type": "code",
   "execution_count": 35,
   "metadata": {},
   "outputs": [
    {
     "name": "stderr",
     "output_type": "stream",
     "text": [
      "\u001b[32m[I 2021-08-21 15:54:13,843]\u001b[0m A new study created in memory with name: no-name-02d612d2-0a99-425c-b4d7-387cb20fa39a\u001b[0m\n",
      "\u001b[32m[I 2021-08-21 15:54:18,840]\u001b[0m Trial 0 finished with value: 0.579223556385283 and parameters: {'penalty': 'l2', 'C': 61.69408842524872, 'n_components': 14}. Best is trial 0 with value: 0.579223556385283.\u001b[0m\n",
      "\u001b[33m[W 2021-08-21 15:54:23,377]\u001b[0m Trial 1 failed, because the objective function returned nan.\u001b[0m\n",
      "\u001b[32m[I 2021-08-21 15:54:29,675]\u001b[0m Trial 2 finished with value: 0.5994521022865971 and parameters: {'penalty': 'l2', 'C': 24.540472355636034, 'n_components': 23}. Best is trial 2 with value: 0.5994521022865971.\u001b[0m\n",
      "\u001b[32m[I 2021-08-21 15:54:36,107]\u001b[0m Trial 3 finished with value: 0.6210014771854558 and parameters: {'penalty': 'l2', 'C': 30.30907733492793, 'n_components': 85}. Best is trial 3 with value: 0.6210014771854558.\u001b[0m\n",
      "\u001b[33m[W 2021-08-21 15:54:40,618]\u001b[0m Trial 4 failed, because the objective function returned nan.\u001b[0m\n",
      "\u001b[33m[W 2021-08-21 15:54:44,454]\u001b[0m Trial 5 failed, because the objective function returned nan.\u001b[0m\n",
      "\u001b[33m[W 2021-08-21 15:54:48,268]\u001b[0m Trial 6 failed, because the objective function returned nan.\u001b[0m\n",
      "\u001b[33m[W 2021-08-21 15:54:52,024]\u001b[0m Trial 7 failed, because the objective function returned nan.\u001b[0m\n",
      "\u001b[33m[W 2021-08-21 15:54:55,651]\u001b[0m Trial 8 failed, because the objective function returned nan.\u001b[0m\n",
      "\u001b[32m[I 2021-08-21 15:55:00,727]\u001b[0m Trial 9 finished with value: 0.632787803808436 and parameters: {'penalty': 'l2', 'C': 87.63999366833123, 'n_components': 66}. Best is trial 9 with value: 0.632787803808436.\u001b[0m\n",
      "\u001b[32m[I 2021-08-21 15:55:05,377]\u001b[0m Trial 10 finished with value: 0.6259159881162816 and parameters: {'penalty': 'l2', 'C': 49.15850767371005, 'n_components': 71}. Best is trial 9 with value: 0.632787803808436.\u001b[0m\n",
      "\u001b[32m[I 2021-08-21 15:55:09,539]\u001b[0m Trial 11 finished with value: 0.6067820989914358 and parameters: {'penalty': 'l2', 'C': 66.30160135141382, 'n_components': 30}. Best is trial 9 with value: 0.632787803808436.\u001b[0m\n",
      "\u001b[33m[W 2021-08-21 15:55:13,070]\u001b[0m Trial 12 failed, because the objective function returned nan.\u001b[0m\n",
      "\u001b[32m[I 2021-08-21 15:55:17,797]\u001b[0m Trial 13 finished with value: 0.6252570220751096 and parameters: {'penalty': 'l2', 'C': 76.89209647505831, 'n_components': 88}. Best is trial 9 with value: 0.632787803808436.\u001b[0m\n",
      "\u001b[33m[W 2021-08-21 15:55:21,352]\u001b[0m Trial 14 failed, because the objective function returned nan.\u001b[0m\n",
      "\u001b[33m[W 2021-08-21 15:55:24,938]\u001b[0m Trial 15 failed, because the objective function returned nan.\u001b[0m\n",
      "\u001b[32m[I 2021-08-21 15:55:34,041]\u001b[0m Trial 16 finished with value: 0.577083320018298 and parameters: {'penalty': 'l2', 'C': 29.259010237246443, 'n_components': 10}. Best is trial 9 with value: 0.632787803808436.\u001b[0m\n",
      "\u001b[33m[W 2021-08-21 15:55:44,337]\u001b[0m Trial 17 failed, because the objective function returned nan.\u001b[0m\n",
      "\u001b[33m[W 2021-08-21 15:55:48,307]\u001b[0m Trial 18 failed, because the objective function returned nan.\u001b[0m\n",
      "\u001b[33m[W 2021-08-21 15:55:58,009]\u001b[0m Trial 19 failed, because the objective function returned nan.\u001b[0m\n",
      "\u001b[32m[I 2021-08-21 15:56:03,306]\u001b[0m Trial 20 finished with value: 0.6307620484898372 and parameters: {'penalty': 'l2', 'C': 32.65563995302088, 'n_components': 64}. Best is trial 9 with value: 0.632787803808436.\u001b[0m\n",
      "\u001b[32m[I 2021-08-21 15:56:07,792]\u001b[0m Trial 21 finished with value: 0.614627642152276 and parameters: {'penalty': 'l2', 'C': 45.29173639158709, 'n_components': 53}. Best is trial 9 with value: 0.632787803808436.\u001b[0m\n",
      "\u001b[33m[W 2021-08-21 15:56:11,763]\u001b[0m Trial 22 failed, because the objective function returned nan.\u001b[0m\n",
      "\u001b[33m[W 2021-08-21 15:56:15,770]\u001b[0m Trial 23 failed, because the objective function returned nan.\u001b[0m\n",
      "\u001b[33m[W 2021-08-21 15:56:19,987]\u001b[0m Trial 24 failed, because the objective function returned nan.\u001b[0m\n",
      "\u001b[33m[W 2021-08-21 15:56:25,370]\u001b[0m Trial 25 failed, because the objective function returned nan.\u001b[0m\n",
      "\u001b[33m[W 2021-08-21 15:56:28,979]\u001b[0m Trial 26 failed, because the objective function returned nan.\u001b[0m\n",
      "\u001b[33m[W 2021-08-21 15:56:33,074]\u001b[0m Trial 27 failed, because the objective function returned nan.\u001b[0m\n",
      "\u001b[33m[W 2021-08-21 15:56:44,648]\u001b[0m Trial 28 failed, because the objective function returned nan.\u001b[0m\n",
      "\u001b[33m[W 2021-08-21 15:56:48,819]\u001b[0m Trial 29 failed, because the objective function returned nan.\u001b[0m\n",
      "\u001b[33m[W 2021-08-21 15:56:52,951]\u001b[0m Trial 30 failed, because the objective function returned nan.\u001b[0m\n",
      "\u001b[33m[W 2021-08-21 15:56:56,792]\u001b[0m Trial 31 failed, because the objective function returned nan.\u001b[0m\n",
      "\u001b[33m[W 2021-08-21 15:57:01,287]\u001b[0m Trial 32 failed, because the objective function returned nan.\u001b[0m\n",
      "\u001b[33m[W 2021-08-21 15:57:05,037]\u001b[0m Trial 33 failed, because the objective function returned nan.\u001b[0m\n",
      "\u001b[33m[W 2021-08-21 15:57:08,783]\u001b[0m Trial 34 failed, because the objective function returned nan.\u001b[0m\n",
      "\u001b[33m[W 2021-08-21 15:57:12,528]\u001b[0m Trial 35 failed, because the objective function returned nan.\u001b[0m\n",
      "\u001b[33m[W 2021-08-21 15:57:16,426]\u001b[0m Trial 36 failed, because the objective function returned nan.\u001b[0m\n",
      "\u001b[33m[W 2021-08-21 15:57:20,243]\u001b[0m Trial 37 failed, because the objective function returned nan.\u001b[0m\n",
      "\u001b[33m[W 2021-08-21 15:57:24,676]\u001b[0m Trial 38 failed, because the objective function returned nan.\u001b[0m\n",
      "\u001b[33m[W 2021-08-21 15:57:28,513]\u001b[0m Trial 39 failed, because the objective function returned nan.\u001b[0m\n",
      "\u001b[33m[W 2021-08-21 15:57:34,962]\u001b[0m Trial 40 failed, because the objective function returned nan.\u001b[0m\n",
      "\u001b[33m[W 2021-08-21 15:57:38,966]\u001b[0m Trial 41 failed, because the objective function returned nan.\u001b[0m\n",
      "\u001b[33m[W 2021-08-21 15:57:42,766]\u001b[0m Trial 42 failed, because the objective function returned nan.\u001b[0m\n",
      "\u001b[33m[W 2021-08-21 15:57:46,492]\u001b[0m Trial 43 failed, because the objective function returned nan.\u001b[0m\n",
      "\u001b[33m[W 2021-08-21 15:57:50,881]\u001b[0m Trial 44 failed, because the objective function returned nan.\u001b[0m\n",
      "\u001b[33m[W 2021-08-21 15:57:54,558]\u001b[0m Trial 45 failed, because the objective function returned nan.\u001b[0m\n",
      "\u001b[33m[W 2021-08-21 15:57:58,463]\u001b[0m Trial 46 failed, because the objective function returned nan.\u001b[0m\n",
      "\u001b[33m[W 2021-08-21 15:58:02,478]\u001b[0m Trial 47 failed, because the objective function returned nan.\u001b[0m\n",
      "\u001b[33m[W 2021-08-21 15:58:08,041]\u001b[0m Trial 48 failed, because the objective function returned nan.\u001b[0m\n",
      "\u001b[33m[W 2021-08-21 15:58:11,747]\u001b[0m Trial 49 failed, because the objective function returned nan.\u001b[0m\n"
     ]
    }
   ],
   "source": [
    "study = optuna.create_study(direction=\"maximize\")\n",
    "study.optimize(objective, n_trials=50, timeout=600)"
   ]
  },
  {
   "cell_type": "code",
   "execution_count": null,
   "metadata": {},
   "outputs": [],
   "source": []
  },
  {
   "cell_type": "code",
   "execution_count": null,
   "metadata": {},
   "outputs": [],
   "source": []
  },
  {
   "cell_type": "code",
   "execution_count": null,
   "metadata": {},
   "outputs": [],
   "source": []
  }
 ],
 "metadata": {
  "kernelspec": {
   "display_name": "Python 3",
   "language": "python",
   "name": "python3"
  },
  "language_info": {
   "codemirror_mode": {
    "name": "ipython",
    "version": 3
   },
   "file_extension": ".py",
   "mimetype": "text/x-python",
   "name": "python",
   "nbconvert_exporter": "python",
   "pygments_lexer": "ipython3",
   "version": "3.7.4"
  }
 },
 "nbformat": 4,
 "nbformat_minor": 2
}

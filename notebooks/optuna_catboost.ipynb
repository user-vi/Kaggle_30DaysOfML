{
 "cells": [
  {
   "cell_type": "code",
   "execution_count": 19,
   "metadata": {},
   "outputs": [],
   "source": [
    "import datetime\n",
    "from sklearn import metrics, model_selection\n",
    "import pandas as pd\n",
    "import numpy as np\n",
    "from sklearn.pipeline import Pipeline\n",
    "from sklearn.model_selection import train_test_split\n",
    "from sklearn.compose import ColumnTransformer\n",
    "from sklearn.impute import SimpleImputer\n",
    "from sklearn.preprocessing import StandardScaler, OneHotEncoder\n",
    "from sklearn.preprocessing import PowerTransformer\n",
    "from sklearn.metrics import make_scorer\n",
    "from sklearn.model_selection import TimeSeriesSplit\n",
    "from sklearn.model_selection import cross_val_score\n",
    "from sklearn.metrics import mean_squared_error"
   ]
  },
  {
   "cell_type": "code",
   "execution_count": null,
   "metadata": {},
   "outputs": [],
   "source": [
    "try: \n",
    "    import optuna\n",
    "except:\n",
    "    !pip install optuna\n",
    "    import optuna"
   ]
  },
  {
   "cell_type": "code",
   "execution_count": null,
   "metadata": {},
   "outputs": [],
   "source": [
    "try:\n",
    "    from catboost import Pool, CatBoostRegressor, cv\n",
    "except:\n",
    "    !pip install catboost \n",
    "    from catboost import Pool, CatBoostRegressor, cv"
   ]
  },
  {
   "cell_type": "code",
   "execution_count": null,
   "metadata": {},
   "outputs": [],
   "source": [
    "try:\n",
    "    from CustomPipeline import *\n",
    "except:\n",
    "    import sys\n",
    "    sys.path.insert(0,'/content/sample_data')\n",
    "    from CustomPipeline import *\n",
    "    print(\"ok\")"
   ]
  },
  {
   "cell_type": "code",
   "execution_count": 20,
   "metadata": {},
   "outputs": [],
   "source": [
    "try:\n",
    "    train = pd.read_csv(\"./train_anomaly.csv\", delimiter=\",\", sep='.')\n",
    "except:\n",
    "    train = pd.read_csv(\"./sample_data/train_anomaly.csv\", delimiter=\",\", sep='.')"
   ]
  },
  {
   "cell_type": "code",
   "execution_count": null,
   "metadata": {},
   "outputs": [],
   "source": [
    "X = train.drop([\"target\", \"id\"], axis=1)\n",
    "y = train[\"target\"]"
   ]
  },
  {
   "cell_type": "code",
   "execution_count": 23,
   "metadata": {},
   "outputs": [],
   "source": [
    "num_train = X.select_dtypes([int, float])\n",
    "cat_train = X.select_dtypes(object)\n",
    "\n",
    "num = list(num_train)\n",
    "cat = list(cat_train)\n",
    "\n",
    "idx = [X.columns.get_loc(i) for i in cat]"
   ]
  },
  {
   "cell_type": "code",
   "execution_count": 28,
   "metadata": {},
   "outputs": [],
   "source": [
    "train_pool = Pool(X, y, cat_features=idx)\n",
    "\n",
    "def objective(trial):\n",
    "\n",
    "#     param = {\n",
    "#         \"iterations\": 200, \n",
    "#         \"loss_function\": \"RMSE\",\n",
    "#         \"colsample_bylevel\": trial.suggest_float(\"colsample_bylevel\", 0.01, 0.1),\n",
    "#         \"depth\": trial.suggest_int(\"depth\", 1, 12),\n",
    "#         \"boosting_type\": trial.suggest_categorical(\"boosting_type\", [\"Ordered\", \"Plain\"]),\n",
    "#         \"bootstrap_type\": trial.suggest_categorical(\n",
    "#             \"bootstrap_type\", [\"Bayesian\", \"Bernoulli\", \"MVS\"]\n",
    "#         ),\n",
    "#         \"used_ram_limit\": \"3gb\",\n",
    "#     }\n",
    "\n",
    "#     if param[\"bootstrap_type\"] == \"Bayesian\":\n",
    "#         param[\"bagging_temperature\"] = trial.suggest_float(\"bagging_temperature\", 0, 10)\n",
    "#     elif param[\"bootstrap_type\"] == \"Bernoulli\":\n",
    "#         param[\"subsample\"] = trial.suggest_float(\"subsample\", 0.1, 1)\n",
    "\n",
    "    param = {\n",
    "        'iterations' : trial.suggest_int('iterations', 100, 500),                         \n",
    "        'depth' : trial.suggest_int('depth', 4, 10),                                                    \n",
    "        'random_strength' :trial.suggest_int('random_strength', 0, 100),                       \n",
    "        'bagging_temperature' :trial.suggest_loguniform('bagging_temperature', 0.01, 100.00),\n",
    "        'learning_rate' : trial.suggest_loguniform('learning_rate', 1e-3, 0.5),\n",
    "    }\n",
    "    param[\"loss_function\"] =\"RMSE\"\n",
    "    \n",
    "    rmse = cv(train_pool, param, fold_count=5, plot=False, logging_level=\"Silent\")\n",
    "\n",
    "    return rmse['test-RMSE-mean'].iloc[-1]"
   ]
  },
  {
   "cell_type": "code",
   "execution_count": null,
   "metadata": {},
   "outputs": [
    {
     "name": "stderr",
     "output_type": "stream",
     "text": [
      "\u001b[32m[I 2021-08-20 19:11:00,419]\u001b[0m A new study created in memory with name: no-name-11035aae-3115-43a8-aa50-6b9fa5496964\u001b[0m\n"
     ]
    }
   ],
   "source": [
    "study = optuna.create_study(direction=\"minimize\", pruner=optuna.pruners.MedianPruner())\n",
    "study.optimize(objective, n_trials=20, n_jobs=-1)"
   ]
  },
  {
   "cell_type": "code",
   "execution_count": null,
   "metadata": {},
   "outputs": [],
   "source": [
    "best_params = study.best_trial.params\n",
    "best_params"
   ]
  },
  {
   "cell_type": "markdown",
   "metadata": {},
   "source": [
    "# save configs"
   ]
  },
  {
   "cell_type": "code",
   "execution_count": null,
   "metadata": {},
   "outputs": [],
   "source": [
    "import yaml\n",
    "import os\n",
    "\n",
    "\n",
    "directory = './Configs'\n",
    "if not os.path.exists(directory):\n",
    "    os.makedirs(directory)\n",
    "    \n",
    "    \n",
    "with open('./Configs/params_model_catboost.yaml', 'w') as outfile:\n",
    "    yaml.dump(best_params, outfile, default_flow_style=False)"
   ]
  }
 ],
 "metadata": {
  "kernelspec": {
   "display_name": "Python 3",
   "language": "python",
   "name": "python3"
  },
  "language_info": {
   "codemirror_mode": {
    "name": "ipython",
    "version": 3
   },
   "file_extension": ".py",
   "mimetype": "text/x-python",
   "name": "python",
   "nbconvert_exporter": "python",
   "pygments_lexer": "ipython3",
   "version": "3.7.3"
  }
 },
 "nbformat": 4,
 "nbformat_minor": 2
}

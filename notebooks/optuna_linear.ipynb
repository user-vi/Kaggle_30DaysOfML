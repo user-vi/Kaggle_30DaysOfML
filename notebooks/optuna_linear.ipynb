{
 "cells": [
  {
   "cell_type": "code",
   "execution_count": 23,
   "metadata": {},
   "outputs": [],
   "source": [
    "import datetime\n",
    "from sklearn import metrics, model_selection, ensemble\n",
    "import pandas as pd\n",
    "import numpy as np\n",
    "from sklearn.pipeline import Pipeline\n",
    "from sklearn.compose import ColumnTransformer\n",
    "from sklearn.preprocessing import StandardScaler, OneHotEncoder, MinMaxScaler\n",
    "from sklearn.preprocessing import PowerTransformer\n",
    "from sklearn.metrics import make_scorer\n",
    "from sklearn.model_selection import cross_val_score\n",
    "from sklearn.preprocessing import KBinsDiscretizer\n",
    "from sklearn import linear_model\n",
    "from sklearn.metrics import mean_squared_error\n",
    "import mlflow"
   ]
  },
  {
   "cell_type": "code",
   "execution_count": 24,
   "metadata": {},
   "outputs": [],
   "source": [
    "try: \n",
    "    import optuna\n",
    "except:\n",
    "    !pip install optuna\n",
    "    import optuna"
   ]
  },
  {
   "cell_type": "code",
   "execution_count": 25,
   "metadata": {},
   "outputs": [],
   "source": [
    "train = pd.read_csv(\"~/Документы/Git/Kaggle_30DaysOfML/data/prepare/prepared_train.csv\", index_col='id')\n",
    "# val = pd.read_csv(\"./data/prepared/prepared_val.csv\", index_col='id')"
   ]
  },
  {
   "cell_type": "code",
   "execution_count": 49,
   "metadata": {},
   "outputs": [],
   "source": [
    "BINS = 32"
   ]
  },
  {
   "cell_type": "code",
   "execution_count": 50,
   "metadata": {},
   "outputs": [],
   "source": [
    "X = train.query(\"target > 600\").drop([\"target\"], axis=1)\n",
    "y = train.query(\"target > 600\")[\"target\"]"
   ]
  },
  {
   "cell_type": "code",
   "execution_count": 51,
   "metadata": {},
   "outputs": [],
   "source": [
    "num_train = train.select_dtypes([int, float])\n",
    "cat_train = train.select_dtypes(object)\n",
    "\n",
    "num = list(num_train.drop(['target'],axis=1))\n",
    "cat = list(cat_train)"
   ]
  },
  {
   "cell_type": "code",
   "execution_count": 60,
   "metadata": {},
   "outputs": [],
   "source": [
    "rmse = make_scorer(mean_squared_error, squared=False)\n",
    "\n",
    "pipeline_num = Pipeline(steps=[\n",
    "#     ('imputer', SimpleImputer(strategy='median')), \n",
    "    ('normal', PowerTransformer()), \n",
    "#     ('scaling', MinMaxScaler()),\n",
    "    ('scaling', StandardScaler()), \n",
    "    ('bins', KBinsDiscretizer(n_bins = BINS))\n",
    "])\n",
    "\n",
    "pipeline_cat = Pipeline(steps=[\n",
    "#     ('imputer', SimpleImputer(strategy='most_frequent')),\n",
    "    ('encoding', OneHotEncoder(handle_unknown='ignore')),\n",
    "])\n",
    "\n",
    "preprocessor = ColumnTransformer(\n",
    "    transformers=[\n",
    "        ('num', pipeline_num, num),\n",
    "        ('cat', pipeline_cat, cat),\n",
    "        ], remainder=\"drop\")\n",
    "\n",
    "\n",
    "def objective(trial):\n",
    "    \n",
    "    param_model = {\n",
    "        'alpha': trial.suggest_loguniform('alpha', 1, 1000.0),\n",
    "        'random_state': trial.suggest_categorical('random_state', [42]),\n",
    "    }\n",
    "    \n",
    "#     for k, v in param_model.items():\n",
    "#         log_param(k, v)\n",
    "        \n",
    "    pipeline_ridge = Pipeline(steps=[('preprocessor', preprocessor),  \n",
    "                                     ('model', linear_model.Ridge(**param_model)),\n",
    "                                     ])\n",
    "\n",
    "    rmse_mean_cv = cross_val_score(pipeline_ridge, X, y, cv=5, scoring=rmse)\n",
    "#     print(rmse_mean_cv)\n",
    "\n",
    "    mlflow.start_run(run_name = 'linear')\n",
    "    for k, v in param_model.items():\n",
    "        mlflow.log_param(k, v)\n",
    "    mlflow.log_metric(\"rmse\", rmse_mean_cv.mean())\n",
    "    mlflow.log_metric(\"varianse\", np.var(rmse_mean_cv))\n",
    "    mlflow.end_run()\n",
    "\n",
    "    return rmse_mean_cv.mean()"
   ]
  },
  {
   "cell_type": "code",
   "execution_count": 59,
   "metadata": {},
   "outputs": [
    {
     "name": "stderr",
     "output_type": "stream",
     "text": [
      "\u001b[32m[I 2021-09-07 18:17:04,327]\u001b[0m A new study created in memory with name: no-name-669cbea4-64d2-4975-89b2-24169f037f1a\u001b[0m\n",
      "\u001b[32m[I 2021-09-07 18:17:09,783]\u001b[0m Trial 0 finished with value: 71.91576546952292 and parameters: {'alpha': 5.762847441791629, 'random_state': 42}. Best is trial 0 with value: 71.91576546952292.\u001b[0m\n",
      "\u001b[32m[I 2021-09-07 18:17:14,756]\u001b[0m Trial 1 finished with value: 71.96975402765922 and parameters: {'alpha': 638.0273559039456, 'random_state': 42}. Best is trial 0 with value: 71.91576546952292.\u001b[0m\n",
      "\u001b[32m[I 2021-09-07 18:17:20,262]\u001b[0m Trial 2 finished with value: 71.92140109333948 and parameters: {'alpha': 4.022219388431114, 'random_state': 42}. Best is trial 0 with value: 71.91576546952292.\u001b[0m\n",
      "\u001b[32m[I 2021-09-07 18:17:25,364]\u001b[0m Trial 3 finished with value: 71.89943165425491 and parameters: {'alpha': 11.61301735273177, 'random_state': 42}. Best is trial 3 with value: 71.89943165425491.\u001b[0m\n",
      "\u001b[32m[I 2021-09-07 18:17:31,036]\u001b[0m Trial 4 finished with value: 71.92324526461034 and parameters: {'alpha': 3.579791422919318, 'random_state': 42}. Best is trial 3 with value: 71.89943165425491.\u001b[0m\n"
     ]
    }
   ],
   "source": [
    "study = optuna.create_study(direction=\"minimize\", pruner=optuna.pruners.MedianPruner())\n",
    "study.optimize(objective, n_trials=5)"
   ]
  },
  {
   "cell_type": "code",
   "execution_count": 54,
   "metadata": {},
   "outputs": [
    {
     "data": {
      "text/plain": [
       "{'alpha': 57.69636092679144, 'random_state': 42}"
      ]
     },
     "execution_count": 54,
     "metadata": {},
     "output_type": "execute_result"
    }
   ],
   "source": [
    "best_params = study.best_trial.params\n",
    "best_params"
   ]
  },
  {
   "cell_type": "markdown",
   "metadata": {},
   "source": [
    "# save configs"
   ]
  },
  {
   "cell_type": "code",
   "execution_count": 33,
   "metadata": {},
   "outputs": [],
   "source": [
    "import yaml\n",
    "import os\n",
    "    \n",
    "    \n",
    "with open('../params_model_linear.yaml', 'w') as outfile:\n",
    "    yaml.dump(best_params, outfile, default_flow_style=False)"
   ]
  },
  {
   "cell_type": "code",
   "execution_count": null,
   "metadata": {},
   "outputs": [],
   "source": []
  }
 ],
 "metadata": {
  "kernelspec": {
   "display_name": "Python 3",
   "language": "python",
   "name": "python3"
  },
  "language_info": {
   "codemirror_mode": {
    "name": "ipython",
    "version": 3
   },
   "file_extension": ".py",
   "mimetype": "text/x-python",
   "name": "python",
   "nbconvert_exporter": "python",
   "pygments_lexer": "ipython3",
   "version": "3.7.3"
  }
 },
 "nbformat": 4,
 "nbformat_minor": 2
}

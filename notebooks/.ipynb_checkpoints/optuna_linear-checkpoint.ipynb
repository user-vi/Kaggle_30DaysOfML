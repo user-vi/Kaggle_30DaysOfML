{
 "cells": [
  {
   "cell_type": "code",
   "execution_count": 1,
   "metadata": {},
   "outputs": [
    {
     "name": "stderr",
     "output_type": "stream",
     "text": [
      "/home/violetta/anaconda3/lib/python3.7/site-packages/pandas/compat/_optional.py:138: UserWarning: Pandas requires version '2.7.0' or newer of 'numexpr' (version '2.6.9' currently installed).\n",
      "  warnings.warn(msg, UserWarning)\n"
     ]
    }
   ],
   "source": [
    "import datetime\n",
    "from sklearn import metrics, model_selection, ensemble\n",
    "import pandas as pd\n",
    "import numpy as np\n",
    "from sklearn.pipeline import Pipeline\n",
    "from sklearn.compose import ColumnTransformer\n",
    "from sklearn.preprocessing import StandardScaler, OneHotEncoder, MinMaxScaler\n",
    "from sklearn.preprocessing import PowerTransformer\n",
    "from sklearn.metrics import make_scorer\n",
    "from sklearn.model_selection import cross_val_score\n",
    "from sklearn.preprocessing import KBinsDiscretizer\n",
    "from sklearn import linear_model\n",
    "from sklearn.metrics import mean_squared_error"
   ]
  },
  {
   "cell_type": "code",
   "execution_count": 2,
   "metadata": {},
   "outputs": [],
   "source": [
    "try: \n",
    "    import optuna\n",
    "except:\n",
    "    !pip install optuna\n",
    "    import optuna"
   ]
  },
  {
   "cell_type": "code",
   "execution_count": 3,
   "metadata": {},
   "outputs": [],
   "source": [
    "train = pd.read_csv(\"./Datasets/prepared_train.csv\", index_col='id')"
   ]
  },
  {
   "cell_type": "code",
   "execution_count": 4,
   "metadata": {},
   "outputs": [],
   "source": [
    "BINS = 16"
   ]
  },
  {
   "cell_type": "code",
   "execution_count": 5,
   "metadata": {},
   "outputs": [],
   "source": [
    "X = train.query(\"target > 6\").drop([\"target\"], axis=1)\n",
    "y = train.query(\"target > 6\")[\"target\"] * 100"
   ]
  },
  {
   "cell_type": "code",
   "execution_count": 6,
   "metadata": {},
   "outputs": [],
   "source": [
    "num_train = train.select_dtypes([int, float])\n",
    "cat_train = train.select_dtypes(object)\n",
    "\n",
    "num = list(num_train.drop(['target'],axis=1))\n",
    "cat = list(cat_train)"
   ]
  },
  {
   "cell_type": "code",
   "execution_count": 7,
   "metadata": {},
   "outputs": [],
   "source": [
    "rmse = make_scorer(mean_squared_error, squared=False)\n",
    "\n",
    "pipeline_num = Pipeline(steps=[\n",
    "#     ('imputer', SimpleImputer(strategy='median')), \n",
    "    ('normal', PowerTransformer()), \n",
    "#     ('scaling', MinMaxScaler()),\n",
    "    ('scaling', StandardScaler()), \n",
    "    ('bins', KBinsDiscretizer(n_bins = BINS))\n",
    "])\n",
    "\n",
    "pipeline_cat = Pipeline(steps=[\n",
    "#     ('imputer', SimpleImputer(strategy='most_frequent')),\n",
    "    ('encoding', OneHotEncoder(handle_unknown='ignore')),\n",
    "])\n",
    "\n",
    "preprocessor = ColumnTransformer(\n",
    "    transformers=[\n",
    "        ('num', pipeline_num, num),\n",
    "        ('cat', pipeline_cat, cat),\n",
    "        ], remainder=\"drop\")\n",
    "\n",
    "def objective(trial):\n",
    "    \n",
    "    param_model = {\n",
    "        'alpha': trial.suggest_loguniform('alpha', 1e-3, 1.0),\n",
    "    }\n",
    "    \n",
    "    pipeline_ridge = Pipeline(steps=[('preprocessor', preprocessor),  \n",
    "                                     ('model', linear_model.Ridge(**param_model)),\n",
    "                                     ])\n",
    "\n",
    "    rmse_mean_cv = cross_val_score(pipeline_ridge, X, y, cv=5, scoring=rmse)\n",
    "    print(rmse_mean_cv)\n",
    "\n",
    "    return rmse_mean_cv.mean()"
   ]
  },
  {
   "cell_type": "code",
   "execution_count": 8,
   "metadata": {},
   "outputs": [
    {
     "name": "stderr",
     "output_type": "stream",
     "text": [
      "\u001b[32m[I 2021-09-06 12:44:19,882]\u001b[0m A new study created in memory with name: no-name-d407f04b-cf6b-47ea-883f-43a4d48cde6c\u001b[0m\n",
      "\u001b[32m[I 2021-09-06 12:46:15,178]\u001b[0m Trial 0 finished with value: 71.79711553017304 and parameters: {'alpha': 0.02087043129109916}. Best is trial 0 with value: 71.79711553017304.\u001b[0m\n"
     ]
    },
    {
     "name": "stdout",
     "output_type": "stream",
     "text": [
      "[71.51529143 71.85824933 71.90718661 71.76907965 71.93577064]\n"
     ]
    },
    {
     "name": "stderr",
     "output_type": "stream",
     "text": [
      "\u001b[32m[I 2021-09-06 12:47:06,782]\u001b[0m Trial 1 finished with value: 71.79712574428257 and parameters: {'alpha': 0.010750521629052804}. Best is trial 0 with value: 71.79711553017304.\u001b[0m\n"
     ]
    },
    {
     "name": "stdout",
     "output_type": "stream",
     "text": [
      "[71.51528975 71.85824495 71.90718689 71.76913702 71.9357701 ]\n"
     ]
    },
    {
     "name": "stderr",
     "output_type": "stream",
     "text": [
      "\u001b[32m[I 2021-09-06 12:47:56,324]\u001b[0m Trial 2 finished with value: 71.79709059924633 and parameters: {'alpha': 0.04430924237349258}. Best is trial 2 with value: 71.79709059924633.\u001b[0m\n"
     ]
    },
    {
     "name": "stdout",
     "output_type": "stream",
     "text": [
      "[71.51529471 71.8582449  71.90706186 71.76908205 71.93576948]\n"
     ]
    },
    {
     "name": "stderr",
     "output_type": "stream",
     "text": [
      "\u001b[32m[I 2021-09-06 12:48:55,615]\u001b[0m Trial 3 finished with value: 71.79709980312006 and parameters: {'alpha': 0.2986790506985575}. Best is trial 2 with value: 71.79709059924633.\u001b[0m\n"
     ]
    },
    {
     "name": "stdout",
     "output_type": "stream",
     "text": [
      "[71.51525921 71.85823239 71.90717512 71.76908216 71.93575014]\n"
     ]
    },
    {
     "name": "stderr",
     "output_type": "stream",
     "text": [
      "\u001b[32m[I 2021-09-06 12:49:51,864]\u001b[0m Trial 4 finished with value: 71.79702201908546 and parameters: {'alpha': 0.591165940669679}. Best is trial 4 with value: 71.79702201908546.\u001b[0m\n"
     ]
    },
    {
     "name": "stdout",
     "output_type": "stream",
     "text": [
      "[71.51508177 71.85821035 71.90703685 71.76902524 71.9357559 ]\n"
     ]
    }
   ],
   "source": [
    "study = optuna.create_study(direction=\"minimize\", pruner=optuna.pruners.MedianPruner())\n",
    "study.optimize(objective, n_trials=5)"
   ]
  },
  {
   "cell_type": "code",
   "execution_count": 9,
   "metadata": {},
   "outputs": [
    {
     "data": {
      "text/plain": [
       "{'alpha': 0.591165940669679}"
      ]
     },
     "execution_count": 9,
     "metadata": {},
     "output_type": "execute_result"
    }
   ],
   "source": [
    "best_params = study.best_trial.params\n",
    "best_params"
   ]
  },
  {
   "cell_type": "markdown",
   "metadata": {},
   "source": [
    "# save configs"
   ]
  },
  {
   "cell_type": "code",
   "execution_count": 10,
   "metadata": {},
   "outputs": [],
   "source": [
    "import yaml\n",
    "import os\n",
    "\n",
    "\n",
    "directory = './'\n",
    "if not os.path.exists(directory):\n",
    "    os.makedirs(directory)\n",
    "    \n",
    "    \n",
    "with open('./Configs/params_model_linear.yaml', 'w') as outfile:\n",
    "    yaml.dump(best_params, outfile, default_flow_style=False)"
   ]
  },
  {
   "cell_type": "code",
   "execution_count": null,
   "metadata": {},
   "outputs": [],
   "source": []
  }
 ],
 "metadata": {
  "kernelspec": {
   "display_name": "Python 3",
   "language": "python",
   "name": "python3"
  },
  "language_info": {
   "codemirror_mode": {
    "name": "ipython",
    "version": 3
   },
   "file_extension": ".py",
   "mimetype": "text/x-python",
   "name": "python",
   "nbconvert_exporter": "python",
   "pygments_lexer": "ipython3",
   "version": "3.7.3"
  }
 },
 "nbformat": 4,
 "nbformat_minor": 2
}

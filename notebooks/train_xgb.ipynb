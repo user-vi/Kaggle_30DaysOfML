{
 "cells": [
  {
   "cell_type": "code",
   "execution_count": 1,
   "metadata": {},
   "outputs": [
    {
     "name": "stderr",
     "output_type": "stream",
     "text": [
      "C:\\ProgramData\\Anaconda3\\lib\\site-packages\\dask\\dataframe\\utils.py:14: FutureWarning: pandas.util.testing is deprecated. Use the functions in the public API at pandas.testing instead.\n",
      "  import pandas.util.testing as tm\n"
     ]
    }
   ],
   "source": [
    "from sklearn import metrics, model_selection, ensemble\n",
    "import pandas as pd\n",
    "import numpy as np\n",
    "from sklearn.pipeline import Pipeline\n",
    "from sklearn.model_selection import train_test_split\n",
    "from sklearn.compose import ColumnTransformer\n",
    "from sklearn.impute import SimpleImputer\n",
    "from sklearn.preprocessing import StandardScaler, OneHotEncoder\n",
    "from sklearn.preprocessing import PowerTransformer\n",
    "from sklearn.ensemble import RandomForestClassifier\n",
    "from sklearn.metrics import precision_recall_curve\n",
    "from sklearn.metrics import plot_precision_recall_curve\n",
    "from sklearn.metrics import precision_score\n",
    "from sklearn.metrics import recall_score\n",
    "from sklearn.metrics import make_scorer\n",
    "from sklearn.model_selection import TimeSeriesSplit\n",
    "from sklearn.model_selection import cross_val_score\n",
    "\n",
    "from sklearn.preprocessing import KBinsDiscretizer\n",
    "import xgboost as xgb\n",
    "from sklearn import linear_model\n",
    "from sklearn.neighbors import KNeighborsRegressor\n",
    "from sklearn.metrics import mean_squared_error\n",
    "from sklearn.ensemble import StackingRegressor\n",
    "import xgboost\n",
    "from sklearn.cluster import KMeans\n",
    "\n",
    "import yaml\n",
    "\n",
    "\n",
    "pd.set_option('display.max_columns', None)"
   ]
  },
  {
   "cell_type": "code",
   "execution_count": 2,
   "metadata": {},
   "outputs": [],
   "source": [
    "try: \n",
    "    import optuna\n",
    "except:\n",
    "    !pip install optuna\n",
    "    import optuna"
   ]
  },
  {
   "cell_type": "code",
   "execution_count": 3,
   "metadata": {},
   "outputs": [],
   "source": [
    "try:\n",
    "    from catboost import Pool, CatBoostRegressor, cv\n",
    "except:\n",
    "    !pip install catboost \n",
    "    from catboost import Pool, CatBoostRegressor, cv"
   ]
  },
  {
   "cell_type": "code",
   "execution_count": 4,
   "metadata": {},
   "outputs": [],
   "source": [
    "try:\n",
    "    from CustomPipeline import *\n",
    "except:\n",
    "    import sys\n",
    "    sys.path.insert(0,'/content/sample_data')\n",
    "    from CustomPipeline import *\n",
    "    print(\"ok\")"
   ]
  },
  {
   "cell_type": "code",
   "execution_count": 5,
   "metadata": {},
   "outputs": [],
   "source": [
    "try:\n",
    "    train = pd.read_csv(\"./Datasets/train_anomaly.csv\", delimiter=\",\", sep='.', index_col='id')\n",
    "    test = pd.read_csv(\"./Datasets/test_anomaly.csv\", delimiter=\",\", sep='.', index_col='id')\n",
    "except:\n",
    "    train = pd.read_csv(\"./sample_data/train_anomaly.csv\", delimiter=\",\", sep='.')"
   ]
  },
  {
   "cell_type": "code",
   "execution_count": 6,
   "metadata": {},
   "outputs": [
    {
     "name": "stdout",
     "output_type": "stream",
     "text": [
      "{'colsample_bytree': 0.5604837633773141, 'eval_metric': 'rmse', 'learning_rate': 0.44414091997299965, 'max_depth': 6, 'objective': 'reg:squarederror', 'random_state': 42, 'reg_alpha': 41.256352859724856, 'reg_lambda': 61, 'subsample': 0.6539690494738835}\n"
     ]
    }
   ],
   "source": [
    "with open(\"./Configs/params_model_xgb.yml\", 'r') as stream:\n",
    "    try:\n",
    "        params_xgb = yaml.safe_load(stream)\n",
    "        print(params_xgb)\n",
    "    except yaml.YAMLError as exc:\n",
    "        print(exc)"
   ]
  },
  {
   "cell_type": "code",
   "execution_count": 35,
   "metadata": {},
   "outputs": [],
   "source": [
    "RANDOM_STATE = 42"
   ]
  },
  {
   "cell_type": "code",
   "execution_count": 36,
   "metadata": {},
   "outputs": [],
   "source": [
    "train[\"target\"] = 100 * train[\"target\"]"
   ]
  },
  {
   "cell_type": "code",
   "execution_count": 37,
   "metadata": {},
   "outputs": [],
   "source": [
    "train, test_ensemble = train_test_split(train, test_size=0.1, random_state=RANDOM_STATE)\n",
    "train_estimators, train_ensemble = train_test_split(train, test_size=0.2, random_state=RANDOM_STATE)"
   ]
  },
  {
   "cell_type": "code",
   "execution_count": 38,
   "metadata": {},
   "outputs": [],
   "source": [
    "X = train_estimators.drop([\"target\"], axis=1)\n",
    "y = train_estimators[\"target\"]"
   ]
  },
  {
   "cell_type": "markdown",
   "metadata": {},
   "source": [
    "# xgb"
   ]
  },
  {
   "cell_type": "code",
   "execution_count": null,
   "metadata": {},
   "outputs": [],
   "source": [
    "xgb_ = xgboost.XGBRegressor(**params_xgb)\n",
    "model = XGBWrapper(xgb_, cat=cat, num=num)\n",
    "model.fit(X, y)"
   ]
  },
  {
   "cell_type": "markdown",
   "metadata": {},
   "source": [
    "# save model"
   ]
  },
  {
   "cell_type": "code",
   "execution_count": null,
   "metadata": {},
   "outputs": [],
   "source": [
    "import pickle\n",
    "import os\n",
    "\n",
    "directory = './Models'\n",
    "if not os.path.exists(directory):\n",
    "    os.makedirs(directory)\n",
    "\n",
    "# save\n",
    "with open('./Models/model_xgb.pkl','wb') as f:\n",
    "    pickle.dump(model,f)\n"
   ]
  }
 ],
 "metadata": {
  "kernelspec": {
   "display_name": "Python 3",
   "language": "python",
   "name": "python3"
  },
  "language_info": {
   "codemirror_mode": {
    "name": "ipython",
    "version": 3
   },
   "file_extension": ".py",
   "mimetype": "text/x-python",
   "name": "python",
   "nbconvert_exporter": "python",
   "pygments_lexer": "ipython3",
   "version": "3.7.4"
  }
 },
 "nbformat": 4,
 "nbformat_minor": 2
}

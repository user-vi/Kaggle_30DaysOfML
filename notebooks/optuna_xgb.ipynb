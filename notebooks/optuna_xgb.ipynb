{
 "cells": [
  {
   "cell_type": "code",
   "execution_count": 18,
   "metadata": {},
   "outputs": [],
   "source": [
    "from sklearn import metrics, model_selection, ensemble\n",
    "import pandas as pd\n",
    "import numpy as np\n",
    "from sklearn.pipeline import Pipeline\n",
    "from sklearn.model_selection import train_test_split\n",
    "from sklearn.compose import ColumnTransformer\n",
    "from sklearn.preprocessing import StandardScaler, OneHotEncoder\n",
    "from sklearn.impute import SimpleImputer\n",
    "from sklearn.preprocessing import PowerTransformer\n",
    "from sklearn.metrics import make_scorer\n",
    "from sklearn.model_selection import cross_val_score\n",
    "\n",
    "from sklearn.preprocessing import KBinsDiscretizer\n",
    "import xgboost as xgb\n",
    "from sklearn import linear_model\n",
    "from sklearn.neighbors import KNeighborsRegressor\n",
    "from sklearn.metrics import mean_squared_error\n",
    "import xgboost"
   ]
  },
  {
   "cell_type": "code",
   "execution_count": 4,
   "metadata": {},
   "outputs": [],
   "source": [
    "try: \n",
    "    import optuna\n",
    "except:\n",
    "    !pip install optuna\n",
    "    import optuna"
   ]
  },
  {
   "cell_type": "code",
   "execution_count": 12,
   "metadata": {},
   "outputs": [],
   "source": [
    "train = pd.read_csv(\"../data/train_for_crossval.csv\")\n"
   ]
  },
  {
   "cell_type": "code",
   "execution_count": 9,
   "metadata": {},
   "outputs": [],
   "source": [
    "train, t = train_test_split(train, test_size=0.9)"
   ]
  },
  {
   "cell_type": "code",
   "execution_count": 15,
   "metadata": {},
   "outputs": [],
   "source": [
    "X = train.drop([\"target\"], axis=1)\n",
    "y = train[\"target\"] * 100"
   ]
  },
  {
   "cell_type": "code",
   "execution_count": 16,
   "metadata": {},
   "outputs": [],
   "source": [
    "num_train = train.select_dtypes([int, float])\n",
    "cat_train = train.select_dtypes(object)\n",
    "\n",
    "num = list(num_train.drop(['target'],axis=1))\n",
    "cat = list(cat_train)"
   ]
  },
  {
   "cell_type": "code",
   "execution_count": 19,
   "metadata": {},
   "outputs": [],
   "source": [
    "from sklearn.decomposition import TruncatedSVD\n",
    "from sklearn.preprocessing import OrdinalEncoder\n",
    "\n",
    "rmse = make_scorer(mean_squared_error, squared=False)\n",
    "\n",
    "pipeline_num = Pipeline(steps=[\n",
    "    ('imputer', SimpleImputer(strategy='median')),\n",
    "    ('normal', PowerTransformer()),\n",
    "    ('scaling', StandardScaler()),       \n",
    "])\n",
    "pipeline_cat = Pipeline(steps=[\n",
    "    ('imputer', SimpleImputer(strategy='most_frequent')),\n",
    "#     ('encoding', OrdinalEncoder()),\n",
    "    ('encoding', OneHotEncoder(handle_unknown='ignore')),\n",
    "])\n",
    "preprocessor = ColumnTransformer(n_jobs=-1,\n",
    "    transformers=[\n",
    "        ('num', pipeline_num, num),\n",
    "        ('cat', pipeline_cat, cat),\n",
    "        ], remainder=\"passthrough\")\n",
    "\n",
    "transformed = preprocessor.fit_transform(X)\n",
    "\n",
    "# svd = TruncatedSVD(n_components=20, n_iter=7, random_state=42)\n",
    "# transformed = svd.fit_transform(transformed)\n",
    "\n",
    "def objective(trial):\n",
    "    \n",
    "    param_model = {\n",
    "        # 'tree_method':'gpu_hist',\n",
    "        'eval_metric':trial.suggest_categorical(\"eval_metric\", ['rmse']),\n",
    "        'n_estimators': trial.suggest_categorical(\"n_estimators\", [500]),\n",
    "        'random_state': trial.suggest_categorical(\"random_state\", [0, 42]), \n",
    "        'colsample_bytree': trial.suggest_float('colsample_bytree', 0.3, 0.9),\n",
    "        'learning_rate': trial.suggest_float('learning_rate', 1e-2, 1),\n",
    "        'max_depth': trial.suggest_int('max_depth', 4, 6),\n",
    "        'objective': trial.suggest_categorical(\"objective\", ['reg:squarederror']),\n",
    "        'reg_alpha': trial.suggest_float('reg_alpha', 1e-2, 100),\n",
    "        'reg_lambda': trial.suggest_int('reg_lambda', 1, 100), \n",
    "        'subsample': trial.suggest_float('subsample', 0.5, 0.9)\n",
    "    }\n",
    "    \n",
    "    pipeline_ridge = Pipeline(steps=[\n",
    "                                    #  ('preprocessor', preprocessor), \n",
    "#                                      ('svd', TruncatedSVD(random_state=42, **param_svd)), \n",
    "                                     ('model', xgboost.XGBRegressor(**param_model)),\n",
    "                                     ])\n",
    "\n",
    "    rmse_mean_cv = cross_val_score(pipeline_ridge, transformed, y, cv=5, scoring=rmse, n_jobs=-1)\n",
    "    print(rmse_mean_cv)\n",
    "\n",
    "    return rmse_mean_cv.mean()"
   ]
  },
  {
   "cell_type": "code",
   "execution_count": 13,
   "metadata": {},
   "outputs": [
    {
     "name": "stderr",
     "output_type": "stream",
     "text": [
      "\u001b[32m[I 2021-09-02 16:34:31,897]\u001b[0m A new study created in memory with name: no-name-741e1650-52e5-4923-a5f6-5fbc4953ca8b\u001b[0m\n",
      "\u001b[32m[I 2021-09-02 16:35:14,175]\u001b[0m Trial 0 finished with value: 82.92358174265148 and parameters: {'eval_metric': 'rmse', 'random_state': 42, 'colsample_bytree': 0.5604837633773141, 'learning_rate': 0.44414091997299965, 'max_depth': 6, 'objective': 'reg:squarederror', 'reg_alpha': 41.256352859724856, 'reg_lambda': 61, 'subsample': 0.6539690494738835}. Best is trial 0 with value: 82.92358174265148.\u001b[0m\n"
     ]
    },
    {
     "name": "stdout",
     "output_type": "stream",
     "text": [
      "[82.24299031 82.5774242  84.86366666 80.51329413 84.42053342]\n"
     ]
    }
   ],
   "source": [
    "study = optuna.create_study(direction=\"minimize\", pruner=optuna.pruners.MedianPruner())\n",
    "study.optimize(objective, n_trials=1)"
   ]
  },
  {
   "cell_type": "code",
   "execution_count": 14,
   "metadata": {},
   "outputs": [
    {
     "data": {
      "text/plain": [
       "{'eval_metric': 'rmse',\n",
       " 'random_state': 42,\n",
       " 'colsample_bytree': 0.5604837633773141,\n",
       " 'learning_rate': 0.44414091997299965,\n",
       " 'max_depth': 6,\n",
       " 'objective': 'reg:squarederror',\n",
       " 'reg_alpha': 41.256352859724856,\n",
       " 'reg_lambda': 61,\n",
       " 'subsample': 0.6539690494738835}"
      ]
     },
     "execution_count": 14,
     "metadata": {},
     "output_type": "execute_result"
    }
   ],
   "source": [
    "best_params = study.best_trial.params\n",
    "best_params"
   ]
  },
  {
   "cell_type": "markdown",
   "metadata": {},
   "source": [
    "# save configs"
   ]
  },
  {
   "cell_type": "code",
   "execution_count": 15,
   "metadata": {},
   "outputs": [],
   "source": [
    "import yaml\n",
    "import os\n",
    "\n",
    "\n",
    "directory = './Configs'\n",
    "if not os.path.exists(directory):\n",
    "    os.makedirs(directory)\n",
    "    \n",
    "    \n",
    "with open('./Configs/params_model_xgb.yaml', 'w') as outfile:\n",
    "    yaml.dump(best_params, outfile, default_flow_style=False)"
   ]
  }
 ],
 "metadata": {
  "kernelspec": {
   "display_name": "Python 3",
   "language": "python",
   "name": "python3"
  },
  "language_info": {
   "codemirror_mode": {
    "name": "ipython",
    "version": 3
   },
   "file_extension": ".py",
   "mimetype": "text/x-python",
   "name": "python",
   "nbconvert_exporter": "python",
   "pygments_lexer": "ipython3",
   "version": "3.7.3"
  }
 },
 "nbformat": 4,
 "nbformat_minor": 2
}

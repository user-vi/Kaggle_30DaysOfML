{
 "cells": [
  {
   "cell_type": "code",
   "execution_count": 4,
   "metadata": {},
   "outputs": [
    {
     "name": "stderr",
     "output_type": "stream",
     "text": [
      "C:\\ProgramData\\Anaconda3\\lib\\site-packages\\dask\\dataframe\\utils.py:14: FutureWarning: pandas.util.testing is deprecated. Use the functions in the public API at pandas.testing instead.\n",
      "  import pandas.util.testing as tm\n"
     ]
    }
   ],
   "source": [
    "import datetime\n",
    "from sklearn import metrics, model_selection, ensemble\n",
    "import pandas as pd\n",
    "import numpy as np\n",
    "from sklearn.pipeline import Pipeline\n",
    "from sklearn.model_selection import train_test_split\n",
    "from sklearn.compose import ColumnTransformer\n",
    "from sklearn.impute import SimpleImputer\n",
    "from sklearn.preprocessing import StandardScaler, OneHotEncoder, MinMaxScaler\n",
    "from sklearn.preprocessing import PowerTransformer\n",
    "from sklearn.ensemble import RandomForestClassifier\n",
    "from sklearn.metrics import precision_recall_curve\n",
    "from sklearn.metrics import plot_precision_recall_curve\n",
    "from sklearn.metrics import precision_score\n",
    "from sklearn.metrics import recall_score\n",
    "from sklearn.metrics import make_scorer\n",
    "from sklearn.model_selection import TimeSeriesSplit\n",
    "from sklearn.model_selection import cross_val_score\n",
    "\n",
    "from sklearn.preprocessing import KBinsDiscretizer\n",
    "import xgboost as xgb\n",
    "from sklearn import linear_model\n",
    "from sklearn.neighbors import KNeighborsRegressor\n",
    "from sklearn.metrics import mean_squared_error"
   ]
  },
  {
   "cell_type": "code",
   "execution_count": 6,
   "metadata": {},
   "outputs": [],
   "source": [
    "try:\n",
    "    from CustomPipeline import *\n",
    "except:\n",
    "    import sys\n",
    "    sys.path.insert(0,'/content/sample_data')\n",
    "    from CustomPipeline import *\n",
    "    print(\"ok\")"
   ]
  },
  {
   "cell_type": "code",
   "execution_count": 7,
   "metadata": {},
   "outputs": [],
   "source": [
    "try: \n",
    "    import optuna\n",
    "except:\n",
    "    !pip install optuna\n",
    "    import optuna"
   ]
  },
  {
   "cell_type": "code",
   "execution_count": 8,
   "metadata": {},
   "outputs": [],
   "source": [
    "try:\n",
    "    train = pd.read_csv(\"./train_for_crossval.csv\", delimiter=\",\", sep='.')\n",
    "except:\n",
    "    train = pd.read_csv(\"./sample_data/train_for_crossval.csv\", delimiter=\",\", sep='.')"
   ]
  },
  {
   "cell_type": "code",
   "execution_count": 9,
   "metadata": {},
   "outputs": [],
   "source": [
    "X = train.query(\"target > 6\").drop([\"target\"], axis=1)\n",
    "y = train.query(\"target > 6\")[\"target\"] * 100"
   ]
  },
  {
   "cell_type": "code",
   "execution_count": 10,
   "metadata": {},
   "outputs": [],
   "source": [
    "num_train = train.select_dtypes([int, float])\n",
    "cat_train = train.select_dtypes(object)\n",
    "\n",
    "num = list(num_train.drop(['target'],axis=1))\n",
    "cat = list(cat_train)"
   ]
  },
  {
   "cell_type": "code",
   "execution_count": 11,
   "metadata": {},
   "outputs": [],
   "source": [
    "rmse = make_scorer(mean_squared_error, squared=False)\n",
    "\n",
    "pipeline_num = Pipeline(steps=[\n",
    "    ('imputer', SimpleImputer(strategy='median')), \n",
    "    ('normal', PowerTransformer()), \n",
    "    ('scaling', MinMaxScaler()),\n",
    "#     ('scaling', StandardScaler()), \n",
    "#     ('bins', KBinsDiscretizer(n_bins = self.n_bins))\n",
    "])\n",
    "\n",
    "pipeline_cat = Pipeline(steps=[\n",
    "    ('imputer', SimpleImputer(strategy='most_frequent')),\n",
    "    ('encoding', OneHotEncoder(handle_unknown='ignore')),\n",
    "])\n",
    "\n",
    "preprocessor = ColumnTransformer(\n",
    "    transformers=[\n",
    "        ('num', pipeline_num, num),\n",
    "        ('cat', pipeline_cat, cat),\n",
    "        ], remainder=\"drop\")\n",
    "\n",
    "def objective(trial):\n",
    "    \n",
    "    param_model = {\n",
    "        'alpha': trial.suggest_loguniform('alpha', 1e-3, 100.0),\n",
    "    }\n",
    "    \n",
    "    pipeline_ridge = Pipeline(steps=[('preprocessor', preprocessor),  \n",
    "                                     ('model', linear_model.Ridge(**param_model)),\n",
    "                                     ])\n",
    "\n",
    "    rmse_mean_cv = cross_val_score(pipeline_ridge, X, y, cv=5, scoring=rmse)\n",
    "    print(rmse_mean_cv)\n",
    "\n",
    "    return rmse_mean_cv.mean()"
   ]
  },
  {
   "cell_type": "code",
   "execution_count": 12,
   "metadata": {},
   "outputs": [
    {
     "name": "stderr",
     "output_type": "stream",
     "text": [
      "\u001b[32m[I 2021-09-02 12:11:40,518]\u001b[0m A new study created in memory with name: no-name-c1c82b22-e89b-4d9f-afb8-24f7602c3dfe\u001b[0m\n",
      "\u001b[32m[I 2021-09-02 12:11:53,302]\u001b[0m Trial 0 finished with value: 72.95747082386181 and parameters: {'alpha': 0.11576237046851422}. Best is trial 0 with value: 72.95747082386181.\u001b[0m\n"
     ]
    },
    {
     "name": "stdout",
     "output_type": "stream",
     "text": [
      "[72.49450489 73.0987833  73.41692086 73.03473225 72.74241282]\n"
     ]
    },
    {
     "name": "stderr",
     "output_type": "stream",
     "text": [
      "\u001b[32m[I 2021-09-02 12:12:07,003]\u001b[0m Trial 1 finished with value: 72.94409470179218 and parameters: {'alpha': 31.067329417208146}. Best is trial 1 with value: 72.94409470179218.\u001b[0m\n"
     ]
    },
    {
     "name": "stdout",
     "output_type": "stream",
     "text": [
      "[72.48789707 73.08095326 73.3948419  73.02389375 72.73288752]\n"
     ]
    },
    {
     "name": "stderr",
     "output_type": "stream",
     "text": [
      "\u001b[32m[I 2021-09-02 12:12:20,147]\u001b[0m Trial 2 finished with value: 72.94291242898367 and parameters: {'alpha': 45.97949266795876}. Best is trial 2 with value: 72.94291242898367.\u001b[0m\n"
     ]
    },
    {
     "name": "stdout",
     "output_type": "stream",
     "text": [
      "[72.48593972 73.08093899 73.39279912 73.02280737 72.73207695]\n"
     ]
    },
    {
     "name": "stderr",
     "output_type": "stream",
     "text": [
      "\u001b[32m[I 2021-09-02 12:12:33,367]\u001b[0m Trial 3 finished with value: 72.95832641658863 and parameters: {'alpha': 0.0021467819527770846}. Best is trial 2 with value: 72.94291242898367.\u001b[0m\n"
     ]
    },
    {
     "name": "stdout",
     "output_type": "stream",
     "text": [
      "[72.49454709 73.10208683 73.4174799  73.03495241 72.74256586]\n"
     ]
    },
    {
     "name": "stderr",
     "output_type": "stream",
     "text": [
      "\u001b[32m[I 2021-09-02 12:12:49,090]\u001b[0m Trial 4 finished with value: 72.95471270549181 and parameters: {'alpha': 0.7591719415648475}. Best is trial 2 with value: 72.94291242898367.\u001b[0m\n"
     ]
    },
    {
     "name": "stdout",
     "output_type": "stream",
     "text": [
      "[72.49427205 73.08951047 73.41452013 73.03364753 72.74161334]\n"
     ]
    }
   ],
   "source": [
    "study = optuna.create_study(direction=\"minimize\", pruner=optuna.pruners.MedianPruner())\n",
    "study.optimize(objective, n_trials=5)"
   ]
  },
  {
   "cell_type": "code",
   "execution_count": 14,
   "metadata": {},
   "outputs": [
    {
     "data": {
      "text/plain": [
       "{'alpha': 45.97949266795876}"
      ]
     },
     "execution_count": 14,
     "metadata": {},
     "output_type": "execute_result"
    }
   ],
   "source": [
    "best_params = study.best_trial.params\n",
    "best_params"
   ]
  },
  {
   "cell_type": "markdown",
   "metadata": {},
   "source": [
    "# save configs"
   ]
  },
  {
   "cell_type": "code",
   "execution_count": 15,
   "metadata": {},
   "outputs": [],
   "source": [
    "import yaml\n",
    "import os\n",
    "\n",
    "\n",
    "directory = './Configs'\n",
    "if not os.path.exists(directory):\n",
    "    os.makedirs(directory)\n",
    "    \n",
    "    \n",
    "with open('./Configs/params_model_linear.yml', 'w') as outfile:\n",
    "    yaml.dump(best_params, outfile, default_flow_style=False)"
   ]
  }
 ],
 "metadata": {
  "kernelspec": {
   "display_name": "Python 3",
   "language": "python",
   "name": "python3"
  },
  "language_info": {
   "codemirror_mode": {
    "name": "ipython",
    "version": 3
   },
   "file_extension": ".py",
   "mimetype": "text/x-python",
   "name": "python",
   "nbconvert_exporter": "python",
   "pygments_lexer": "ipython3",
   "version": "3.7.4"
  }
 },
 "nbformat": 4,
 "nbformat_minor": 2
}

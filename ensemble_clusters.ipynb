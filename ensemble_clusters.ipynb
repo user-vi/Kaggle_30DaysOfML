{
 "cells": [
  {
   "cell_type": "code",
   "execution_count": 1,
   "metadata": {},
   "outputs": [],
   "source": [
    "import pandas as pd\n",
    "import numpy as np\n",
    "from sklearn.pipeline import Pipeline\n",
    "from sklearn.compose import ColumnTransformer\n",
    "from sklearn.preprocessing import StandardScaler, OneHotEncoder, PowerTransformer\n",
    "from sklearn.ensemble import RandomForestClassifier\n",
    "from sklearn.metrics import make_scorer\n",
    "from sklearn.model_selection import cross_val_score\n",
    "from sklearn.model_selection import train_test_split\n",
    "\n",
    "from sklearn.preprocessing import KBinsDiscretizer\n",
    "from sklearn import linear_model\n",
    "from sklearn.metrics import mean_squared_error\n",
    "from sklearn.ensemble import StackingRegressor\n",
    "from sklearn.cluster import KMeans\n",
    "\n",
    "\n",
    "pd.set_option('display.max_columns', None)"
   ]
  },
  {
   "cell_type": "code",
   "execution_count": 2,
   "metadata": {},
   "outputs": [],
   "source": [
    "try: \n",
    "    import optuna\n",
    "except:\n",
    "    !pip install optuna\n",
    "    import optuna"
   ]
  },
  {
   "cell_type": "code",
   "execution_count": 3,
   "metadata": {},
   "outputs": [],
   "source": [
    "try:\n",
    "    from CustomPipeline import *\n",
    "except:\n",
    "    import sys\n",
    "    sys.path.insert(0,'/content/sample_data')\n",
    "    from CustomPipeline import *\n",
    "    print(\"ok\")"
   ]
  },
  {
   "cell_type": "markdown",
   "metadata": {},
   "source": [
    "# Feature engeneering with k-means"
   ]
  },
  {
   "cell_type": "code",
   "execution_count": 4,
   "metadata": {},
   "outputs": [],
   "source": [
    "test_ensemble = pd.read_csv(\"./en_test_ensemble.csv\", delimiter=\",\", sep='.')\n",
    "test = pd.read_csv(\"./en_test_witout_target.csv\", delimiter=\",\", sep='.', index_col='id')\n",
    "train_ensemble = pd.read_csv(\"./en_train_ensemble.csv\", delimiter=\",\", sep='.')"
   ]
  },
  {
   "cell_type": "code",
   "execution_count": 5,
   "metadata": {},
   "outputs": [],
   "source": [
    "test['label'] = 'test'\n",
    "train_ensemble['label'] = 'train_ensemble'\n",
    "test_ensemble['label'] = 'test_ensemble'"
   ]
  },
  {
   "cell_type": "code",
   "execution_count": 6,
   "metadata": {},
   "outputs": [],
   "source": [
    "df = pd.concat([test, train_ensemble.drop('target', axis=1), test_ensemble.drop('target', axis=1)])"
   ]
  },
  {
   "cell_type": "code",
   "execution_count": 7,
   "metadata": {},
   "outputs": [],
   "source": [
    "X = df\n",
    "num_train = X.select_dtypes([int, float])\n",
    "cat_train = X.select_dtypes(object)\n",
    "\n",
    "num = list(num_train)\n",
    "cat = list(cat_train)"
   ]
  },
  {
   "cell_type": "code",
   "execution_count": null,
   "metadata": {},
   "outputs": [
    {
     "name": "stdout",
     "output_type": "stream",
     "text": [
      "cont0\n"
     ]
    },
    {
     "name": "stderr",
     "output_type": "stream",
     "text": [
      "C:\\Users\\User\\AppData\\Roaming\\Python\\Python37\\site-packages\\sklearn\\cluster\\_kmeans.py:793: FutureWarning: 'n_jobs' was deprecated in version 0.23 and will be removed in 1.0 (renaming of 0.25).\n",
      "  \" removed in 1.0 (renaming of 0.25).\", FutureWarning)\n"
     ]
    },
    {
     "name": "stdout",
     "output_type": "stream",
     "text": [
      "cont0 cont1\n"
     ]
    },
    {
     "name": "stderr",
     "output_type": "stream",
     "text": [
      "C:\\Users\\User\\AppData\\Roaming\\Python\\Python37\\site-packages\\sklearn\\cluster\\_kmeans.py:793: FutureWarning: 'n_jobs' was deprecated in version 0.23 and will be removed in 1.0 (renaming of 0.25).\n",
      "  \" removed in 1.0 (renaming of 0.25).\", FutureWarning)\n"
     ]
    },
    {
     "name": "stdout",
     "output_type": "stream",
     "text": [
      "cont0 cont2\n"
     ]
    },
    {
     "name": "stderr",
     "output_type": "stream",
     "text": [
      "C:\\Users\\User\\AppData\\Roaming\\Python\\Python37\\site-packages\\sklearn\\cluster\\_kmeans.py:793: FutureWarning: 'n_jobs' was deprecated in version 0.23 and will be removed in 1.0 (renaming of 0.25).\n",
      "  \" removed in 1.0 (renaming of 0.25).\", FutureWarning)\n"
     ]
    },
    {
     "name": "stdout",
     "output_type": "stream",
     "text": [
      "cont0 cont3\n"
     ]
    },
    {
     "name": "stderr",
     "output_type": "stream",
     "text": [
      "C:\\Users\\User\\AppData\\Roaming\\Python\\Python37\\site-packages\\sklearn\\cluster\\_kmeans.py:793: FutureWarning: 'n_jobs' was deprecated in version 0.23 and will be removed in 1.0 (renaming of 0.25).\n",
      "  \" removed in 1.0 (renaming of 0.25).\", FutureWarning)\n"
     ]
    },
    {
     "name": "stdout",
     "output_type": "stream",
     "text": [
      "cont0 cont4\n"
     ]
    },
    {
     "name": "stderr",
     "output_type": "stream",
     "text": [
      "C:\\Users\\User\\AppData\\Roaming\\Python\\Python37\\site-packages\\sklearn\\cluster\\_kmeans.py:793: FutureWarning: 'n_jobs' was deprecated in version 0.23 and will be removed in 1.0 (renaming of 0.25).\n",
      "  \" removed in 1.0 (renaming of 0.25).\", FutureWarning)\n"
     ]
    },
    {
     "name": "stdout",
     "output_type": "stream",
     "text": [
      "cont0 cont5\n"
     ]
    },
    {
     "name": "stderr",
     "output_type": "stream",
     "text": [
      "C:\\Users\\User\\AppData\\Roaming\\Python\\Python37\\site-packages\\sklearn\\cluster\\_kmeans.py:793: FutureWarning: 'n_jobs' was deprecated in version 0.23 and will be removed in 1.0 (renaming of 0.25).\n",
      "  \" removed in 1.0 (renaming of 0.25).\", FutureWarning)\n"
     ]
    },
    {
     "name": "stdout",
     "output_type": "stream",
     "text": [
      "cont0 cont6\n"
     ]
    },
    {
     "name": "stderr",
     "output_type": "stream",
     "text": [
      "C:\\Users\\User\\AppData\\Roaming\\Python\\Python37\\site-packages\\sklearn\\cluster\\_kmeans.py:793: FutureWarning: 'n_jobs' was deprecated in version 0.23 and will be removed in 1.0 (renaming of 0.25).\n",
      "  \" removed in 1.0 (renaming of 0.25).\", FutureWarning)\n"
     ]
    }
   ],
   "source": [
    "%%time\n",
    "best_cluster_score = -100000000\n",
    "for i, m in enumerate(num):\n",
    "    print(m)\n",
    "    for j, n in enumerate(num):\n",
    "        if (m != n) and (j > i):\n",
    "            try:\n",
    "                kmeans = KMeans(n_clusters=9, random_state=42).fit(df[[m, n]])\n",
    "                cluster_score = kmeans.score(df[[m, n]])\n",
    "                if best_cluster_score < cluster_score:\n",
    "                    print(m, n)\n",
    "                    df['k_means_'] = kmeans.labels_\n",
    "                    df['k_means_'].astype(object)\n",
    "            except:\n",
    "                print(m, n, 'problem')\n"
   ]
  },
  {
   "cell_type": "code",
   "execution_count": 9,
   "metadata": {},
   "outputs": [
    {
     "data": {
      "text/plain": [
       "0        0\n",
       "5        0\n",
       "15       0\n",
       "16       0\n",
       "17       0\n",
       "        ..\n",
       "29995    0\n",
       "29996    0\n",
       "29997    0\n",
       "29998    0\n",
       "29999    0\n",
       "Name: k_means_cont6_cont7_, Length: 284000, dtype: object"
      ]
     },
     "execution_count": 9,
     "metadata": {},
     "output_type": "execute_result"
    }
   ],
   "source": [
    "df['k_means_cont4_cont6_'] = df['cont4'].apply(lambda x: 1 if x<0.1 else 0)\n",
    "df['k_means_cont4_cont6_'].astype(object)\n",
    "\n",
    "df['k_means_cont5_cont8_'] = df['cont8'].apply(lambda x: 1 if x<0.1 else 0)\n",
    "df['k_means_cont5_cont8_'].astype(object)\n",
    "\n",
    "df['k_means_cont6_cont7_'] = df['cont6'].apply(lambda x: 1 if x<0.1 else 0)\n",
    "df['k_means_cont6_cont7_'].astype(object)"
   ]
  },
  {
   "cell_type": "code",
   "execution_count": 10,
   "metadata": {},
   "outputs": [
    {
     "data": {
      "text/html": [
       "<div>\n",
       "<style scoped>\n",
       "    .dataframe tbody tr th:only-of-type {\n",
       "        vertical-align: middle;\n",
       "    }\n",
       "\n",
       "    .dataframe tbody tr th {\n",
       "        vertical-align: top;\n",
       "    }\n",
       "\n",
       "    .dataframe thead th {\n",
       "        text-align: right;\n",
       "    }\n",
       "</style>\n",
       "<table border=\"1\" class=\"dataframe\">\n",
       "  <thead>\n",
       "    <tr style=\"text-align: right;\">\n",
       "      <th></th>\n",
       "      <th>cat0</th>\n",
       "      <th>cat1</th>\n",
       "      <th>cat2</th>\n",
       "      <th>cat3</th>\n",
       "      <th>cat4</th>\n",
       "      <th>cat5</th>\n",
       "      <th>cat6</th>\n",
       "      <th>cat7</th>\n",
       "      <th>cat8</th>\n",
       "      <th>cat9</th>\n",
       "      <th>cont0</th>\n",
       "      <th>cont1</th>\n",
       "      <th>cont2</th>\n",
       "      <th>cont3</th>\n",
       "      <th>cont4</th>\n",
       "      <th>cont5</th>\n",
       "      <th>cont6</th>\n",
       "      <th>cont7</th>\n",
       "      <th>cont8</th>\n",
       "      <th>cont9</th>\n",
       "      <th>cont10</th>\n",
       "      <th>cont11</th>\n",
       "      <th>cont12</th>\n",
       "      <th>cont13</th>\n",
       "      <th>anomaly_col</th>\n",
       "      <th>0</th>\n",
       "      <th>1</th>\n",
       "      <th>label</th>\n",
       "      <th>k_means_cont4_cont6_</th>\n",
       "      <th>k_means_cont5_cont8_</th>\n",
       "      <th>k_means_cont6_cont7_</th>\n",
       "    </tr>\n",
       "  </thead>\n",
       "  <tbody>\n",
       "    <tr>\n",
       "      <th>0</th>\n",
       "      <td>B</td>\n",
       "      <td>B</td>\n",
       "      <td>B</td>\n",
       "      <td>C</td>\n",
       "      <td>B</td>\n",
       "      <td>B</td>\n",
       "      <td>A</td>\n",
       "      <td>E</td>\n",
       "      <td>E</td>\n",
       "      <td>I</td>\n",
       "      <td>0.296227</td>\n",
       "      <td>0.686757</td>\n",
       "      <td>0.587731</td>\n",
       "      <td>0.392753</td>\n",
       "      <td>0.476739</td>\n",
       "      <td>0.376350</td>\n",
       "      <td>0.337884</td>\n",
       "      <td>0.321832</td>\n",
       "      <td>0.445212</td>\n",
       "      <td>0.290258</td>\n",
       "      <td>0.244476</td>\n",
       "      <td>0.087914</td>\n",
       "      <td>0.301831</td>\n",
       "      <td>0.845702</td>\n",
       "      <td>Norm</td>\n",
       "      <td>811.794579</td>\n",
       "      <td>802.49600</td>\n",
       "      <td>test</td>\n",
       "      <td>0</td>\n",
       "      <td>0</td>\n",
       "      <td>0</td>\n",
       "    </tr>\n",
       "    <tr>\n",
       "      <th>5</th>\n",
       "      <td>A</td>\n",
       "      <td>B</td>\n",
       "      <td>A</td>\n",
       "      <td>C</td>\n",
       "      <td>B</td>\n",
       "      <td>C</td>\n",
       "      <td>A</td>\n",
       "      <td>E</td>\n",
       "      <td>C</td>\n",
       "      <td>H</td>\n",
       "      <td>0.543707</td>\n",
       "      <td>0.364761</td>\n",
       "      <td>0.452967</td>\n",
       "      <td>0.929645</td>\n",
       "      <td>0.285509</td>\n",
       "      <td>0.860046</td>\n",
       "      <td>0.798712</td>\n",
       "      <td>0.835961</td>\n",
       "      <td>0.391657</td>\n",
       "      <td>0.288276</td>\n",
       "      <td>0.549568</td>\n",
       "      <td>0.905097</td>\n",
       "      <td>0.850684</td>\n",
       "      <td>0.693940</td>\n",
       "      <td>Norm</td>\n",
       "      <td>841.286617</td>\n",
       "      <td>838.92790</td>\n",
       "      <td>test</td>\n",
       "      <td>0</td>\n",
       "      <td>0</td>\n",
       "      <td>0</td>\n",
       "    </tr>\n",
       "    <tr>\n",
       "      <th>15</th>\n",
       "      <td>B</td>\n",
       "      <td>A</td>\n",
       "      <td>A</td>\n",
       "      <td>A</td>\n",
       "      <td>B</td>\n",
       "      <td>B</td>\n",
       "      <td>A</td>\n",
       "      <td>E</td>\n",
       "      <td>D</td>\n",
       "      <td>K</td>\n",
       "      <td>0.408961</td>\n",
       "      <td>0.296129</td>\n",
       "      <td>0.690999</td>\n",
       "      <td>0.740027</td>\n",
       "      <td>0.697272</td>\n",
       "      <td>0.683600</td>\n",
       "      <td>0.404089</td>\n",
       "      <td>0.879379</td>\n",
       "      <td>0.275549</td>\n",
       "      <td>0.427871</td>\n",
       "      <td>0.491667</td>\n",
       "      <td>0.384315</td>\n",
       "      <td>0.376689</td>\n",
       "      <td>0.508099</td>\n",
       "      <td>Norm</td>\n",
       "      <td>837.758268</td>\n",
       "      <td>841.12854</td>\n",
       "      <td>test</td>\n",
       "      <td>0</td>\n",
       "      <td>0</td>\n",
       "      <td>0</td>\n",
       "    </tr>\n",
       "    <tr>\n",
       "      <th>16</th>\n",
       "      <td>B</td>\n",
       "      <td>B</td>\n",
       "      <td>A</td>\n",
       "      <td>C</td>\n",
       "      <td>B</td>\n",
       "      <td>D</td>\n",
       "      <td>A</td>\n",
       "      <td>E</td>\n",
       "      <td>A</td>\n",
       "      <td>N</td>\n",
       "      <td>1.031239</td>\n",
       "      <td>0.356062</td>\n",
       "      <td>0.303651</td>\n",
       "      <td>0.895591</td>\n",
       "      <td>0.719306</td>\n",
       "      <td>0.777890</td>\n",
       "      <td>0.730954</td>\n",
       "      <td>0.644315</td>\n",
       "      <td>1.024017</td>\n",
       "      <td>0.391090</td>\n",
       "      <td>0.988340</td>\n",
       "      <td>0.411828</td>\n",
       "      <td>0.393585</td>\n",
       "      <td>0.461372</td>\n",
       "      <td>Norm</td>\n",
       "      <td>853.769654</td>\n",
       "      <td>847.46990</td>\n",
       "      <td>test</td>\n",
       "      <td>0</td>\n",
       "      <td>0</td>\n",
       "      <td>0</td>\n",
       "    </tr>\n",
       "    <tr>\n",
       "      <th>17</th>\n",
       "      <td>B</td>\n",
       "      <td>B</td>\n",
       "      <td>A</td>\n",
       "      <td>C</td>\n",
       "      <td>B</td>\n",
       "      <td>C</td>\n",
       "      <td>A</td>\n",
       "      <td>E</td>\n",
       "      <td>C</td>\n",
       "      <td>F</td>\n",
       "      <td>0.530447</td>\n",
       "      <td>0.729004</td>\n",
       "      <td>0.281723</td>\n",
       "      <td>0.444698</td>\n",
       "      <td>0.313032</td>\n",
       "      <td>0.431007</td>\n",
       "      <td>0.390992</td>\n",
       "      <td>0.408874</td>\n",
       "      <td>0.447887</td>\n",
       "      <td>0.390253</td>\n",
       "      <td>0.648932</td>\n",
       "      <td>0.385935</td>\n",
       "      <td>0.370401</td>\n",
       "      <td>0.900412</td>\n",
       "      <td>Norm</td>\n",
       "      <td>819.820749</td>\n",
       "      <td>811.22650</td>\n",
       "      <td>test</td>\n",
       "      <td>0</td>\n",
       "      <td>0</td>\n",
       "      <td>0</td>\n",
       "    </tr>\n",
       "    <tr>\n",
       "      <th>...</th>\n",
       "      <td>...</td>\n",
       "      <td>...</td>\n",
       "      <td>...</td>\n",
       "      <td>...</td>\n",
       "      <td>...</td>\n",
       "      <td>...</td>\n",
       "      <td>...</td>\n",
       "      <td>...</td>\n",
       "      <td>...</td>\n",
       "      <td>...</td>\n",
       "      <td>...</td>\n",
       "      <td>...</td>\n",
       "      <td>...</td>\n",
       "      <td>...</td>\n",
       "      <td>...</td>\n",
       "      <td>...</td>\n",
       "      <td>...</td>\n",
       "      <td>...</td>\n",
       "      <td>...</td>\n",
       "      <td>...</td>\n",
       "      <td>...</td>\n",
       "      <td>...</td>\n",
       "      <td>...</td>\n",
       "      <td>...</td>\n",
       "      <td>...</td>\n",
       "      <td>...</td>\n",
       "      <td>...</td>\n",
       "      <td>...</td>\n",
       "      <td>...</td>\n",
       "      <td>...</td>\n",
       "      <td>...</td>\n",
       "    </tr>\n",
       "    <tr>\n",
       "      <th>29995</th>\n",
       "      <td>B</td>\n",
       "      <td>A</td>\n",
       "      <td>A</td>\n",
       "      <td>C</td>\n",
       "      <td>B</td>\n",
       "      <td>D</td>\n",
       "      <td>A</td>\n",
       "      <td>E</td>\n",
       "      <td>A</td>\n",
       "      <td>F</td>\n",
       "      <td>0.772090</td>\n",
       "      <td>0.299549</td>\n",
       "      <td>0.602349</td>\n",
       "      <td>0.136107</td>\n",
       "      <td>0.321439</td>\n",
       "      <td>0.733027</td>\n",
       "      <td>0.675137</td>\n",
       "      <td>0.433400</td>\n",
       "      <td>0.419443</td>\n",
       "      <td>0.829095</td>\n",
       "      <td>0.749472</td>\n",
       "      <td>0.924683</td>\n",
       "      <td>0.841468</td>\n",
       "      <td>0.155335</td>\n",
       "      <td>Norm</td>\n",
       "      <td>869.400623</td>\n",
       "      <td>867.26910</td>\n",
       "      <td>test_ensemble</td>\n",
       "      <td>0</td>\n",
       "      <td>0</td>\n",
       "      <td>0</td>\n",
       "    </tr>\n",
       "    <tr>\n",
       "      <th>29996</th>\n",
       "      <td>A</td>\n",
       "      <td>A</td>\n",
       "      <td>A</td>\n",
       "      <td>C</td>\n",
       "      <td>B</td>\n",
       "      <td>B</td>\n",
       "      <td>A</td>\n",
       "      <td>E</td>\n",
       "      <td>E</td>\n",
       "      <td>B</td>\n",
       "      <td>0.287894</td>\n",
       "      <td>0.495071</td>\n",
       "      <td>0.631200</td>\n",
       "      <td>0.867232</td>\n",
       "      <td>0.283090</td>\n",
       "      <td>0.332150</td>\n",
       "      <td>0.302113</td>\n",
       "      <td>0.515958</td>\n",
       "      <td>0.535950</td>\n",
       "      <td>0.266809</td>\n",
       "      <td>0.052132</td>\n",
       "      <td>0.654320</td>\n",
       "      <td>0.169984</td>\n",
       "      <td>0.322297</td>\n",
       "      <td>Norm</td>\n",
       "      <td>810.539736</td>\n",
       "      <td>808.34860</td>\n",
       "      <td>test_ensemble</td>\n",
       "      <td>0</td>\n",
       "      <td>0</td>\n",
       "      <td>0</td>\n",
       "    </tr>\n",
       "    <tr>\n",
       "      <th>29997</th>\n",
       "      <td>A</td>\n",
       "      <td>A</td>\n",
       "      <td>A</td>\n",
       "      <td>C</td>\n",
       "      <td>B</td>\n",
       "      <td>B</td>\n",
       "      <td>A</td>\n",
       "      <td>E</td>\n",
       "      <td>A</td>\n",
       "      <td>G</td>\n",
       "      <td>0.557205</td>\n",
       "      <td>0.428366</td>\n",
       "      <td>0.435169</td>\n",
       "      <td>0.282981</td>\n",
       "      <td>0.275103</td>\n",
       "      <td>0.418939</td>\n",
       "      <td>0.446874</td>\n",
       "      <td>0.817383</td>\n",
       "      <td>0.445138</td>\n",
       "      <td>0.337872</td>\n",
       "      <td>0.229573</td>\n",
       "      <td>0.460156</td>\n",
       "      <td>0.642881</td>\n",
       "      <td>0.708801</td>\n",
       "      <td>Norm</td>\n",
       "      <td>808.015706</td>\n",
       "      <td>809.41300</td>\n",
       "      <td>test_ensemble</td>\n",
       "      <td>0</td>\n",
       "      <td>0</td>\n",
       "      <td>0</td>\n",
       "    </tr>\n",
       "    <tr>\n",
       "      <th>29998</th>\n",
       "      <td>A</td>\n",
       "      <td>B</td>\n",
       "      <td>A</td>\n",
       "      <td>C</td>\n",
       "      <td>B</td>\n",
       "      <td>B</td>\n",
       "      <td>A</td>\n",
       "      <td>E</td>\n",
       "      <td>E</td>\n",
       "      <td>O</td>\n",
       "      <td>0.436505</td>\n",
       "      <td>0.132483</td>\n",
       "      <td>0.417743</td>\n",
       "      <td>0.386264</td>\n",
       "      <td>0.871950</td>\n",
       "      <td>0.398272</td>\n",
       "      <td>0.435601</td>\n",
       "      <td>0.504268</td>\n",
       "      <td>0.420534</td>\n",
       "      <td>0.520706</td>\n",
       "      <td>0.228765</td>\n",
       "      <td>0.430401</td>\n",
       "      <td>0.240570</td>\n",
       "      <td>0.823217</td>\n",
       "      <td>Norm</td>\n",
       "      <td>785.915281</td>\n",
       "      <td>782.50354</td>\n",
       "      <td>test_ensemble</td>\n",
       "      <td>0</td>\n",
       "      <td>0</td>\n",
       "      <td>0</td>\n",
       "    </tr>\n",
       "    <tr>\n",
       "      <th>29999</th>\n",
       "      <td>A</td>\n",
       "      <td>B</td>\n",
       "      <td>B</td>\n",
       "      <td>C</td>\n",
       "      <td>B</td>\n",
       "      <td>B</td>\n",
       "      <td>A</td>\n",
       "      <td>E</td>\n",
       "      <td>C</td>\n",
       "      <td>L</td>\n",
       "      <td>0.223625</td>\n",
       "      <td>0.291012</td>\n",
       "      <td>0.314675</td>\n",
       "      <td>0.344144</td>\n",
       "      <td>0.327957</td>\n",
       "      <td>0.401096</td>\n",
       "      <td>0.446367</td>\n",
       "      <td>0.283195</td>\n",
       "      <td>0.407757</td>\n",
       "      <td>0.313711</td>\n",
       "      <td>0.054183</td>\n",
       "      <td>0.587146</td>\n",
       "      <td>0.345871</td>\n",
       "      <td>0.768678</td>\n",
       "      <td>Norm</td>\n",
       "      <td>806.721389</td>\n",
       "      <td>801.60360</td>\n",
       "      <td>test_ensemble</td>\n",
       "      <td>0</td>\n",
       "      <td>0</td>\n",
       "      <td>0</td>\n",
       "    </tr>\n",
       "  </tbody>\n",
       "</table>\n",
       "<p>284000 rows × 31 columns</p>\n",
       "</div>"
      ],
      "text/plain": [
       "      cat0 cat1 cat2 cat3 cat4 cat5 cat6 cat7 cat8 cat9     cont0     cont1  \\\n",
       "0        B    B    B    C    B    B    A    E    E    I  0.296227  0.686757   \n",
       "5        A    B    A    C    B    C    A    E    C    H  0.543707  0.364761   \n",
       "15       B    A    A    A    B    B    A    E    D    K  0.408961  0.296129   \n",
       "16       B    B    A    C    B    D    A    E    A    N  1.031239  0.356062   \n",
       "17       B    B    A    C    B    C    A    E    C    F  0.530447  0.729004   \n",
       "...    ...  ...  ...  ...  ...  ...  ...  ...  ...  ...       ...       ...   \n",
       "29995    B    A    A    C    B    D    A    E    A    F  0.772090  0.299549   \n",
       "29996    A    A    A    C    B    B    A    E    E    B  0.287894  0.495071   \n",
       "29997    A    A    A    C    B    B    A    E    A    G  0.557205  0.428366   \n",
       "29998    A    B    A    C    B    B    A    E    E    O  0.436505  0.132483   \n",
       "29999    A    B    B    C    B    B    A    E    C    L  0.223625  0.291012   \n",
       "\n",
       "          cont2     cont3     cont4     cont5     cont6     cont7     cont8  \\\n",
       "0      0.587731  0.392753  0.476739  0.376350  0.337884  0.321832  0.445212   \n",
       "5      0.452967  0.929645  0.285509  0.860046  0.798712  0.835961  0.391657   \n",
       "15     0.690999  0.740027  0.697272  0.683600  0.404089  0.879379  0.275549   \n",
       "16     0.303651  0.895591  0.719306  0.777890  0.730954  0.644315  1.024017   \n",
       "17     0.281723  0.444698  0.313032  0.431007  0.390992  0.408874  0.447887   \n",
       "...         ...       ...       ...       ...       ...       ...       ...   \n",
       "29995  0.602349  0.136107  0.321439  0.733027  0.675137  0.433400  0.419443   \n",
       "29996  0.631200  0.867232  0.283090  0.332150  0.302113  0.515958  0.535950   \n",
       "29997  0.435169  0.282981  0.275103  0.418939  0.446874  0.817383  0.445138   \n",
       "29998  0.417743  0.386264  0.871950  0.398272  0.435601  0.504268  0.420534   \n",
       "29999  0.314675  0.344144  0.327957  0.401096  0.446367  0.283195  0.407757   \n",
       "\n",
       "          cont9    cont10    cont11    cont12    cont13 anomaly_col  \\\n",
       "0      0.290258  0.244476  0.087914  0.301831  0.845702        Norm   \n",
       "5      0.288276  0.549568  0.905097  0.850684  0.693940        Norm   \n",
       "15     0.427871  0.491667  0.384315  0.376689  0.508099        Norm   \n",
       "16     0.391090  0.988340  0.411828  0.393585  0.461372        Norm   \n",
       "17     0.390253  0.648932  0.385935  0.370401  0.900412        Norm   \n",
       "...         ...       ...       ...       ...       ...         ...   \n",
       "29995  0.829095  0.749472  0.924683  0.841468  0.155335        Norm   \n",
       "29996  0.266809  0.052132  0.654320  0.169984  0.322297        Norm   \n",
       "29997  0.337872  0.229573  0.460156  0.642881  0.708801        Norm   \n",
       "29998  0.520706  0.228765  0.430401  0.240570  0.823217        Norm   \n",
       "29999  0.313711  0.054183  0.587146  0.345871  0.768678        Norm   \n",
       "\n",
       "                0          1          label  k_means_cont4_cont6_  \\\n",
       "0      811.794579  802.49600           test                     0   \n",
       "5      841.286617  838.92790           test                     0   \n",
       "15     837.758268  841.12854           test                     0   \n",
       "16     853.769654  847.46990           test                     0   \n",
       "17     819.820749  811.22650           test                     0   \n",
       "...           ...        ...            ...                   ...   \n",
       "29995  869.400623  867.26910  test_ensemble                     0   \n",
       "29996  810.539736  808.34860  test_ensemble                     0   \n",
       "29997  808.015706  809.41300  test_ensemble                     0   \n",
       "29998  785.915281  782.50354  test_ensemble                     0   \n",
       "29999  806.721389  801.60360  test_ensemble                     0   \n",
       "\n",
       "       k_means_cont5_cont8_  k_means_cont6_cont7_  \n",
       "0                         0                     0  \n",
       "5                         0                     0  \n",
       "15                        0                     0  \n",
       "16                        0                     0  \n",
       "17                        0                     0  \n",
       "...                     ...                   ...  \n",
       "29995                     0                     0  \n",
       "29996                     0                     0  \n",
       "29997                     0                     0  \n",
       "29998                     0                     0  \n",
       "29999                     0                     0  \n",
       "\n",
       "[284000 rows x 31 columns]"
      ]
     },
     "execution_count": 10,
     "metadata": {},
     "output_type": "execute_result"
    }
   ],
   "source": [
    "df"
   ]
  },
  {
   "cell_type": "code",
   "execution_count": null,
   "metadata": {},
   "outputs": [],
   "source": [
    "df.to_csv('./ensemble_with_clusters.csv', index=False)"
   ]
  },
  {
   "cell_type": "code",
   "execution_count": 8,
   "metadata": {},
   "outputs": [],
   "source": [
    "# df = pd.read_csv(\"./ensemble_with_clusters.csv\", delimiter=\",\", sep='.')"
   ]
  },
  {
   "cell_type": "code",
   "execution_count": null,
   "metadata": {},
   "outputs": [],
   "source": [
    "df.head(3)"
   ]
  },
  {
   "cell_type": "code",
   "execution_count": null,
   "metadata": {},
   "outputs": [],
   "source": [
    "df.iloc[:, 28:]"
   ]
  },
  {
   "cell_type": "code",
   "execution_count": 9,
   "metadata": {},
   "outputs": [],
   "source": [
    "df.iloc[:, 28:] = df.iloc[:, 28:].astype('object')"
   ]
  },
  {
   "cell_type": "code",
   "execution_count": 10,
   "metadata": {},
   "outputs": [],
   "source": [
    "test_new = df[df['label'] == 'test'].drop('label', axis=1)\n",
    "train_ensemble_new = df[df['label'] == 'train_ensemble'].drop('label', axis=1)\n",
    "test_ensemble_new = df[df['label'] == 'test_ensemble'].drop('label', axis=1)"
   ]
  },
  {
   "cell_type": "code",
   "execution_count": 11,
   "metadata": {},
   "outputs": [],
   "source": [
    "X = train_ensemble_new\n",
    "y = train_ensemble['target']\n",
    "\n",
    "num_train = X.select_dtypes([int, float])\n",
    "cat_train = X.select_dtypes(object)\n",
    "\n",
    "num = list(num_train)\n",
    "cat = list(cat_train)\n",
    "\n",
    "rmse = make_scorer(mean_squared_error, squared=False)\n",
    "\n",
    "pipeline_num = Pipeline(steps=[\n",
    "    ('imputer', SimpleImputer(strategy='median')),\n",
    "    ('scaling', StandardScaler()),  \n",
    "    ('normal', PowerTransformer()), \n",
    "])\n",
    "pipeline_cat = Pipeline(steps=[\n",
    "    ('encoding', OneHotEncoder(handle_unknown='ignore')),\n",
    "])\n",
    "preprocessor = ColumnTransformer(n_jobs=-1,\n",
    "    transformers=[\n",
    "        ('num', pipeline_num, num),\n",
    "        ('cat', pipeline_cat, cat),\n",
    "        ], remainder=\"passthrough\")\n",
    "\n",
    "\n",
    "preprocessor.fit(df.drop('label', axis=1))\n",
    "transform = preprocessor.transform(X)\n",
    "X_test_ensemble = preprocessor.transform(test_ensemble_new.drop('label', axis=1))\n",
    "X_test = preprocessor.transform(test_new.drop('label', axis=1))"
   ]
  },
  {
   "cell_type": "code",
   "execution_count": 44,
   "metadata": {},
   "outputs": [],
   "source": [
    "def objective(trial):\n",
    "    \n",
    "    param_model = {\n",
    "        'alpha': trial.suggest_loguniform('alpha', 1e-3, 1.0),\n",
    "        'random_state':trial.suggest_categorical(\"random_state\", [0, 1, 42]),\n",
    "    }\n",
    "    \n",
    "    pipeline_ridge = Pipeline(steps=[ \n",
    "                                     ('model', linear_model.Lasso(**param_model)),\n",
    "                                     ])\n",
    "\n",
    "    rmse_mean_cv = cross_val_score(pipeline_ridge, transform, y, cv=5, scoring=rmse)\n",
    "    print(rmse_mean_cv)\n",
    "\n",
    "    return rmse_mean_cv.mean()"
   ]
  },
  {
   "cell_type": "code",
   "execution_count": null,
   "metadata": {},
   "outputs": [
    {
     "name": "stderr",
     "output_type": "stream",
     "text": [
      "\u001b[32m[I 2021-08-30 20:55:01,978]\u001b[0m A new study created in memory with name: no-name-9a24571d-6850-4d78-bcb6-ba37cb07191a\u001b[0m\n",
      "C:\\Users\\User\\AppData\\Roaming\\Python\\Python37\\site-packages\\sklearn\\linear_model\\_coordinate_descent.py:516: ConvergenceWarning: Objective did not converge. You might want to increase the number of iterations. Duality gap: 49042112.17961736, tolerance: 24226.26554688837\n",
      "  max_iter, tol, rng, random, positive)\n"
     ]
    }
   ],
   "source": [
    "study = optuna.create_study(direction=\"minimize\", pruner=optuna.pruners.MedianPruner())\n",
    "study.optimize(objective, n_trials=10)\n",
    "# 72.05929420329886.\n",
    "# 72.05702112640415."
   ]
  },
  {
   "cell_type": "code",
   "execution_count": null,
   "metadata": {},
   "outputs": [],
   "source": [
    "best_params = study.best_trial.params\n",
    "best_params "
   ]
  },
  {
   "cell_type": "markdown",
   "metadata": {},
   "source": [
    "# check bias clusters"
   ]
  },
  {
   "cell_type": "code",
   "execution_count": 14,
   "metadata": {},
   "outputs": [
    {
     "data": {
      "text/plain": [
       "Lasso()"
      ]
     },
     "execution_count": 14,
     "metadata": {},
     "output_type": "execute_result"
    }
   ],
   "source": [
    "model = linear_model.Lasso(**best_params)\n",
    "model.fit(transform, y)"
   ]
  },
  {
   "cell_type": "code",
   "execution_count": 15,
   "metadata": {},
   "outputs": [
    {
     "data": {
      "text/plain": [
       "array([ 0., -0.,  0., ...,  0.,  0., -0.])"
      ]
     },
     "execution_count": 15,
     "metadata": {},
     "output_type": "execute_result"
    }
   ],
   "source": [
    "model.coef_"
   ]
  },
  {
   "cell_type": "code",
   "execution_count": 16,
   "metadata": {},
   "outputs": [
    {
     "name": "stdout",
     "output_type": "stream",
     "text": [
      "72.05519905131491\n"
     ]
    }
   ],
   "source": [
    "pred = model.predict(transform)\n",
    "print(mean_squared_error(train_ensemble[\"target\"], pred, squared=False))\n",
    "train_ensemble['pred_lasso'] = pred"
   ]
  },
  {
   "cell_type": "code",
   "execution_count": 17,
   "metadata": {},
   "outputs": [
    {
     "name": "stdout",
     "output_type": "stream",
     "text": [
      "71.78808706216203\n"
     ]
    }
   ],
   "source": [
    "pred = model.predict(X_test_ensemble)\n",
    "print(mean_squared_error(test_ensemble[\"target\"], pred, squared=False))"
   ]
  },
  {
   "cell_type": "code",
   "execution_count": null,
   "metadata": {},
   "outputs": [],
   "source": [
    "pred = model.predict(X_test)\n",
    "test['target'] = pred / 100"
   ]
  },
  {
   "cell_type": "code",
   "execution_count": null,
   "metadata": {},
   "outputs": [],
   "source": [
    "train_ensemble"
   ]
  },
  {
   "cell_type": "code",
   "execution_count": null,
   "metadata": {},
   "outputs": [],
   "source": [
    "train_ensemble['residuals'] = train_ensemble['target'] - train_ensemble['0']\n",
    "train_ensemble['label'] = train_ensemble.residuals.apply(lambda x: 1 if x > -180 else 0) "
   ]
  },
  {
   "cell_type": "code",
   "execution_count": null,
   "metadata": {},
   "outputs": [],
   "source": [
    "import matplotlib.pyplot as plt\n",
    "import seaborn as sns"
   ]
  },
  {
   "cell_type": "code",
   "execution_count": null,
   "metadata": {},
   "outputs": [],
   "source": [
    "sns.set(rc={'figure.figsize':(11.7,8.27)})\n",
    "residuals = train_ensemble['target'] - train_ensemble['0']\n",
    "sns.scatterplot(train_ensemble['0'], residuals, hue = train_ensemble['label'], size=train_ensemble['label'])"
   ]
  },
  {
   "cell_type": "code",
   "execution_count": null,
   "metadata": {
    "scrolled": true
   },
   "outputs": [],
   "source": [
    "sns.set(rc={'figure.figsize':(11.7,8.27)})\n",
    "residuals = train_ensemble['target'] - train_ensemble['pred_lasso']\n",
    "sns.scatterplot(train_ensemble['pred_lasso'], residuals, hue = train_ensemble['label'], size=train_ensemble['label'])"
   ]
  },
  {
   "cell_type": "code",
   "execution_count": null,
   "metadata": {},
   "outputs": [],
   "source": [
    "# for i, m in enumerate(num):\n",
    "#     for j, n in enumerate(num):\n",
    "#         if (m != n) and (j > i):\n",
    "#             plt.figure()\n",
    "#             sns.scatterplot(train_ensemble[m], train_ensemble[n], hue = train_ensemble['label'], size=train_ensemble['label'])"
   ]
  },
  {
   "cell_type": "markdown",
   "metadata": {},
   "source": [
    "# save predict"
   ]
  },
  {
   "cell_type": "code",
   "execution_count": null,
   "metadata": {},
   "outputs": [],
   "source": [
    "# test = pd.read_csv(\"./sample_data/test_anomaly.csv\", delimiter=\",\", sep='.')"
   ]
  },
  {
   "cell_type": "code",
   "execution_count": null,
   "metadata": {},
   "outputs": [],
   "source": [
    "# df_ensemble = pd.DataFrame()\n",
    "# df_ensemble['lr'] = lr_pred\n",
    "# df_ensemble['xgb_pred'] = xgb_pred\n",
    "# df_ensemble['cat_pred'] = cat_pred\n",
    "\n",
    "# df_test = pd.DataFrame()\n",
    "# df_test['lr'] = lr_test\n",
    "# df_test['xgb_pred'] = xgb_test\n",
    "# df_test['cat_pred'] = cat_test"
   ]
  },
  {
   "cell_type": "code",
   "execution_count": null,
   "metadata": {},
   "outputs": [],
   "source": [
    "# # del\n",
    "# lr_pred1 = lr.predict(test)\n",
    "# xgb_pred1 = xgb.predict(test)\n",
    "# cat_pred1 = catboost.predict(test)\n",
    "\n",
    "# df_submit = pd.DataFrame()\n",
    "# df_submit['lr'] = lr_pred1\n",
    "# df_submit['xgb_pred'] = xgb_pred1\n",
    "# df_submit['cat_pred'] = cat_pred1"
   ]
  },
  {
   "cell_type": "code",
   "execution_count": null,
   "metadata": {},
   "outputs": [],
   "source": [
    "# pred = pipeline_ridge.predict(test)"
   ]
  },
  {
   "cell_type": "code",
   "execution_count": null,
   "metadata": {},
   "outputs": [],
   "source": [
    "test.head()"
   ]
  },
  {
   "cell_type": "code",
   "execution_count": null,
   "metadata": {},
   "outputs": [],
   "source": [
    "test[['target']].to_csv('./ensemble_for_submit_with_clusters.csv', index=True)"
   ]
  },
  {
   "cell_type": "code",
   "execution_count": null,
   "metadata": {},
   "outputs": [],
   "source": []
  },
  {
   "cell_type": "code",
   "execution_count": null,
   "metadata": {},
   "outputs": [],
   "source": []
  },
  {
   "cell_type": "code",
   "execution_count": 22,
   "metadata": {},
   "outputs": [],
   "source": [
    "idx = [X.columns.get_loc(i) for i in cat]"
   ]
  },
  {
   "cell_type": "code",
   "execution_count": 31,
   "metadata": {},
   "outputs": [],
   "source": [
    "train_pool = Pool(X, y, cat_features=idx)\n",
    "\n",
    "def objective(trial):\n",
    "\n",
    "\n",
    "    param = {\n",
    "        'iterations' : trial.suggest_int('iterations', 100, 500),                         \n",
    "        'depth' : trial.suggest_int('depth', 4, 10),                                                    \n",
    "        'random_strength' :trial.suggest_int('random_strength', 0, 100),                       \n",
    "        'bagging_temperature' :trial.suggest_loguniform('bagging_temperature', 0.01, 100.00),\n",
    "        'learning_rate' : trial.suggest_loguniform('learning_rate', 1e-3, 0.5),\n",
    "    }\n",
    "    param[\"loss_function\"] =\"RMSE\"\n",
    "    \n",
    "    rmse = cv(train_pool, param, fold_count=5, plot=False, logging_level=\"Silent\")\n",
    "    \n",
    "    print(rmse.iloc[-1])\n",
    "\n",
    "    return rmse['test-RMSE-mean'].iloc[-1]"
   ]
  },
  {
   "cell_type": "code",
   "execution_count": null,
   "metadata": {},
   "outputs": [
    {
     "name": "stderr",
     "output_type": "stream",
     "text": [
      "\u001b[32m[I 2021-08-30 21:18:35,976]\u001b[0m A new study created in memory with name: no-name-aa6f629c-3e51-4000-b5df-4b571660c19e\u001b[0m\n"
     ]
    }
   ],
   "source": [
    "study = optuna.create_study(direction=\"minimize\", pruner=optuna.pruners.MedianPruner())\n",
    "study.optimize(objective, n_trials=20, n_jobs=-1)"
   ]
  },
  {
   "cell_type": "code",
   "execution_count": 28,
   "metadata": {},
   "outputs": [],
   "source": [
    "train_pool = Pool(test_ensemble_new, cat_features=idx)\n",
    "pred = model.predict(train_pool)"
   ]
  },
  {
   "cell_type": "code",
   "execution_count": 29,
   "metadata": {},
   "outputs": [
    {
     "name": "stdout",
     "output_type": "stream",
     "text": [
      "72.12356209244899\n"
     ]
    }
   ],
   "source": [
    "print(mean_squared_error(test_ensemble[\"target\"], pred, squared=False))"
   ]
  },
  {
   "cell_type": "code",
   "execution_count": null,
   "metadata": {},
   "outputs": [],
   "source": []
  }
 ],
 "metadata": {
  "kernelspec": {
   "display_name": "Python 3",
   "language": "python",
   "name": "python3"
  },
  "language_info": {
   "codemirror_mode": {
    "name": "ipython",
    "version": 3
   },
   "file_extension": ".py",
   "mimetype": "text/x-python",
   "name": "python",
   "nbconvert_exporter": "python",
   "pygments_lexer": "ipython3",
   "version": "3.7.4"
  }
 },
 "nbformat": 4,
 "nbformat_minor": 2
}

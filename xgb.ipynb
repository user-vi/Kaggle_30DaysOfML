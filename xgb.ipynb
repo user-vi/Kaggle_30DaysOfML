{
 "cells": [
  {
   "cell_type": "code",
   "execution_count": null,
   "metadata": {},
   "outputs": [],
   "source": [
    "import datetime\n",
    "from sklearn import metrics, model_selection, ensemble\n",
    "import pandas as pd\n",
    "import numpy as np\n",
    "from sklearn.pipeline import Pipeline\n",
    "from sklearn.model_selection import train_test_split\n",
    "from sklearn.compose import ColumnTransformer\n",
    "from sklearn.impute import SimpleImputer\n",
    "from sklearn.preprocessing import StandardScaler, OneHotEncoder\n",
    "from sklearn.preprocessing import PowerTransformer\n",
    "from sklearn.ensemble import RandomForestClassifier\n",
    "from sklearn.metrics import precision_recall_curve\n",
    "from sklearn.metrics import plot_precision_recall_curve\n",
    "from sklearn.metrics import precision_score\n",
    "from sklearn.metrics import recall_score\n",
    "from sklearn.metrics import make_scorer\n",
    "from sklearn.model_selection import TimeSeriesSplit\n",
    "from sklearn.model_selection import cross_val_score\n",
    "\n",
    "from sklearn.preprocessing import KBinsDiscretizer\n",
    "import xgboost as xgb\n",
    "from sklearn import linear_model\n",
    "from sklearn.neighbors import KNeighborsRegressor\n",
    "from sklearn.metrics import mean_squared_error\n",
    "import xgboost"
   ]
  },
  {
   "cell_type": "code",
   "execution_count": null,
   "metadata": {},
   "outputs": [],
   "source": [
    "try: \n",
    "    import optuna\n",
    "except:\n",
    "    !pip install optuna\n",
    "    import optuna"
   ]
  },
  {
   "cell_type": "code",
   "execution_count": null,
   "metadata": {},
   "outputs": [],
   "source": [
    "try:\n",
    "    train = pd.read_csv(\"./train_for_crossval.csv\", delimiter=\",\", sep='.')\n",
    "except:\n",
    "    train = pd.read_csv(\"./sample_data/train_for_crossval.csv\", delimiter=\",\", sep='.')"
   ]
  },
  {
   "cell_type": "code",
   "execution_count": null,
   "metadata": {},
   "outputs": [],
   "source": [
    "train"
   ]
  },
  {
   "cell_type": "code",
   "execution_count": 4,
   "metadata": {},
   "outputs": [],
   "source": [
    "X = train.drop([\"target\"], axis=1)\n",
    "y = train[\"target\"]"
   ]
  },
  {
   "cell_type": "code",
   "execution_count": 5,
   "metadata": {},
   "outputs": [],
   "source": [
    "num_train = train.select_dtypes([int, float])\n",
    "cat_train = train.select_dtypes(object)\n",
    "\n",
    "num = list(num_train.drop(['target'],axis=1))\n",
    "cat = list(cat_train)"
   ]
  },
  {
   "cell_type": "code",
   "execution_count": 6,
   "metadata": {},
   "outputs": [],
   "source": [
    "from sklearn.decomposition import TruncatedSVD\n",
    "from sklearn.preprocessing import OrdinalEncoder\n",
    "\n",
    "rmse = make_scorer(mean_squared_error, squared=False)\n",
    "\n",
    "pipeline_num = Pipeline(steps=[\n",
    "    ('imputer', SimpleImputer(strategy='median')),\n",
    "    ('scaling', StandardScaler()),  \n",
    "    ('normal', PowerTransformer()), \n",
    "])\n",
    "pipeline_cat = Pipeline(steps=[\n",
    "    # ('imputer', SimpleImputer(strategy='most_frequent')),\n",
    "    # ('encoding', OrdinalEncoder()),\n",
    "    ('encoding', OneHotEncoder(handle_unknown='ignore')),\n",
    "])\n",
    "preprocessor = ColumnTransformer(n_jobs=-1,\n",
    "    transformers=[\n",
    "        ('num', pipeline_num, num),\n",
    "        ('cat', pipeline_cat, cat),\n",
    "        ], remainder=\"passthrough\")\n",
    "\n",
    "transformed = preprocessor.fit_transform(X)\n",
    "\n",
    "# svd = TruncatedSVD(n_components=20, n_iter=7, random_state=42)\n",
    "# transformed = svd.fit_transform(transformed)\n",
    "\n",
    "def objective(trial):\n",
    "    \n",
    "    param_model = {\n",
    "        # 'tree_method':'gpu_hist',\n",
    "        'n_estimators': 5000,\n",
    "        'eval_metric':'rmse',\n",
    "        'colsample_bytree': trial.suggest_float('colsample_bytree', 0.3, 0.9),\n",
    "        'learning_rate': trial.suggest_float('learning_rate', 1e-2, 1),\n",
    "        'max_depth': trial.suggest_int('max_depth', 4, 6),\n",
    "        'objective': trial.suggest_categorical(\"objective\", ['reg:squarederror']),\n",
    "        'reg_alpha': trial.suggest_float('reg_alpha', 1e-2, 100),\n",
    "        'reg_lambda': trial.suggest_int('reg_lambda', 1, 100), \n",
    "        'subsample': trial.suggest_float('subsample', 0.5, 0.9)\n",
    "    }\n",
    "    param_svd = {\n",
    "        'n_components': trial.suggest_categorical(\"n_components\", [30, 50, 70]),\n",
    "    }\n",
    "    \n",
    "    pipeline_ridge = Pipeline(steps=[\n",
    "                                    #  ('preprocessor', preprocessor), \n",
    "#                                      ('svd', TruncatedSVD(random_state=42, **param_svd)), \n",
    "                                     ('model', xgboost.XGBRegressor(**param_model)),\n",
    "                                     ])\n",
    "\n",
    "    rmse_mean_cv = cross_val_score(pipeline_ridge, transformed, y, cv=5, scoring=rmse, n_jobs=-1)\n",
    "    print(rmse_mean_cv)\n",
    "\n",
    "    return rmse_mean_cv.mean()"
   ]
  },
  {
   "cell_type": "code",
   "execution_count": null,
   "metadata": {},
   "outputs": [
    {
     "name": "stderr",
     "output_type": "stream",
     "text": [
      "\u001b[32m[I 2021-08-29 10:50:14,438]\u001b[0m A new study created in memory with name: no-name-1de0fb81-e4e2-472f-ab6e-fd236b4fe649\u001b[0m\n"
     ]
    }
   ],
   "source": [
    "study = optuna.create_study(direction=\"minimize\", pruner=optuna.pruners.MedianPruner())\n",
    "study.optimize(objective, n_trials=10)"
   ]
  },
  {
   "cell_type": "code",
   "execution_count": null,
   "metadata": {},
   "outputs": [],
   "source": [
    "# 73.63670041849919 с бинами\n",
    "# 73.9315395633810 без бинов\n",
    "# 74.38762034243373 pca + бины\n",
    "# 73.61114198701696 бины+кластер\n",
    "# 73.10832265456563 настраеваемые бины\n",
    "# 0.7147909093792476 kaggle"
   ]
  },
  {
   "cell_type": "code",
   "execution_count": null,
   "metadata": {},
   "outputs": [],
   "source": [
    "best_params = study.best_trial.params\n",
    "best_params"
   ]
  }
 ],
 "metadata": {
  "kernelspec": {
   "display_name": "Python 3",
   "language": "python",
   "name": "python3"
  },
  "language_info": {
   "codemirror_mode": {
    "name": "ipython",
    "version": 3
   },
   "file_extension": ".py",
   "mimetype": "text/x-python",
   "name": "python",
   "nbconvert_exporter": "python",
   "pygments_lexer": "ipython3",
   "version": "3.7.4"
  }
 },
 "nbformat": 4,
 "nbformat_minor": 2
}
